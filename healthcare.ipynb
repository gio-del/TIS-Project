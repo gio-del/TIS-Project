{
 "cells": [
  {
   "attachments": {},
   "cell_type": "markdown",
   "metadata": {},
   "source": [
    "# Introduction\n",
    "\n",
    "In this Jupyter notebook, we will explore how to evaluate and mitigate bias in machine learning models using the Python package DALEX.\n",
    "\n",
    "We will use a diabetes prediction dataset and build a decision tree, random forest, and logistic regression models to predict the presence of diabetes.\n",
    "\n",
    "Then, we will evaluate the models' fairness using different fairness metrics and techniques, including measuring parity loss, visualizing fairness metrics, and using resampling methods to mitigate bias.\n",
    "\n",
    "Finally, we will compare the fairness of the original and mitigated models and assess their trade-offs.\n"
   ]
  },
  {
   "cell_type": "code",
   "execution_count": 18,
   "metadata": {},
   "outputs": [],
   "source": [
    "# Import libraries\n",
    "import pandas as pd\n",
    "import numpy as np\n",
    "import matplotlib.pyplot as plt\n",
    "\n",
    "# Import dataset\n",
    "dataset = pd.read_csv('diabetes.csv')\n"
   ]
  },
  {
   "attachments": {},
   "cell_type": "markdown",
   "metadata": {},
   "source": [
    "# Models\n",
    "\n",
    "This code defines three pipelines using different machine learning algorithms - Decision Tree, Random Forest, and Logistic Regression - to classify the outcome of diabetes based on various features such as age, pregnancies, glucose level, blood pressure, skin thickness, insulin level, BMI, and diabetes pedigree function.\n",
    "\n",
    "First we split the dataset into training and testing sets using the train_test_split function from scikit-learn. Then, it defines the transformers for preprocessing the data using the ColumnTransformer class from scikit-learn. The numerical transformer applies standard scaling to the numerical features, while the categorical transformer applies one-hot encoding to the categorical feature \"AgeCategory\". The ColumnTransformer combines these two transformers and applies them to the corresponding features.\n",
    "\n",
    "Next, the code defines three pipelines using the different machine learning algorithms mentioned earlier. Each pipeline includes the preprocessor defined earlier and the corresponding classifier. The Decision Tree classifier has a maximum depth of 7, while the Random Forest classifier has 200 estimators and a maximum depth of 7. The Logistic Regression classifier uses the default hyperparameters.\n",
    "\n",
    "Finally, the code fits each pipeline to the training data using the fit method of each pipeline.\n"
   ]
  },
  {
   "cell_type": "code",
   "execution_count": 19,
   "metadata": {},
   "outputs": [
    {
     "data": {
      "text/html": [
       "<style>#sk-container-id-3 {color: black;background-color: white;}#sk-container-id-3 pre{padding: 0;}#sk-container-id-3 div.sk-toggleable {background-color: white;}#sk-container-id-3 label.sk-toggleable__label {cursor: pointer;display: block;width: 100%;margin-bottom: 0;padding: 0.3em;box-sizing: border-box;text-align: center;}#sk-container-id-3 label.sk-toggleable__label-arrow:before {content: \"▸\";float: left;margin-right: 0.25em;color: #696969;}#sk-container-id-3 label.sk-toggleable__label-arrow:hover:before {color: black;}#sk-container-id-3 div.sk-estimator:hover label.sk-toggleable__label-arrow:before {color: black;}#sk-container-id-3 div.sk-toggleable__content {max-height: 0;max-width: 0;overflow: hidden;text-align: left;background-color: #f0f8ff;}#sk-container-id-3 div.sk-toggleable__content pre {margin: 0.2em;color: black;border-radius: 0.25em;background-color: #f0f8ff;}#sk-container-id-3 input.sk-toggleable__control:checked~div.sk-toggleable__content {max-height: 200px;max-width: 100%;overflow: auto;}#sk-container-id-3 input.sk-toggleable__control:checked~label.sk-toggleable__label-arrow:before {content: \"▾\";}#sk-container-id-3 div.sk-estimator input.sk-toggleable__control:checked~label.sk-toggleable__label {background-color: #d4ebff;}#sk-container-id-3 div.sk-label input.sk-toggleable__control:checked~label.sk-toggleable__label {background-color: #d4ebff;}#sk-container-id-3 input.sk-hidden--visually {border: 0;clip: rect(1px 1px 1px 1px);clip: rect(1px, 1px, 1px, 1px);height: 1px;margin: -1px;overflow: hidden;padding: 0;position: absolute;width: 1px;}#sk-container-id-3 div.sk-estimator {font-family: monospace;background-color: #f0f8ff;border: 1px dotted black;border-radius: 0.25em;box-sizing: border-box;margin-bottom: 0.5em;}#sk-container-id-3 div.sk-estimator:hover {background-color: #d4ebff;}#sk-container-id-3 div.sk-parallel-item::after {content: \"\";width: 100%;border-bottom: 1px solid gray;flex-grow: 1;}#sk-container-id-3 div.sk-label:hover label.sk-toggleable__label {background-color: #d4ebff;}#sk-container-id-3 div.sk-serial::before {content: \"\";position: absolute;border-left: 1px solid gray;box-sizing: border-box;top: 0;bottom: 0;left: 50%;z-index: 0;}#sk-container-id-3 div.sk-serial {display: flex;flex-direction: column;align-items: center;background-color: white;padding-right: 0.2em;padding-left: 0.2em;position: relative;}#sk-container-id-3 div.sk-item {position: relative;z-index: 1;}#sk-container-id-3 div.sk-parallel {display: flex;align-items: stretch;justify-content: center;background-color: white;position: relative;}#sk-container-id-3 div.sk-item::before, #sk-container-id-3 div.sk-parallel-item::before {content: \"\";position: absolute;border-left: 1px solid gray;box-sizing: border-box;top: 0;bottom: 0;left: 50%;z-index: -1;}#sk-container-id-3 div.sk-parallel-item {display: flex;flex-direction: column;z-index: 1;position: relative;background-color: white;}#sk-container-id-3 div.sk-parallel-item:first-child::after {align-self: flex-end;width: 50%;}#sk-container-id-3 div.sk-parallel-item:last-child::after {align-self: flex-start;width: 50%;}#sk-container-id-3 div.sk-parallel-item:only-child::after {width: 0;}#sk-container-id-3 div.sk-dashed-wrapped {border: 1px dashed gray;margin: 0 0.4em 0.5em 0.4em;box-sizing: border-box;padding-bottom: 0.4em;background-color: white;}#sk-container-id-3 div.sk-label label {font-family: monospace;font-weight: bold;display: inline-block;line-height: 1.2em;}#sk-container-id-3 div.sk-label-container {text-align: center;}#sk-container-id-3 div.sk-container {/* jupyter's `normalize.less` sets `[hidden] { display: none; }` but bootstrap.min.css set `[hidden] { display: none !important; }` so we also need the `!important` here to be able to override the default hidden behavior on the sphinx rendered scikit-learn.org. See: https://github.com/scikit-learn/scikit-learn/issues/21755 */display: inline-block !important;position: relative;}#sk-container-id-3 div.sk-text-repr-fallback {display: none;}</style><div id=\"sk-container-id-3\" class=\"sk-top-container\"><div class=\"sk-text-repr-fallback\"><pre>Pipeline(steps=[(&#x27;preprocessor&#x27;,\n",
       "                 ColumnTransformer(transformers=[(&#x27;num&#x27;,\n",
       "                                                  Pipeline(steps=[(&#x27;scaler&#x27;,\n",
       "                                                                   StandardScaler())]),\n",
       "                                                  [&#x27;Pregnancies&#x27;, &#x27;Glucose&#x27;,\n",
       "                                                   &#x27;BloodPressure&#x27;,\n",
       "                                                   &#x27;SkinThickness&#x27;, &#x27;Insulin&#x27;,\n",
       "                                                   &#x27;BMI&#x27;,\n",
       "                                                   &#x27;DiabetesPedigreeFunction&#x27;,\n",
       "                                                   &#x27;Age&#x27;]),\n",
       "                                                 (&#x27;cat&#x27;,\n",
       "                                                  Pipeline(steps=[(&#x27;onehot&#x27;,\n",
       "                                                                   OneHotEncoder(handle_unknown=&#x27;ignore&#x27;))]),\n",
       "                                                  [&#x27;AgeCategory&#x27;])])),\n",
       "                (&#x27;classifier&#x27;, LogisticRegression())])</pre><b>In a Jupyter environment, please rerun this cell to show the HTML representation or trust the notebook. <br />On GitHub, the HTML representation is unable to render, please try loading this page with nbviewer.org.</b></div><div class=\"sk-container\" hidden><div class=\"sk-item sk-dashed-wrapped\"><div class=\"sk-label-container\"><div class=\"sk-label sk-toggleable\"><input class=\"sk-toggleable__control sk-hidden--visually\" id=\"sk-estimator-id-15\" type=\"checkbox\" ><label for=\"sk-estimator-id-15\" class=\"sk-toggleable__label sk-toggleable__label-arrow\">Pipeline</label><div class=\"sk-toggleable__content\"><pre>Pipeline(steps=[(&#x27;preprocessor&#x27;,\n",
       "                 ColumnTransformer(transformers=[(&#x27;num&#x27;,\n",
       "                                                  Pipeline(steps=[(&#x27;scaler&#x27;,\n",
       "                                                                   StandardScaler())]),\n",
       "                                                  [&#x27;Pregnancies&#x27;, &#x27;Glucose&#x27;,\n",
       "                                                   &#x27;BloodPressure&#x27;,\n",
       "                                                   &#x27;SkinThickness&#x27;, &#x27;Insulin&#x27;,\n",
       "                                                   &#x27;BMI&#x27;,\n",
       "                                                   &#x27;DiabetesPedigreeFunction&#x27;,\n",
       "                                                   &#x27;Age&#x27;]),\n",
       "                                                 (&#x27;cat&#x27;,\n",
       "                                                  Pipeline(steps=[(&#x27;onehot&#x27;,\n",
       "                                                                   OneHotEncoder(handle_unknown=&#x27;ignore&#x27;))]),\n",
       "                                                  [&#x27;AgeCategory&#x27;])])),\n",
       "                (&#x27;classifier&#x27;, LogisticRegression())])</pre></div></div></div><div class=\"sk-serial\"><div class=\"sk-item sk-dashed-wrapped\"><div class=\"sk-label-container\"><div class=\"sk-label sk-toggleable\"><input class=\"sk-toggleable__control sk-hidden--visually\" id=\"sk-estimator-id-16\" type=\"checkbox\" ><label for=\"sk-estimator-id-16\" class=\"sk-toggleable__label sk-toggleable__label-arrow\">preprocessor: ColumnTransformer</label><div class=\"sk-toggleable__content\"><pre>ColumnTransformer(transformers=[(&#x27;num&#x27;,\n",
       "                                 Pipeline(steps=[(&#x27;scaler&#x27;, StandardScaler())]),\n",
       "                                 [&#x27;Pregnancies&#x27;, &#x27;Glucose&#x27;, &#x27;BloodPressure&#x27;,\n",
       "                                  &#x27;SkinThickness&#x27;, &#x27;Insulin&#x27;, &#x27;BMI&#x27;,\n",
       "                                  &#x27;DiabetesPedigreeFunction&#x27;, &#x27;Age&#x27;]),\n",
       "                                (&#x27;cat&#x27;,\n",
       "                                 Pipeline(steps=[(&#x27;onehot&#x27;,\n",
       "                                                  OneHotEncoder(handle_unknown=&#x27;ignore&#x27;))]),\n",
       "                                 [&#x27;AgeCategory&#x27;])])</pre></div></div></div><div class=\"sk-parallel\"><div class=\"sk-parallel-item\"><div class=\"sk-item\"><div class=\"sk-label-container\"><div class=\"sk-label sk-toggleable\"><input class=\"sk-toggleable__control sk-hidden--visually\" id=\"sk-estimator-id-17\" type=\"checkbox\" ><label for=\"sk-estimator-id-17\" class=\"sk-toggleable__label sk-toggleable__label-arrow\">num</label><div class=\"sk-toggleable__content\"><pre>[&#x27;Pregnancies&#x27;, &#x27;Glucose&#x27;, &#x27;BloodPressure&#x27;, &#x27;SkinThickness&#x27;, &#x27;Insulin&#x27;, &#x27;BMI&#x27;, &#x27;DiabetesPedigreeFunction&#x27;, &#x27;Age&#x27;]</pre></div></div></div><div class=\"sk-serial\"><div class=\"sk-item\"><div class=\"sk-serial\"><div class=\"sk-item\"><div class=\"sk-estimator sk-toggleable\"><input class=\"sk-toggleable__control sk-hidden--visually\" id=\"sk-estimator-id-18\" type=\"checkbox\" ><label for=\"sk-estimator-id-18\" class=\"sk-toggleable__label sk-toggleable__label-arrow\">StandardScaler</label><div class=\"sk-toggleable__content\"><pre>StandardScaler()</pre></div></div></div></div></div></div></div></div><div class=\"sk-parallel-item\"><div class=\"sk-item\"><div class=\"sk-label-container\"><div class=\"sk-label sk-toggleable\"><input class=\"sk-toggleable__control sk-hidden--visually\" id=\"sk-estimator-id-19\" type=\"checkbox\" ><label for=\"sk-estimator-id-19\" class=\"sk-toggleable__label sk-toggleable__label-arrow\">cat</label><div class=\"sk-toggleable__content\"><pre>[&#x27;AgeCategory&#x27;]</pre></div></div></div><div class=\"sk-serial\"><div class=\"sk-item\"><div class=\"sk-serial\"><div class=\"sk-item\"><div class=\"sk-estimator sk-toggleable\"><input class=\"sk-toggleable__control sk-hidden--visually\" id=\"sk-estimator-id-20\" type=\"checkbox\" ><label for=\"sk-estimator-id-20\" class=\"sk-toggleable__label sk-toggleable__label-arrow\">OneHotEncoder</label><div class=\"sk-toggleable__content\"><pre>OneHotEncoder(handle_unknown=&#x27;ignore&#x27;)</pre></div></div></div></div></div></div></div></div></div></div><div class=\"sk-item\"><div class=\"sk-estimator sk-toggleable\"><input class=\"sk-toggleable__control sk-hidden--visually\" id=\"sk-estimator-id-21\" type=\"checkbox\" ><label for=\"sk-estimator-id-21\" class=\"sk-toggleable__label sk-toggleable__label-arrow\">LogisticRegression</label><div class=\"sk-toggleable__content\"><pre>LogisticRegression()</pre></div></div></div></div></div></div></div>"
      ],
      "text/plain": [
       "Pipeline(steps=[('preprocessor',\n",
       "                 ColumnTransformer(transformers=[('num',\n",
       "                                                  Pipeline(steps=[('scaler',\n",
       "                                                                   StandardScaler())]),\n",
       "                                                  ['Pregnancies', 'Glucose',\n",
       "                                                   'BloodPressure',\n",
       "                                                   'SkinThickness', 'Insulin',\n",
       "                                                   'BMI',\n",
       "                                                   'DiabetesPedigreeFunction',\n",
       "                                                   'Age']),\n",
       "                                                 ('cat',\n",
       "                                                  Pipeline(steps=[('onehot',\n",
       "                                                                   OneHotEncoder(handle_unknown='ignore'))]),\n",
       "                                                  ['AgeCategory'])])),\n",
       "                ('classifier', LogisticRegression())])"
      ]
     },
     "execution_count": 19,
     "metadata": {},
     "output_type": "execute_result"
    }
   ],
   "source": [
    "from sklearn.compose import ColumnTransformer\n",
    "from sklearn.pipeline import Pipeline\n",
    "from sklearn.preprocessing import OneHotEncoder, StandardScaler\n",
    "from sklearn.model_selection import train_test_split\n",
    "\n",
    "# classifiers\n",
    "from sklearn.tree import DecisionTreeClassifier\n",
    "from sklearn.ensemble import RandomForestClassifier\n",
    "from sklearn.linear_model import LogisticRegression\n",
    "\n",
    "X_train, X_test, y_train, y_test = train_test_split(dataset.drop(\n",
    "    'Outcome', axis=1), dataset['Outcome'], test_size=0.3, random_state=100)\n",
    "\n",
    "categorical_features = ['AgeCategory']\n",
    "categorical_transformer = Pipeline(steps=[\n",
    "    ('onehot', OneHotEncoder(handle_unknown='ignore'))\n",
    "])\n",
    "\n",
    "numerical_features = ['Pregnancies', 'Glucose', 'BloodPressure',\n",
    "                      'SkinThickness', 'Insulin', 'BMI', 'DiabetesPedigreeFunction', 'Age']\n",
    "numerical_transformer = Pipeline(steps=[\n",
    "    ('scaler', StandardScaler())\n",
    "])\n",
    "\n",
    "preprocessor = ColumnTransformer(\n",
    "    transformers=[\n",
    "        ('num', numerical_transformer, numerical_features),\n",
    "        ('cat', categorical_transformer, categorical_features)\n",
    "    ])\n",
    "\n",
    "# Decision Tree\n",
    "dt = Pipeline(steps=[('preprocessor', preprocessor),\n",
    "                     ('classifier', DecisionTreeClassifier(max_depth=7, random_state=100))])\n",
    "\n",
    "dt.fit(X_train, y_train)\n",
    "\n",
    "# Random Forest\n",
    "rf = Pipeline(steps=[('preprocessor', preprocessor),\n",
    "                     ('classifier', RandomForestClassifier(n_estimators=200, max_depth=7, random_state=100))])\n",
    "\n",
    "rf.fit(X_train, y_train)\n",
    "\n",
    "# Logistic Regression\n",
    "lr = Pipeline(steps=[('preprocessor', preprocessor),\n",
    "                     ('classifier', LogisticRegression())])\n",
    "\n",
    "lr.fit(X_train, y_train)\n"
   ]
  },
  {
   "attachments": {},
   "cell_type": "markdown",
   "metadata": {},
   "source": [
    "# Explainers\n",
    "\n",
    "To explain the predictions made by the three classifiers, we use the DALEX library. Specifically, we create an Explainer object for each of the three classifiers, which allows visualizing and analyze the models in more detail.\n"
   ]
  },
  {
   "cell_type": "code",
   "execution_count": 20,
   "metadata": {},
   "outputs": [
    {
     "name": "stdout",
     "output_type": "stream",
     "text": [
      "Preparation of a new explainer is initiated\n",
      "\n",
      "  -> data              : 229 rows 10 cols\n",
      "  -> target variable   : Parameter 'y' was a pandas.Series. Converted to a numpy.ndarray.\n",
      "  -> target variable   : 229 values\n",
      "  -> model_class       : sklearn.tree._classes.DecisionTreeClassifier (default)\n",
      "  -> label             : Decision Tree\n",
      "  -> predict function  : <function yhat_proba_default at 0x000001D7CBD78940> will be used (default)\n",
      "  -> predict function  : Accepts only pandas.DataFrame, numpy.ndarray causes problems.\n",
      "  -> predicted values  : min = 0.0, mean = 0.39, max = 1.0\n",
      "  -> model type        : classification will be used (default)\n",
      "  -> residual function : difference between y and yhat (default)\n",
      "  -> residuals         : min = -1.0, mean = 0.00727, max = 1.0\n",
      "  -> model_info        : package sklearn\n",
      "\n",
      "A new explainer has been created!\n",
      "Preparation of a new explainer is initiated\n",
      "\n",
      "  -> data              : 229 rows 10 cols\n",
      "  -> target variable   : Parameter 'y' was a pandas.Series. Converted to a numpy.ndarray.\n",
      "  -> target variable   : 229 values\n",
      "  -> model_class       : sklearn.ensemble._forest.RandomForestClassifier (default)\n",
      "  -> label             : Random Forest\n",
      "  -> predict function  : <function yhat_proba_default at 0x000001D7CBD78940> will be used (default)\n",
      "  -> predict function  : Accepts only pandas.DataFrame, numpy.ndarray causes problems.\n",
      "  -> predicted values  : min = 0.00106, mean = 0.369, max = 0.871\n",
      "  -> model type        : classification will be used (default)\n",
      "  -> residual function : difference between y and yhat (default)\n",
      "  -> residuals         : min = -0.782, mean = 0.0286, max = 0.979\n",
      "  -> model_info        : package sklearn\n",
      "\n",
      "A new explainer has been created!\n",
      "Preparation of a new explainer is initiated\n",
      "\n",
      "  -> data              : 229 rows 10 cols\n",
      "  -> target variable   : Parameter 'y' was a pandas.Series. Converted to a numpy.ndarray.\n",
      "  -> target variable   : 229 values\n",
      "  -> model_class       : sklearn.linear_model._logistic.LogisticRegression (default)\n",
      "  -> label             : Logistic Regression\n",
      "  -> predict function  : <function yhat_proba_default at 0x000001D7CBD78940> will be used (default)\n",
      "  -> predict function  : Accepts only pandas.DataFrame, numpy.ndarray causes problems.\n",
      "  -> predicted values  : min = 0.0249, mean = 0.364, max = 0.957\n",
      "  -> model type        : classification will be used (default)\n",
      "  -> residual function : difference between y and yhat (default)\n",
      "  -> residuals         : min = -0.878, mean = 0.033, max = 0.93\n",
      "  -> model_info        : package sklearn\n",
      "\n",
      "A new explainer has been created!\n"
     ]
    }
   ],
   "source": [
    "import dalex as dx\n",
    "\n",
    "exp_tree = dx.Explainer(dt, X_test, y_test, label='Decision Tree')\n",
    "exp_forest = dx.Explainer(rf, X_test, y_test, label='Random Forest')\n",
    "exp_logreg = dx.Explainer(lr, X_test, y_test, label='Logistic Regression')"
   ]
  },
  {
   "attachments": {},
   "cell_type": "markdown",
   "metadata": {},
   "source": [
    "# Model Performance Measures\n",
    "\n",
    "This code outputs a table that shows the performance metrics of the three classifiers.\n",
    "In particular the following metrics are calculated:\n",
    "- Recall: the proportion of positive cases that were correctly identified by the classifier (also known as sensitivity or true positive rate)\n",
    "- Precision: the proportion of positive predictions that were correctly identified by the classifier (also known as positive predictive value)\n",
    "- F1: the harmonic mean of recall and precision, which provides a balanced measure of performance that takes into account both false positives and false negatives\n",
    "- Accuracy: the proportion of all predictions that were correct (i.e., the number of true positives and true negatives divided by the total number of predictions)\n",
    "- auc: the area under the receiver operating characteristic (ROC) curve, which provides a measure of how well the classifier can distinguish between positive and negative cases"
   ]
  },
  {
   "cell_type": "code",
   "execution_count": 21,
   "metadata": {},
   "outputs": [
    {
     "data": {
      "text/html": [
       "<div>\n",
       "<style scoped>\n",
       "    .dataframe tbody tr th:only-of-type {\n",
       "        vertical-align: middle;\n",
       "    }\n",
       "\n",
       "    .dataframe tbody tr th {\n",
       "        vertical-align: top;\n",
       "    }\n",
       "\n",
       "    .dataframe thead th {\n",
       "        text-align: right;\n",
       "    }\n",
       "</style>\n",
       "<table border=\"1\" class=\"dataframe\">\n",
       "  <thead>\n",
       "    <tr style=\"text-align: right;\">\n",
       "      <th></th>\n",
       "      <th>recall</th>\n",
       "      <th>precision</th>\n",
       "      <th>f1</th>\n",
       "      <th>accuracy</th>\n",
       "      <th>auc</th>\n",
       "    </tr>\n",
       "  </thead>\n",
       "  <tbody>\n",
       "    <tr>\n",
       "      <th>Logistic Regression</th>\n",
       "      <td>0.560440</td>\n",
       "      <td>0.718310</td>\n",
       "      <td>0.629630</td>\n",
       "      <td>0.737991</td>\n",
       "      <td>0.827441</td>\n",
       "    </tr>\n",
       "    <tr>\n",
       "      <th>Decision Tree</th>\n",
       "      <td>0.582418</td>\n",
       "      <td>0.638554</td>\n",
       "      <td>0.609195</td>\n",
       "      <td>0.703057</td>\n",
       "      <td>0.693423</td>\n",
       "    </tr>\n",
       "    <tr>\n",
       "      <th>Random Forest</th>\n",
       "      <td>0.648352</td>\n",
       "      <td>0.746835</td>\n",
       "      <td>0.694118</td>\n",
       "      <td>0.772926</td>\n",
       "      <td>0.835244</td>\n",
       "    </tr>\n",
       "  </tbody>\n",
       "</table>\n",
       "</div>"
      ],
      "text/plain": [
       "                       recall  precision        f1  accuracy       auc\n",
       "Logistic Regression  0.560440   0.718310  0.629630  0.737991  0.827441\n",
       "Decision Tree        0.582418   0.638554  0.609195  0.703057  0.693423\n",
       "Random Forest        0.648352   0.746835  0.694118  0.772926  0.835244"
      ]
     },
     "execution_count": 21,
     "metadata": {},
     "output_type": "execute_result"
    }
   ],
   "source": [
    "pd.concat([exp.model_performance().result for exp in [\n",
    "          exp_logreg, exp_tree, exp_forest]])"
   ]
  },
  {
   "attachments": {},
   "cell_type": "markdown",
   "metadata": {},
   "source": [
    "# Variable Importance\n",
    "\n",
    "This code cell generates a variable importance plot for the Decision Tree model, comparing it to the variable importance plots for the Random Forest and Logistic Regression models.\n",
    "\n",
    "The `model_parts()` method computes the contributions of each variable to the model prediction for the three models\n"
   ]
  },
  {
   "cell_type": "code",
   "execution_count": 22,
   "metadata": {},
   "outputs": [
    {
     "data": {
      "application/vnd.plotly.v1+json": {
       "config": {
        "displaylogo": false,
        "modeBarButtonsToRemove": [
         "sendDataToCloud",
         "lasso2d",
         "autoScale2d",
         "select2d",
         "zoom2d",
         "pan2d",
         "zoomIn2d",
         "zoomOut2d",
         "resetScale2d",
         "toggleSpikelines",
         "hoverCompareCartesian",
         "hoverClosestCartesian"
        ],
        "plotlyServerURL": "https://plot.ly",
        "staticPlot": false,
        "toImageButtonOptions": {
         "height": null,
         "width": null
        }
       },
       "data": [
        {
         "base": 0.30657748049052386,
         "hoverinfo": "text",
         "hoverlabel": {
          "bgcolor": "rgba(0,0,0,0.8)"
         },
         "hovertext": [
          "Model: Decision Tree loss after<br>variable: Glucose is permuted: 0.415<br>Drop-out loss change: +0.108",
          "Model: Decision Tree loss after<br>variable: BMI is permuted: 0.392<br>Drop-out loss change: +0.085",
          "Model: Decision Tree loss after<br>variable: Pregnancies is permuted: 0.341<br>Drop-out loss change: +0.035",
          "Model: Decision Tree loss after<br>variable: Age is permuted: 0.327<br>Drop-out loss change: +0.02",
          "Model: Decision Tree loss after<br>variable: DiabetesPedigreeFunction is permuted: 0.304<br>Drop-out loss change: -0.003",
          "Model: Decision Tree loss after<br>variable: AgeCategory is permuted: 0.307<br>Drop-out loss change: -0.0",
          "Model: Decision Tree loss after<br>variable: SkinThickness is permuted: 0.31<br>Drop-out loss change: +0.003",
          "Model: Decision Tree loss after<br>variable: Insulin is permuted: 0.311<br>Drop-out loss change: +0.004",
          "Model: Decision Tree loss after<br>variable: Unnamed: 0 is permuted: 0.307<br>Drop-out loss change: -0.0",
          "Model: Decision Tree loss after<br>variable: BloodPressure is permuted: 0.274<br>Drop-out loss change: -0.033"
         ],
         "marker": {
          "color": "#8bdcbe"
         },
         "orientation": "h",
         "showlegend": false,
         "text": [
          "+0.108",
          "+0.085",
          "+0.035",
          "+0.02",
          "0.003",
          "0.0",
          "+0.003",
          "+0.004",
          "0.0",
          "0.033"
         ],
         "textposition": "outside",
         "type": "bar",
         "x": [
          0.10843287147634983,
          0.08544354196528126,
          0.0347388119127251,
          0.020413282369804164,
          -0.00258799171842633,
          0,
          0.0031095715878325936,
          0.004081063863672685,
          0,
          -0.032763975155279346
         ],
         "xaxis": "x",
         "y": [
          "Glucose",
          "BMI",
          "Pregnancies",
          "Age",
          "DiabetesPedigreeFunction",
          "AgeCategory",
          "SkinThickness",
          "Insulin",
          "Unnamed: 0",
          "BloodPressure"
         ],
         "yaxis": "y"
        },
        {
         "base": 0.16475553432075163,
         "hoverinfo": "text",
         "hoverlabel": {
          "bgcolor": "rgba(0,0,0,0.8)"
         },
         "hovertext": [
          "Model: Random Forest loss after<br>variable: Glucose is permuted: 0.334<br>Drop-out loss change: +0.169",
          "Model: Random Forest loss after<br>variable: BMI is permuted: 0.201<br>Drop-out loss change: +0.036",
          "Model: Random Forest loss after<br>variable: Pregnancies is permuted: 0.165<br>Drop-out loss change: +0.0",
          "Model: Random Forest loss after<br>variable: Age is permuted: 0.183<br>Drop-out loss change: +0.018",
          "Model: Random Forest loss after<br>variable: DiabetesPedigreeFunction is permuted: 0.171<br>Drop-out loss change: +0.006",
          "Model: Random Forest loss after<br>variable: AgeCategory is permuted: 0.17<br>Drop-out loss change: +0.005",
          "Model: Random Forest loss after<br>variable: SkinThickness is permuted: 0.163<br>Drop-out loss change: -0.001",
          "Model: Random Forest loss after<br>variable: Insulin is permuted: 0.166<br>Drop-out loss change: +0.001",
          "Model: Random Forest loss after<br>variable: Unnamed: 0 is permuted: 0.165<br>Drop-out loss change: -0.0",
          "Model: Random Forest loss after<br>variable: BloodPressure is permuted: 0.164<br>Drop-out loss change: -0.001"
         ],
         "marker": {
          "color": "#4378bf"
         },
         "orientation": "h",
         "showlegend": false,
         "text": [
          "+0.169",
          "+0.036",
          "+0.0",
          "+0.018",
          "+0.006",
          "+0.005",
          "0.001",
          "+0.001",
          "0.0",
          "0.001"
         ],
         "textposition": "outside",
         "type": "bar",
         "x": [
          0.16938206720815419,
          0.036295588469501594,
          0.00040611562350700847,
          0.01777353081700911,
          0.006091734352603989,
          0.004897276636407155,
          -0.001481127568084023,
          0.0012661251791687145,
          0,
          -0.0007326007326006745
         ],
         "xaxis": "x2",
         "y": [
          "Glucose",
          "BMI",
          "Pregnancies",
          "Age",
          "DiabetesPedigreeFunction",
          "AgeCategory",
          "SkinThickness",
          "Insulin",
          "Unnamed: 0",
          "BloodPressure"
         ],
         "yaxis": "y2"
        },
        {
         "base": 0.17255932473323776,
         "hoverinfo": "text",
         "hoverlabel": {
          "bgcolor": "rgba(0,0,0,0.8)"
         },
         "hovertext": [
          "Model: Logistic Regression loss after<br>variable: Glucose is permuted: 0.382<br>Drop-out loss change: +0.21",
          "Model: Logistic Regression loss after<br>variable: BMI is permuted: 0.22<br>Drop-out loss change: +0.047",
          "Model: Logistic Regression loss after<br>variable: Pregnancies is permuted: 0.177<br>Drop-out loss change: +0.005",
          "Model: Logistic Regression loss after<br>variable: Age is permuted: 0.173<br>Drop-out loss change: +0.001",
          "Model: Logistic Regression loss after<br>variable: DiabetesPedigreeFunction is permuted: 0.184<br>Drop-out loss change: +0.012",
          "Model: Logistic Regression loss after<br>variable: AgeCategory is permuted: 0.178<br>Drop-out loss change: +0.005",
          "Model: Logistic Regression loss after<br>variable: SkinThickness is permuted: 0.174<br>Drop-out loss change: +0.001",
          "Model: Logistic Regression loss after<br>variable: Insulin is permuted: 0.168<br>Drop-out loss change: -0.004",
          "Model: Logistic Regression loss after<br>variable: Unnamed: 0 is permuted: 0.173<br>Drop-out loss change: -0.0",
          "Model: Logistic Regression loss after<br>variable: BloodPressure is permuted: 0.175<br>Drop-out loss change: +0.002"
         ],
         "marker": {
          "color": "#46bac2"
         },
         "orientation": "h",
         "showlegend": false,
         "text": [
          "+0.21",
          "+0.047",
          "+0.005",
          "+0.001",
          "+0.012",
          "+0.005",
          "+0.001",
          "0.004",
          "0.0",
          "+0.002"
         ],
         "textposition": "outside",
         "type": "bar",
         "x": [
          0.20957158783245744,
          0.047268673355629925,
          0.004674311196050329,
          0.0005175983436853382,
          0.011697722567287738,
          0.00497690715082022,
          0.0011546424589903015,
          -0.004204491161012874,
          0,
          0.0019748367574454195
         ],
         "xaxis": "x3",
         "y": [
          "Glucose",
          "BMI",
          "Pregnancies",
          "Age",
          "DiabetesPedigreeFunction",
          "AgeCategory",
          "SkinThickness",
          "Insulin",
          "Unnamed: 0",
          "BloodPressure"
         ],
         "yaxis": "y3"
        }
       ],
       "layout": {
        "annotations": [
         {
          "font": {
           "size": 16
          },
          "showarrow": false,
          "text": "Decision Tree",
          "x": 0.5,
          "xanchor": "center",
          "xref": "paper",
          "y": 1,
          "yanchor": "bottom",
          "yref": "paper"
         },
         {
          "font": {
           "size": 16
          },
          "showarrow": false,
          "text": "Random Forest",
          "x": 0.5,
          "xanchor": "center",
          "xref": "paper",
          "y": 0.6444444444444445,
          "yanchor": "bottom",
          "yref": "paper"
         },
         {
          "font": {
           "size": 16
          },
          "showarrow": false,
          "text": "Logistic Regression",
          "x": 0.5,
          "xanchor": "center",
          "xref": "paper",
          "y": 0.2888888888888889,
          "yanchor": "bottom",
          "yref": "paper"
         },
         {
          "font": {
           "size": 16
          },
          "showarrow": false,
          "text": "drop-out loss",
          "x": 0.5,
          "xanchor": "center",
          "xref": "paper",
          "y": 0,
          "yanchor": "top",
          "yref": "paper",
          "yshift": -30
         }
        ],
        "font": {
         "color": "#371ea3"
        },
        "height": 991,
        "margin": {
         "b": 71,
         "r": 30,
         "t": 78
        },
        "shapes": [
         {
          "line": {
           "color": "#371ea3",
           "dash": "dot",
           "width": 1.5
          },
          "type": "line",
          "x0": 0.30657748049052386,
          "x1": 0.30657748049052386,
          "xref": "x",
          "y0": -1,
          "y1": 10,
          "yref": "y"
         },
         {
          "line": {
           "color": "#371ea3",
           "dash": "dot",
           "width": 1.5
          },
          "type": "line",
          "x0": 0.16475553432075163,
          "x1": 0.16475553432075163,
          "xref": "x2",
          "y0": -1,
          "y1": 10,
          "yref": "y2"
         },
         {
          "line": {
           "color": "#371ea3",
           "dash": "dot",
           "width": 1.5
          },
          "type": "line",
          "x0": 0.17255932473323776,
          "x1": 0.17255932473323776,
          "xref": "x3",
          "y0": -1,
          "y1": 10,
          "yref": "y3"
         }
        ],
        "template": {
         "data": {
          "scatter": [
           {
            "type": "scatter"
           }
          ]
         }
        },
        "title": {
         "text": "Variable Importance",
         "x": 0.15
        },
        "xaxis": {
         "anchor": "y",
         "automargin": true,
         "domain": [
          0,
          1
         ],
         "fixedrange": true,
         "gridwidth": 2,
         "matches": "x3",
         "range": [
          0.1255140149705367,
          0.4527707437490046
         ],
         "showticklabels": false,
         "tickcolor": "white",
         "ticklen": 3,
         "ticks": "outside",
         "type": "linear",
         "zeroline": false
        },
        "xaxis2": {
         "anchor": "y2",
         "automargin": true,
         "domain": [
          0,
          1
         ],
         "fixedrange": true,
         "gridwidth": 2,
         "matches": "x3",
         "range": [
          0.1255140149705367,
          0.4527707437490046
         ],
         "showticklabels": false,
         "tickcolor": "white",
         "ticklen": 3,
         "ticks": "outside",
         "type": "linear",
         "zeroline": false
        },
        "xaxis3": {
         "anchor": "y3",
         "automargin": true,
         "domain": [
          0,
          1
         ],
         "fixedrange": true,
         "gridwidth": 2,
         "range": [
          0.1255140149705367,
          0.4527707437490046
         ],
         "tickcolor": "white",
         "ticklen": 3,
         "ticks": "outside",
         "type": "linear",
         "zeroline": false
        },
        "yaxis": {
         "anchor": "x",
         "automargin": true,
         "autorange": "reversed",
         "domain": [
          0.7111111111111111,
          1
         ],
         "fixedrange": true,
         "gridwidth": 2,
         "tickcolor": "white",
         "ticklen": 10,
         "ticks": "outside",
         "type": "category"
        },
        "yaxis2": {
         "anchor": "x2",
         "automargin": true,
         "autorange": "reversed",
         "domain": [
          0.35555555555555557,
          0.6444444444444445
         ],
         "fixedrange": true,
         "gridwidth": 2,
         "tickcolor": "white",
         "ticklen": 10,
         "ticks": "outside",
         "type": "category"
        },
        "yaxis3": {
         "anchor": "x3",
         "automargin": true,
         "autorange": "reversed",
         "domain": [
          0,
          0.2888888888888889
         ],
         "fixedrange": true,
         "gridwidth": 2,
         "tickcolor": "white",
         "ticklen": 10,
         "ticks": "outside",
         "type": "category"
        }
       }
      }
     },
     "metadata": {},
     "output_type": "display_data"
    }
   ],
   "source": [
    "exp_tree.model_parts().plot(\n",
    "    objects=[exp_forest.model_parts(), exp_logreg.model_parts()])"
   ]
  },
  {
   "attachments": {},
   "cell_type": "markdown",
   "metadata": {},
   "source": [
    "# Fairness: Age\n",
    "\n",
    "We define a binary protected attribute based on the age attribute. We set the age threshold to 50, and define all individuals with an age greater than 50 as \"old\" and all others as \"young\".\n",
    "\n",
    "We also define \"old\" as the privileged group.\n",
    "\n",
    "We then use the `model_fairness()` method from DALEX to compute fairness metrics for each model, based on the protected attribute and privileged group defined above.\n",
    "The results are `FairnessResult` objects that store various fairness metrics:\n",
    "\n",
    "\n",
    "- True Positive Rate (**TPR**): the proportion of positive cases that were correctly identified by the classifier (also known as sensitivity or recall)\n",
    "- Accuracy (**ACC**): the proportion of all predictions that were correct (i.e., the number of true positives and true negatives divided by the total number of predictions)\n",
    "- Positive Predictive Value (**PPV**): the proportion of positive predictions that were correctly identified by the classifier (also known as precision)\n",
    "- False Positive Rate (**FPR**): the proportion of negative cases that were incorrectly identified by the classifier (also known as fall-out)\n",
    "- Statistical Parity (**STP**): the difference between the probability of a positive outcome for the privileged group and the probability of a positive outcome for the unprivileged group\n",
    "\n",
    "\n",
    " Metrics are calculated for each subgroup, and then their scores are divided by the score of the privileged subgroup"
   ]
  },
  {
   "cell_type": "code",
   "execution_count": 23,
   "metadata": {},
   "outputs": [],
   "source": [
    "protected = np.where(X_test.Age > 50, 'old', 'young')\n",
    "privileged = 'old'\n",
    "\n",
    "mf_tree = exp_tree.model_fairness(protected=protected,\n",
    "                                  privileged=privileged)\n",
    "mf_forest = exp_forest.model_fairness(protected=protected,\n",
    "                                      privileged=privileged)\n",
    "mf_logreg = exp_logreg.model_fairness(protected=protected,\n",
    "                                      privileged=privileged)\n"
   ]
  },
  {
   "cell_type": "code",
   "execution_count": 24,
   "metadata": {},
   "outputs": [
    {
     "name": "stdout",
     "output_type": "stream",
     "text": [
      "Bias detected in 2 metrics: FPR, STP\n",
      "\n",
      "Conclusion: your model is not fair because 2 or more criteria exceeded acceptable limits set by epsilon.\n",
      "\n",
      "Ratios of metrics, based on 'old'. Parameter 'epsilon' was set to 0.8 and therefore metrics should be within (0.8, 1.25)\n",
      "            TPR       ACC       PPV       FPR    STP\n",
      "young  0.938211  1.110937  0.950525  0.618619  0.725\n"
     ]
    }
   ],
   "source": [
    "mf_tree.fairness_check()\n"
   ]
  },
  {
   "cell_type": "code",
   "execution_count": 25,
   "metadata": {},
   "outputs": [
    {
     "name": "stdout",
     "output_type": "stream",
     "text": [
      "Bias detected in 1 metric: STP\n",
      "\n",
      "Conclusion: your model cannot be called fair because 1 criterion exceeded acceptable limits set by epsilon.\n",
      "It does not mean that your model is unfair but it cannot be automatically approved based on these metrics.\n",
      "\n",
      "Ratios of metrics, based on 'old'. Parameter 'epsilon' was set to 0.8 and therefore metrics should be within (0.8, 1.25)\n",
      "            TPR     ACC       PPV       FPR       STP\n",
      "young  0.816645  0.9625  0.877551  0.856287  0.683333\n"
     ]
    }
   ],
   "source": [
    "mf_forest.fairness_check()\n"
   ]
  },
  {
   "cell_type": "code",
   "execution_count": 26,
   "metadata": {},
   "outputs": [
    {
     "name": "stdout",
     "output_type": "stream",
     "text": [
      "Bias detected in 3 metrics: TPR, FPR, STP\n",
      "\n",
      "Conclusion: your model is not fair because 2 or more criteria exceeded acceptable limits set by epsilon.\n",
      "\n",
      "Ratios of metrics, based on 'old'. Parameter 'epsilon' was set to 0.8 and therefore metrics should be within (0.8, 1.25)\n",
      "            TPR       ACC       PPV       FPR       STP\n",
      "young  0.606383  1.027778  1.056686  0.285372  0.421875\n"
     ]
    }
   ],
   "source": [
    "mf_logreg.fairness_check()\n"
   ]
  },
  {
   "attachments": {},
   "cell_type": "markdown",
   "metadata": {},
   "source": [
    "### Visualize the result\n"
   ]
  },
  {
   "cell_type": "code",
   "execution_count": 27,
   "metadata": {},
   "outputs": [
    {
     "data": {
      "application/vnd.plotly.v1+json": {
       "config": {
        "displaylogo": false,
        "modeBarButtonsToRemove": [
         "sendDataToCloud",
         "lasso2d",
         "autoScale2d",
         "select2d",
         "zoom2d",
         "pan2d",
         "zoomIn2d",
         "zoomOut2d",
         "resetScale2d",
         "toggleSpikelines",
         "hoverCompareCartesian",
         "hoverClosestCartesian"
        ],
        "plotlyServerURL": "https://plot.ly",
        "staticPlot": false,
        "toImageButtonOptions": {
         "height": null,
         "width": null
        }
       },
       "data": [
        {
         "alignmentgroup": "True",
         "customdata": [
          [
           "young",
           0.938,
           "Decision Tree"
          ]
         ],
         "hovertemplate": "<b>%{customdata[2]}</b><br>Subgroup: %{customdata[0]}<br>Score: %{customdata[1]}<br><extra></extra>",
         "legendgroup": "Decision Tree",
         "marker": {
          "color": "#8bdcbe",
          "pattern": {
           "shape": ""
          }
         },
         "name": "Decision Tree",
         "offsetgroup": "Decision Tree",
         "orientation": "h",
         "showlegend": true,
         "textposition": "auto",
         "type": "bar",
         "x": [
          -0.061788617886178954
         ],
         "xaxis": "x5",
         "y": [
          0.5
         ],
         "yaxis": "y5"
        },
        {
         "alignmentgroup": "True",
         "customdata": [
          [
           "young",
           0.951,
           "Decision Tree"
          ]
         ],
         "hovertemplate": "<b>%{customdata[2]}</b><br>Subgroup: %{customdata[0]}<br>Score: %{customdata[1]}<br><extra></extra>",
         "legendgroup": "Decision Tree",
         "marker": {
          "color": "#8bdcbe",
          "pattern": {
           "shape": ""
          }
         },
         "name": "Decision Tree",
         "offsetgroup": "Decision Tree",
         "orientation": "h",
         "showlegend": false,
         "textposition": "auto",
         "type": "bar",
         "x": [
          -0.04947526236881561
         ],
         "xaxis": "x4",
         "y": [
          0.5
         ],
         "yaxis": "y4"
        },
        {
         "alignmentgroup": "True",
         "customdata": [
          [
           "young",
           0.619,
           "Decision Tree"
          ]
         ],
         "hovertemplate": "<b>%{customdata[2]}</b><br>Subgroup: %{customdata[0]}<br>Score: %{customdata[1]}<br><extra></extra>",
         "legendgroup": "Decision Tree",
         "marker": {
          "color": "#8bdcbe",
          "pattern": {
           "shape": ""
          }
         },
         "name": "Decision Tree",
         "offsetgroup": "Decision Tree",
         "orientation": "h",
         "showlegend": false,
         "textposition": "auto",
         "type": "bar",
         "x": [
          -0.38138138138138145
         ],
         "xaxis": "x3",
         "y": [
          0.5
         ],
         "yaxis": "y3"
        },
        {
         "alignmentgroup": "True",
         "customdata": [
          [
           "young",
           1.111,
           "Decision Tree"
          ]
         ],
         "hovertemplate": "<b>%{customdata[2]}</b><br>Subgroup: %{customdata[0]}<br>Score: %{customdata[1]}<br><extra></extra>",
         "legendgroup": "Decision Tree",
         "marker": {
          "color": "#8bdcbe",
          "pattern": {
           "shape": ""
          }
         },
         "name": "Decision Tree",
         "offsetgroup": "Decision Tree",
         "orientation": "h",
         "showlegend": false,
         "textposition": "auto",
         "type": "bar",
         "x": [
          0.11093749999999991
         ],
         "xaxis": "x2",
         "y": [
          0.5
         ],
         "yaxis": "y2"
        },
        {
         "alignmentgroup": "True",
         "customdata": [
          [
           "young",
           0.725,
           "Decision Tree"
          ]
         ],
         "hovertemplate": "<b>%{customdata[2]}</b><br>Subgroup: %{customdata[0]}<br>Score: %{customdata[1]}<br><extra></extra>",
         "legendgroup": "Decision Tree",
         "marker": {
          "color": "#8bdcbe",
          "pattern": {
           "shape": ""
          }
         },
         "name": "Decision Tree",
         "offsetgroup": "Decision Tree",
         "orientation": "h",
         "showlegend": false,
         "textposition": "auto",
         "type": "bar",
         "x": [
          -0.275
         ],
         "xaxis": "x",
         "y": [
          0.5
         ],
         "yaxis": "y"
        },
        {
         "alignmentgroup": "True",
         "customdata": [
          [
           "young",
           0.817,
           "Random Forest"
          ]
         ],
         "hovertemplate": "<b>%{customdata[2]}</b><br>Subgroup: %{customdata[0]}<br>Score: %{customdata[1]}<br><extra></extra>",
         "legendgroup": "Random Forest",
         "marker": {
          "color": "#f05a71",
          "pattern": {
           "shape": ""
          }
         },
         "name": "Random Forest",
         "offsetgroup": "Random Forest",
         "orientation": "h",
         "showlegend": true,
         "textposition": "auto",
         "type": "bar",
         "x": [
          -0.18335500650195058
         ],
         "xaxis": "x5",
         "y": [
          0.5
         ],
         "yaxis": "y5"
        },
        {
         "alignmentgroup": "True",
         "customdata": [
          [
           "young",
           0.878,
           "Random Forest"
          ]
         ],
         "hovertemplate": "<b>%{customdata[2]}</b><br>Subgroup: %{customdata[0]}<br>Score: %{customdata[1]}<br><extra></extra>",
         "legendgroup": "Random Forest",
         "marker": {
          "color": "#f05a71",
          "pattern": {
           "shape": ""
          }
         },
         "name": "Random Forest",
         "offsetgroup": "Random Forest",
         "orientation": "h",
         "showlegend": false,
         "textposition": "auto",
         "type": "bar",
         "x": [
          -0.12244897959183676
         ],
         "xaxis": "x4",
         "y": [
          0.5
         ],
         "yaxis": "y4"
        },
        {
         "alignmentgroup": "True",
         "customdata": [
          [
           "young",
           0.856,
           "Random Forest"
          ]
         ],
         "hovertemplate": "<b>%{customdata[2]}</b><br>Subgroup: %{customdata[0]}<br>Score: %{customdata[1]}<br><extra></extra>",
         "legendgroup": "Random Forest",
         "marker": {
          "color": "#f05a71",
          "pattern": {
           "shape": ""
          }
         },
         "name": "Random Forest",
         "offsetgroup": "Random Forest",
         "orientation": "h",
         "showlegend": false,
         "textposition": "auto",
         "type": "bar",
         "x": [
          -0.14371257485029953
         ],
         "xaxis": "x3",
         "y": [
          0.5
         ],
         "yaxis": "y3"
        },
        {
         "alignmentgroup": "True",
         "customdata": [
          [
           "young",
           0.962,
           "Random Forest"
          ]
         ],
         "hovertemplate": "<b>%{customdata[2]}</b><br>Subgroup: %{customdata[0]}<br>Score: %{customdata[1]}<br><extra></extra>",
         "legendgroup": "Random Forest",
         "marker": {
          "color": "#f05a71",
          "pattern": {
           "shape": ""
          }
         },
         "name": "Random Forest",
         "offsetgroup": "Random Forest",
         "orientation": "h",
         "showlegend": false,
         "textposition": "auto",
         "type": "bar",
         "x": [
          -0.03749999999999998
         ],
         "xaxis": "x2",
         "y": [
          0.5
         ],
         "yaxis": "y2"
        },
        {
         "alignmentgroup": "True",
         "customdata": [
          [
           "young",
           0.683,
           "Random Forest"
          ]
         ],
         "hovertemplate": "<b>%{customdata[2]}</b><br>Subgroup: %{customdata[0]}<br>Score: %{customdata[1]}<br><extra></extra>",
         "legendgroup": "Random Forest",
         "marker": {
          "color": "#f05a71",
          "pattern": {
           "shape": ""
          }
         },
         "name": "Random Forest",
         "offsetgroup": "Random Forest",
         "orientation": "h",
         "showlegend": false,
         "textposition": "auto",
         "type": "bar",
         "x": [
          -0.31666666666666665
         ],
         "xaxis": "x",
         "y": [
          0.5
         ],
         "yaxis": "y"
        },
        {
         "alignmentgroup": "True",
         "customdata": [
          [
           "young",
           0.606,
           "Logistic Regression"
          ]
         ],
         "hovertemplate": "<b>%{customdata[2]}</b><br>Subgroup: %{customdata[0]}<br>Score: %{customdata[1]}<br><extra></extra>",
         "legendgroup": "Logistic Regression",
         "marker": {
          "color": "#4378bf",
          "pattern": {
           "shape": ""
          }
         },
         "name": "Logistic Regression",
         "offsetgroup": "Logistic Regression",
         "orientation": "h",
         "showlegend": true,
         "textposition": "auto",
         "type": "bar",
         "x": [
          -0.3936170212765957
         ],
         "xaxis": "x5",
         "y": [
          0.5
         ],
         "yaxis": "y5"
        },
        {
         "alignmentgroup": "True",
         "customdata": [
          [
           "young",
           1.057,
           "Logistic Regression"
          ]
         ],
         "hovertemplate": "<b>%{customdata[2]}</b><br>Subgroup: %{customdata[0]}<br>Score: %{customdata[1]}<br><extra></extra>",
         "legendgroup": "Logistic Regression",
         "marker": {
          "color": "#4378bf",
          "pattern": {
           "shape": ""
          }
         },
         "name": "Logistic Regression",
         "offsetgroup": "Logistic Regression",
         "orientation": "h",
         "showlegend": false,
         "textposition": "auto",
         "type": "bar",
         "x": [
          0.0566860465116279
         ],
         "xaxis": "x4",
         "y": [
          0.5
         ],
         "yaxis": "y4"
        },
        {
         "alignmentgroup": "True",
         "customdata": [
          [
           "young",
           0.285,
           "Logistic Regression"
          ]
         ],
         "hovertemplate": "<b>%{customdata[2]}</b><br>Subgroup: %{customdata[0]}<br>Score: %{customdata[1]}<br><extra></extra>",
         "legendgroup": "Logistic Regression",
         "marker": {
          "color": "#4378bf",
          "pattern": {
           "shape": ""
          }
         },
         "name": "Logistic Regression",
         "offsetgroup": "Logistic Regression",
         "orientation": "h",
         "showlegend": false,
         "textposition": "auto",
         "type": "bar",
         "x": [
          -0.7146282973621103
         ],
         "xaxis": "x3",
         "y": [
          0.5
         ],
         "yaxis": "y3"
        },
        {
         "alignmentgroup": "True",
         "customdata": [
          [
           "young",
           1.028,
           "Logistic Regression"
          ]
         ],
         "hovertemplate": "<b>%{customdata[2]}</b><br>Subgroup: %{customdata[0]}<br>Score: %{customdata[1]}<br><extra></extra>",
         "legendgroup": "Logistic Regression",
         "marker": {
          "color": "#4378bf",
          "pattern": {
           "shape": ""
          }
         },
         "name": "Logistic Regression",
         "offsetgroup": "Logistic Regression",
         "orientation": "h",
         "showlegend": false,
         "textposition": "auto",
         "type": "bar",
         "x": [
          0.0277777777777779
         ],
         "xaxis": "x2",
         "y": [
          0.5
         ],
         "yaxis": "y2"
        },
        {
         "alignmentgroup": "True",
         "customdata": [
          [
           "young",
           0.422,
           "Logistic Regression"
          ]
         ],
         "hovertemplate": "<b>%{customdata[2]}</b><br>Subgroup: %{customdata[0]}<br>Score: %{customdata[1]}<br><extra></extra>",
         "legendgroup": "Logistic Regression",
         "marker": {
          "color": "#4378bf",
          "pattern": {
           "shape": ""
          }
         },
         "name": "Logistic Regression",
         "offsetgroup": "Logistic Regression",
         "orientation": "h",
         "showlegend": false,
         "textposition": "auto",
         "type": "bar",
         "x": [
          -0.578125
         ],
         "xaxis": "x",
         "y": [
          0.5
         ],
         "yaxis": "y"
        }
       ],
       "layout": {
        "annotations": [
         {
          "font": {
           "size": 15
          },
          "showarrow": false,
          "text": "Statistical parity ratio   (TP + FP)/(TP + FP + TN + FN)",
          "x": 0.05,
          "xanchor": "left",
          "xref": "paper",
          "y": 0.144,
          "yanchor": "bottom",
          "yref": "paper"
         },
         {
          "font": {
           "size": 15
          },
          "showarrow": false,
          "text": "Accuracy equality ratio    (TP + TN)/(TP + FP + TN + FN)",
          "x": 0.05,
          "xanchor": "left",
          "xref": "paper",
          "y": 0.358,
          "yanchor": "bottom",
          "yref": "paper"
         },
         {
          "font": {
           "size": 15
          },
          "showarrow": false,
          "text": "Predictive equality ratio   FP/(FP + TN)",
          "x": 0.05,
          "xanchor": "left",
          "xref": "paper",
          "y": 0.572,
          "yanchor": "bottom",
          "yref": "paper"
         },
         {
          "font": {
           "size": 15
          },
          "showarrow": false,
          "text": "Predictive parity ratio     TP/(TP + FP)",
          "x": 0.05,
          "xanchor": "left",
          "xref": "paper",
          "y": 0.7859999999999999,
          "yanchor": "bottom",
          "yref": "paper"
         },
         {
          "font": {
           "size": 15
          },
          "showarrow": false,
          "text": "Equal opportunity ratio     TP/(TP + FN)",
          "x": 0.05,
          "xanchor": "left",
          "xref": "paper",
          "y": 1,
          "yanchor": "bottom",
          "yref": "paper"
         }
        ],
        "barmode": "group",
        "font": {
         "color": "#371ea3"
        },
        "legend": {
         "title": {
          "text": "label"
         },
         "tracegroupgap": 0
        },
        "margin": {
         "b": 71,
         "r": 30,
         "t": 78
        },
        "shapes": [
         {
          "fillcolor": "#f05a71",
          "layer": "below",
          "line": {
           "width": 0
          },
          "opacity": 0.1,
          "type": "rect",
          "x0": 0.25,
          "x1": 0.3,
          "xref": "x",
          "y0": 0,
          "y1": 1,
          "yref": "y"
         },
         {
          "fillcolor": "#f05a71",
          "layer": "below",
          "line": {
           "width": 0
          },
          "opacity": 0.1,
          "type": "rect",
          "x0": -0.7860911270983214,
          "x1": -0.19999999999999996,
          "xref": "x",
          "y0": 0,
          "y1": 1,
          "yref": "y"
         },
         {
          "fillcolor": "#c7f5bf",
          "layer": "below",
          "line": {
           "width": 0
          },
          "opacity": 0.1,
          "type": "rect",
          "x0": -0.19999999999999996,
          "x1": 0.25,
          "xref": "x",
          "y0": 0,
          "y1": 1,
          "yref": "y"
         },
         {
          "line": {
           "color": "#371ea3",
           "width": 1.5
          },
          "type": "line",
          "x0": 0,
          "x1": 0,
          "xref": "x",
          "y0": 0,
          "y1": 1,
          "yref": "y"
         },
         {
          "fillcolor": "#f05a71",
          "layer": "below",
          "line": {
           "width": 0
          },
          "opacity": 0.1,
          "type": "rect",
          "x0": 0.25,
          "x1": 0.3,
          "xref": "x",
          "y0": 0,
          "y1": 1,
          "yref": "y2"
         },
         {
          "fillcolor": "#f05a71",
          "layer": "below",
          "line": {
           "width": 0
          },
          "opacity": 0.1,
          "type": "rect",
          "x0": -0.7860911270983214,
          "x1": -0.19999999999999996,
          "xref": "x",
          "y0": 0,
          "y1": 1,
          "yref": "y2"
         },
         {
          "fillcolor": "#c7f5bf",
          "layer": "below",
          "line": {
           "width": 0
          },
          "opacity": 0.1,
          "type": "rect",
          "x0": -0.19999999999999996,
          "x1": 0.25,
          "xref": "x",
          "y0": 0,
          "y1": 1,
          "yref": "y2"
         },
         {
          "line": {
           "color": "#371ea3",
           "width": 1.5
          },
          "type": "line",
          "x0": 0,
          "x1": 0,
          "xref": "x",
          "y0": 0,
          "y1": 1,
          "yref": "y2"
         },
         {
          "fillcolor": "#f05a71",
          "layer": "below",
          "line": {
           "width": 0
          },
          "opacity": 0.1,
          "type": "rect",
          "x0": 0.25,
          "x1": 0.3,
          "xref": "x",
          "y0": 0,
          "y1": 1,
          "yref": "y3"
         },
         {
          "fillcolor": "#f05a71",
          "layer": "below",
          "line": {
           "width": 0
          },
          "opacity": 0.1,
          "type": "rect",
          "x0": -0.7860911270983214,
          "x1": -0.19999999999999996,
          "xref": "x",
          "y0": 0,
          "y1": 1,
          "yref": "y3"
         },
         {
          "fillcolor": "#c7f5bf",
          "layer": "below",
          "line": {
           "width": 0
          },
          "opacity": 0.1,
          "type": "rect",
          "x0": -0.19999999999999996,
          "x1": 0.25,
          "xref": "x",
          "y0": 0,
          "y1": 1,
          "yref": "y3"
         },
         {
          "line": {
           "color": "#371ea3",
           "width": 1.5
          },
          "type": "line",
          "x0": 0,
          "x1": 0,
          "xref": "x",
          "y0": 0,
          "y1": 1,
          "yref": "y3"
         },
         {
          "fillcolor": "#f05a71",
          "layer": "below",
          "line": {
           "width": 0
          },
          "opacity": 0.1,
          "type": "rect",
          "x0": 0.25,
          "x1": 0.3,
          "xref": "x",
          "y0": 0,
          "y1": 1,
          "yref": "y4"
         },
         {
          "fillcolor": "#f05a71",
          "layer": "below",
          "line": {
           "width": 0
          },
          "opacity": 0.1,
          "type": "rect",
          "x0": -0.7860911270983214,
          "x1": -0.19999999999999996,
          "xref": "x",
          "y0": 0,
          "y1": 1,
          "yref": "y4"
         },
         {
          "fillcolor": "#c7f5bf",
          "layer": "below",
          "line": {
           "width": 0
          },
          "opacity": 0.1,
          "type": "rect",
          "x0": -0.19999999999999996,
          "x1": 0.25,
          "xref": "x",
          "y0": 0,
          "y1": 1,
          "yref": "y4"
         },
         {
          "line": {
           "color": "#371ea3",
           "width": 1.5
          },
          "type": "line",
          "x0": 0,
          "x1": 0,
          "xref": "x",
          "y0": 0,
          "y1": 1,
          "yref": "y4"
         },
         {
          "fillcolor": "#f05a71",
          "layer": "below",
          "line": {
           "width": 0
          },
          "opacity": 0.1,
          "type": "rect",
          "x0": 0.25,
          "x1": 0.3,
          "xref": "x",
          "y0": 0,
          "y1": 1,
          "yref": "y5"
         },
         {
          "fillcolor": "#f05a71",
          "layer": "below",
          "line": {
           "width": 0
          },
          "opacity": 0.1,
          "type": "rect",
          "x0": -0.7860911270983214,
          "x1": -0.19999999999999996,
          "xref": "x",
          "y0": 0,
          "y1": 1,
          "yref": "y5"
         },
         {
          "fillcolor": "#c7f5bf",
          "layer": "below",
          "line": {
           "width": 0
          },
          "opacity": 0.1,
          "type": "rect",
          "x0": -0.19999999999999996,
          "x1": 0.25,
          "xref": "x",
          "y0": 0,
          "y1": 1,
          "yref": "y5"
         },
         {
          "line": {
           "color": "#371ea3",
           "width": 1.5
          },
          "type": "line",
          "x0": 0,
          "x1": 0,
          "xref": "x",
          "y0": 0,
          "y1": 1,
          "yref": "y5"
         }
        ],
        "template": {
         "data": {
          "bar": [
           {
            "error_x": {
             "color": "#2a3f5f"
            },
            "error_y": {
             "color": "#2a3f5f"
            },
            "marker": {
             "line": {
              "color": "white",
              "width": 0.5
             },
             "pattern": {
              "fillmode": "overlay",
              "size": 10,
              "solidity": 0.2
             }
            },
            "type": "bar"
           }
          ],
          "barpolar": [
           {
            "marker": {
             "line": {
              "color": "white",
              "width": 0.5
             },
             "pattern": {
              "fillmode": "overlay",
              "size": 10,
              "solidity": 0.2
             }
            },
            "type": "barpolar"
           }
          ],
          "carpet": [
           {
            "aaxis": {
             "endlinecolor": "#2a3f5f",
             "gridcolor": "#C8D4E3",
             "linecolor": "#C8D4E3",
             "minorgridcolor": "#C8D4E3",
             "startlinecolor": "#2a3f5f"
            },
            "baxis": {
             "endlinecolor": "#2a3f5f",
             "gridcolor": "#C8D4E3",
             "linecolor": "#C8D4E3",
             "minorgridcolor": "#C8D4E3",
             "startlinecolor": "#2a3f5f"
            },
            "type": "carpet"
           }
          ],
          "choropleth": [
           {
            "colorbar": {
             "outlinewidth": 0,
             "ticks": ""
            },
            "type": "choropleth"
           }
          ],
          "contour": [
           {
            "colorbar": {
             "outlinewidth": 0,
             "ticks": ""
            },
            "colorscale": [
             [
              0,
              "#0d0887"
             ],
             [
              0.1111111111111111,
              "#46039f"
             ],
             [
              0.2222222222222222,
              "#7201a8"
             ],
             [
              0.3333333333333333,
              "#9c179e"
             ],
             [
              0.4444444444444444,
              "#bd3786"
             ],
             [
              0.5555555555555556,
              "#d8576b"
             ],
             [
              0.6666666666666666,
              "#ed7953"
             ],
             [
              0.7777777777777778,
              "#fb9f3a"
             ],
             [
              0.8888888888888888,
              "#fdca26"
             ],
             [
              1,
              "#f0f921"
             ]
            ],
            "type": "contour"
           }
          ],
          "contourcarpet": [
           {
            "colorbar": {
             "outlinewidth": 0,
             "ticks": ""
            },
            "type": "contourcarpet"
           }
          ],
          "heatmap": [
           {
            "colorbar": {
             "outlinewidth": 0,
             "ticks": ""
            },
            "colorscale": [
             [
              0,
              "#0d0887"
             ],
             [
              0.1111111111111111,
              "#46039f"
             ],
             [
              0.2222222222222222,
              "#7201a8"
             ],
             [
              0.3333333333333333,
              "#9c179e"
             ],
             [
              0.4444444444444444,
              "#bd3786"
             ],
             [
              0.5555555555555556,
              "#d8576b"
             ],
             [
              0.6666666666666666,
              "#ed7953"
             ],
             [
              0.7777777777777778,
              "#fb9f3a"
             ],
             [
              0.8888888888888888,
              "#fdca26"
             ],
             [
              1,
              "#f0f921"
             ]
            ],
            "type": "heatmap"
           }
          ],
          "heatmapgl": [
           {
            "colorbar": {
             "outlinewidth": 0,
             "ticks": ""
            },
            "colorscale": [
             [
              0,
              "#0d0887"
             ],
             [
              0.1111111111111111,
              "#46039f"
             ],
             [
              0.2222222222222222,
              "#7201a8"
             ],
             [
              0.3333333333333333,
              "#9c179e"
             ],
             [
              0.4444444444444444,
              "#bd3786"
             ],
             [
              0.5555555555555556,
              "#d8576b"
             ],
             [
              0.6666666666666666,
              "#ed7953"
             ],
             [
              0.7777777777777778,
              "#fb9f3a"
             ],
             [
              0.8888888888888888,
              "#fdca26"
             ],
             [
              1,
              "#f0f921"
             ]
            ],
            "type": "heatmapgl"
           }
          ],
          "histogram": [
           {
            "marker": {
             "pattern": {
              "fillmode": "overlay",
              "size": 10,
              "solidity": 0.2
             }
            },
            "type": "histogram"
           }
          ],
          "histogram2d": [
           {
            "colorbar": {
             "outlinewidth": 0,
             "ticks": ""
            },
            "colorscale": [
             [
              0,
              "#0d0887"
             ],
             [
              0.1111111111111111,
              "#46039f"
             ],
             [
              0.2222222222222222,
              "#7201a8"
             ],
             [
              0.3333333333333333,
              "#9c179e"
             ],
             [
              0.4444444444444444,
              "#bd3786"
             ],
             [
              0.5555555555555556,
              "#d8576b"
             ],
             [
              0.6666666666666666,
              "#ed7953"
             ],
             [
              0.7777777777777778,
              "#fb9f3a"
             ],
             [
              0.8888888888888888,
              "#fdca26"
             ],
             [
              1,
              "#f0f921"
             ]
            ],
            "type": "histogram2d"
           }
          ],
          "histogram2dcontour": [
           {
            "colorbar": {
             "outlinewidth": 0,
             "ticks": ""
            },
            "colorscale": [
             [
              0,
              "#0d0887"
             ],
             [
              0.1111111111111111,
              "#46039f"
             ],
             [
              0.2222222222222222,
              "#7201a8"
             ],
             [
              0.3333333333333333,
              "#9c179e"
             ],
             [
              0.4444444444444444,
              "#bd3786"
             ],
             [
              0.5555555555555556,
              "#d8576b"
             ],
             [
              0.6666666666666666,
              "#ed7953"
             ],
             [
              0.7777777777777778,
              "#fb9f3a"
             ],
             [
              0.8888888888888888,
              "#fdca26"
             ],
             [
              1,
              "#f0f921"
             ]
            ],
            "type": "histogram2dcontour"
           }
          ],
          "mesh3d": [
           {
            "colorbar": {
             "outlinewidth": 0,
             "ticks": ""
            },
            "type": "mesh3d"
           }
          ],
          "parcoords": [
           {
            "line": {
             "colorbar": {
              "outlinewidth": 0,
              "ticks": ""
             }
            },
            "type": "parcoords"
           }
          ],
          "pie": [
           {
            "automargin": true,
            "type": "pie"
           }
          ],
          "scatter": [
           {
            "fillpattern": {
             "fillmode": "overlay",
             "size": 10,
             "solidity": 0.2
            },
            "type": "scatter"
           }
          ],
          "scatter3d": [
           {
            "line": {
             "colorbar": {
              "outlinewidth": 0,
              "ticks": ""
             }
            },
            "marker": {
             "colorbar": {
              "outlinewidth": 0,
              "ticks": ""
             }
            },
            "type": "scatter3d"
           }
          ],
          "scattercarpet": [
           {
            "marker": {
             "colorbar": {
              "outlinewidth": 0,
              "ticks": ""
             }
            },
            "type": "scattercarpet"
           }
          ],
          "scattergeo": [
           {
            "marker": {
             "colorbar": {
              "outlinewidth": 0,
              "ticks": ""
             }
            },
            "type": "scattergeo"
           }
          ],
          "scattergl": [
           {
            "marker": {
             "colorbar": {
              "outlinewidth": 0,
              "ticks": ""
             }
            },
            "type": "scattergl"
           }
          ],
          "scattermapbox": [
           {
            "marker": {
             "colorbar": {
              "outlinewidth": 0,
              "ticks": ""
             }
            },
            "type": "scattermapbox"
           }
          ],
          "scatterpolar": [
           {
            "marker": {
             "colorbar": {
              "outlinewidth": 0,
              "ticks": ""
             }
            },
            "type": "scatterpolar"
           }
          ],
          "scatterpolargl": [
           {
            "marker": {
             "colorbar": {
              "outlinewidth": 0,
              "ticks": ""
             }
            },
            "type": "scatterpolargl"
           }
          ],
          "scatterternary": [
           {
            "marker": {
             "colorbar": {
              "outlinewidth": 0,
              "ticks": ""
             }
            },
            "type": "scatterternary"
           }
          ],
          "surface": [
           {
            "colorbar": {
             "outlinewidth": 0,
             "ticks": ""
            },
            "colorscale": [
             [
              0,
              "#0d0887"
             ],
             [
              0.1111111111111111,
              "#46039f"
             ],
             [
              0.2222222222222222,
              "#7201a8"
             ],
             [
              0.3333333333333333,
              "#9c179e"
             ],
             [
              0.4444444444444444,
              "#bd3786"
             ],
             [
              0.5555555555555556,
              "#d8576b"
             ],
             [
              0.6666666666666666,
              "#ed7953"
             ],
             [
              0.7777777777777778,
              "#fb9f3a"
             ],
             [
              0.8888888888888888,
              "#fdca26"
             ],
             [
              1,
              "#f0f921"
             ]
            ],
            "type": "surface"
           }
          ],
          "table": [
           {
            "cells": {
             "fill": {
              "color": "#EBF0F8"
             },
             "line": {
              "color": "white"
             }
            },
            "header": {
             "fill": {
              "color": "#C8D4E3"
             },
             "line": {
              "color": "white"
             }
            },
            "type": "table"
           }
          ]
         },
         "layout": {
          "annotationdefaults": {
           "arrowcolor": "#2a3f5f",
           "arrowhead": 0,
           "arrowwidth": 1
          },
          "autotypenumbers": "strict",
          "coloraxis": {
           "colorbar": {
            "outlinewidth": 0,
            "ticks": ""
           }
          },
          "colorscale": {
           "diverging": [
            [
             0,
             "#8e0152"
            ],
            [
             0.1,
             "#c51b7d"
            ],
            [
             0.2,
             "#de77ae"
            ],
            [
             0.3,
             "#f1b6da"
            ],
            [
             0.4,
             "#fde0ef"
            ],
            [
             0.5,
             "#f7f7f7"
            ],
            [
             0.6,
             "#e6f5d0"
            ],
            [
             0.7,
             "#b8e186"
            ],
            [
             0.8,
             "#7fbc41"
            ],
            [
             0.9,
             "#4d9221"
            ],
            [
             1,
             "#276419"
            ]
           ],
           "sequential": [
            [
             0,
             "#0d0887"
            ],
            [
             0.1111111111111111,
             "#46039f"
            ],
            [
             0.2222222222222222,
             "#7201a8"
            ],
            [
             0.3333333333333333,
             "#9c179e"
            ],
            [
             0.4444444444444444,
             "#bd3786"
            ],
            [
             0.5555555555555556,
             "#d8576b"
            ],
            [
             0.6666666666666666,
             "#ed7953"
            ],
            [
             0.7777777777777778,
             "#fb9f3a"
            ],
            [
             0.8888888888888888,
             "#fdca26"
            ],
            [
             1,
             "#f0f921"
            ]
           ],
           "sequentialminus": [
            [
             0,
             "#0d0887"
            ],
            [
             0.1111111111111111,
             "#46039f"
            ],
            [
             0.2222222222222222,
             "#7201a8"
            ],
            [
             0.3333333333333333,
             "#9c179e"
            ],
            [
             0.4444444444444444,
             "#bd3786"
            ],
            [
             0.5555555555555556,
             "#d8576b"
            ],
            [
             0.6666666666666666,
             "#ed7953"
            ],
            [
             0.7777777777777778,
             "#fb9f3a"
            ],
            [
             0.8888888888888888,
             "#fdca26"
            ],
            [
             1,
             "#f0f921"
            ]
           ]
          },
          "colorway": [
           "#636efa",
           "#EF553B",
           "#00cc96",
           "#ab63fa",
           "#FFA15A",
           "#19d3f3",
           "#FF6692",
           "#B6E880",
           "#FF97FF",
           "#FECB52"
          ],
          "font": {
           "color": "#2a3f5f"
          },
          "geo": {
           "bgcolor": "white",
           "lakecolor": "white",
           "landcolor": "white",
           "showlakes": true,
           "showland": true,
           "subunitcolor": "#C8D4E3"
          },
          "hoverlabel": {
           "align": "left"
          },
          "hovermode": "closest",
          "mapbox": {
           "style": "light"
          },
          "paper_bgcolor": "white",
          "plot_bgcolor": "white",
          "polar": {
           "angularaxis": {
            "gridcolor": "#EBF0F8",
            "linecolor": "#EBF0F8",
            "ticks": ""
           },
           "bgcolor": "white",
           "radialaxis": {
            "gridcolor": "#EBF0F8",
            "linecolor": "#EBF0F8",
            "ticks": ""
           }
          },
          "scene": {
           "xaxis": {
            "backgroundcolor": "white",
            "gridcolor": "#DFE8F3",
            "gridwidth": 2,
            "linecolor": "#EBF0F8",
            "showbackground": true,
            "ticks": "",
            "zerolinecolor": "#EBF0F8"
           },
           "yaxis": {
            "backgroundcolor": "white",
            "gridcolor": "#DFE8F3",
            "gridwidth": 2,
            "linecolor": "#EBF0F8",
            "showbackground": true,
            "ticks": "",
            "zerolinecolor": "#EBF0F8"
           },
           "zaxis": {
            "backgroundcolor": "white",
            "gridcolor": "#DFE8F3",
            "gridwidth": 2,
            "linecolor": "#EBF0F8",
            "showbackground": true,
            "ticks": "",
            "zerolinecolor": "#EBF0F8"
           }
          },
          "shapedefaults": {
           "line": {
            "color": "#2a3f5f"
           }
          },
          "ternary": {
           "aaxis": {
            "gridcolor": "#DFE8F3",
            "linecolor": "#A2B1C6",
            "ticks": ""
           },
           "baxis": {
            "gridcolor": "#DFE8F3",
            "linecolor": "#A2B1C6",
            "ticks": ""
           },
           "bgcolor": "white",
           "caxis": {
            "gridcolor": "#DFE8F3",
            "linecolor": "#A2B1C6",
            "ticks": ""
           }
          },
          "title": {
           "x": 0.05
          },
          "xaxis": {
           "automargin": true,
           "gridcolor": "#EBF0F8",
           "linecolor": "#EBF0F8",
           "ticks": "",
           "title": {
            "standoff": 15
           },
           "zerolinecolor": "#EBF0F8",
           "zerolinewidth": 2
          },
          "yaxis": {
           "automargin": true,
           "gridcolor": "#EBF0F8",
           "linecolor": "#EBF0F8",
           "ticks": "",
           "title": {
            "standoff": 15
           },
           "zerolinecolor": "#EBF0F8",
           "zerolinewidth": 2
          }
         }
        },
        "title": {
         "font": {
          "size": 25
         },
         "text": "Fairness Check",
         "x": 0.5,
         "y": 0.99
        },
        "xaxis": {
         "anchor": "y",
         "domain": [
          0,
          1
         ],
         "range": [
          -0.7860911270983214,
          0.3
         ],
         "ticktext": [
          0.2,
          0.4,
          0.6,
          0.8,
          1,
          1.2,
          1.4,
          1
         ],
         "tickvals": [
          -0.8,
          -0.6,
          -0.4,
          -0.19999999999999996,
          0,
          0.19999999999999996,
          0.3999999999999999,
          0
         ],
         "title": {
          "text": "score"
         }
        },
        "xaxis2": {
         "anchor": "y2",
         "domain": [
          0,
          1
         ],
         "matches": "x",
         "range": [
          -0.7860911270983214,
          0.3
         ],
         "showticklabels": false,
         "ticktext": [
          0.2,
          0.4,
          0.6,
          0.8,
          1,
          1.2,
          1.4,
          1
         ],
         "tickvals": [
          -0.8,
          -0.6,
          -0.4,
          -0.19999999999999996,
          0,
          0.19999999999999996,
          0.3999999999999999,
          0
         ]
        },
        "xaxis3": {
         "anchor": "y3",
         "domain": [
          0,
          1
         ],
         "matches": "x",
         "range": [
          -0.7860911270983214,
          0.3
         ],
         "showticklabels": false,
         "ticktext": [
          0.2,
          0.4,
          0.6,
          0.8,
          1,
          1.2,
          1.4,
          1
         ],
         "tickvals": [
          -0.8,
          -0.6,
          -0.4,
          -0.19999999999999996,
          0,
          0.19999999999999996,
          0.3999999999999999,
          0
         ]
        },
        "xaxis4": {
         "anchor": "y4",
         "domain": [
          0,
          1
         ],
         "matches": "x",
         "range": [
          -0.7860911270983214,
          0.3
         ],
         "showticklabels": false,
         "ticktext": [
          0.2,
          0.4,
          0.6,
          0.8,
          1,
          1.2,
          1.4,
          1
         ],
         "tickvals": [
          -0.8,
          -0.6,
          -0.4,
          -0.19999999999999996,
          0,
          0.19999999999999996,
          0.3999999999999999,
          0
         ]
        },
        "xaxis5": {
         "anchor": "y5",
         "domain": [
          0,
          1
         ],
         "matches": "x",
         "range": [
          -0.7860911270983214,
          0.3
         ],
         "showticklabels": false,
         "ticktext": [
          0.2,
          0.4,
          0.6,
          0.8,
          1,
          1.2,
          1.4,
          1
         ],
         "tickvals": [
          -0.8,
          -0.6,
          -0.4,
          -0.19999999999999996,
          0,
          0.19999999999999996,
          0.3999999999999999,
          0
         ]
        },
        "yaxis": {
         "anchor": "x",
         "domain": [
          0,
          0.144
         ],
         "range": [
          0,
          1
         ],
         "showgrid": false,
         "ticktext": [
          "young"
         ],
         "tickvals": [
          0.5
         ],
         "title": {
          "text": ""
         },
         "zeroline": false
        },
        "yaxis2": {
         "anchor": "x2",
         "domain": [
          0.214,
          0.358
         ],
         "matches": "y",
         "range": [
          0,
          1
         ],
         "showgrid": false,
         "ticktext": [
          "young"
         ],
         "tickvals": [
          0.5
         ],
         "title": {
          "text": ""
         },
         "zeroline": false
        },
        "yaxis3": {
         "anchor": "x3",
         "domain": [
          0.428,
          0.572
         ],
         "matches": "y",
         "range": [
          0,
          1
         ],
         "showgrid": false,
         "ticktext": [
          "young"
         ],
         "tickvals": [
          0.5
         ],
         "title": {
          "text": "subgroup"
         },
         "zeroline": false
        },
        "yaxis4": {
         "anchor": "x4",
         "domain": [
          0.6419999999999999,
          0.7859999999999999
         ],
         "matches": "y",
         "range": [
          0,
          1
         ],
         "showgrid": false,
         "ticktext": [
          "young"
         ],
         "tickvals": [
          0.5
         ],
         "title": {
          "text": ""
         },
         "zeroline": false
        },
        "yaxis5": {
         "anchor": "x5",
         "domain": [
          0.856,
          1
         ],
         "matches": "y",
         "range": [
          0,
          1
         ],
         "showgrid": false,
         "ticktext": [
          "young"
         ],
         "tickvals": [
          0.5
         ],
         "title": {
          "text": ""
         },
         "zeroline": false
        }
       }
      }
     },
     "metadata": {},
     "output_type": "display_data"
    }
   ],
   "source": [
    "mf_tree.plot(objects=[mf_forest, mf_logreg])\n"
   ]
  },
  {
   "attachments": {},
   "cell_type": "markdown",
   "metadata": {},
   "source": [
    "We evaluate the cumulated parity representing the previous metrics in a stacked bar plot. The cumulated parity is the sum of the absolute values of the differences between the privileged and unprivileged groups for each metric. The cumulated parity is a measure of the overall fairness of the model.\n"
   ]
  },
  {
   "cell_type": "code",
   "execution_count": 28,
   "metadata": {},
   "outputs": [
    {
     "data": {
      "application/vnd.plotly.v1+json": {
       "config": {
        "displaylogo": false,
        "modeBarButtonsToRemove": [
         "sendDataToCloud",
         "lasso2d",
         "autoScale2d",
         "select2d",
         "zoom2d",
         "pan2d",
         "zoomIn2d",
         "zoomOut2d",
         "resetScale2d",
         "toggleSpikelines",
         "hoverCompareCartesian",
         "hoverClosestCartesian"
        ],
        "plotlyServerURL": "https://plot.ly",
        "staticPlot": false,
        "toImageButtonOptions": {
         "height": null,
         "width": null
        }
       },
       "data": [
        {
         "alignmentgroup": "True",
         "customdata": [
          [
           0.064,
           "TPR"
          ],
          [
           0.5,
           "TPR"
          ],
          [
           0.203,
           "TPR"
          ]
         ],
         "hovertemplate": "<b>%{label}</b><br>Metric: %{customdata[1]}<br>Parity loss: %{customdata[0]}<br><extra></extra>",
         "legendgroup": "TPR",
         "marker": {
          "color": "#8bdcbe",
          "line": {
           "width": 0
          },
          "pattern": {
           "shape": ""
          }
         },
         "name": "TPR",
         "offsetgroup": "TPR",
         "orientation": "h",
         "showlegend": true,
         "textposition": "auto",
         "type": "bar",
         "x": [
          0.0637800012984184,
          0.5002435144354537,
          0.2025508030374453
         ],
         "xaxis": "x",
         "y": [
          "Decision Tree",
          "Logistic Regression",
          "Random Forest"
         ],
         "yaxis": "y"
        },
        {
         "alignmentgroup": "True",
         "customdata": [
          [
           0.051,
           "PPV"
          ],
          [
           0.055,
           "PPV"
          ],
          [
           0.131,
           "PPV"
          ]
         ],
         "hovertemplate": "<b>%{label}</b><br>Metric: %{customdata[1]}<br>Parity loss: %{customdata[0]}<br><extra></extra>",
         "legendgroup": "PPV",
         "marker": {
          "color": "#f05a71",
          "line": {
           "width": 0
          },
          "pattern": {
           "shape": ""
          }
         },
         "name": "PPV",
         "offsetgroup": "PPV",
         "orientation": "h",
         "showlegend": true,
         "textposition": "auto",
         "type": "bar",
         "x": [
          0.05074109147839781,
          0.055137639600175696,
          0.13062018241706422
         ],
         "xaxis": "x",
         "y": [
          "Decision Tree",
          "Logistic Regression",
          "Random Forest"
         ],
         "yaxis": "y"
        },
        {
         "alignmentgroup": "True",
         "customdata": [
          [
           0.48,
           "FPR"
          ],
          [
           1.254,
           "FPR"
          ],
          [
           0.155,
           "FPR"
          ]
         ],
         "hovertemplate": "<b>%{label}</b><br>Metric: %{customdata[1]}<br>Parity loss: %{customdata[0]}<br><extra></extra>",
         "legendgroup": "FPR",
         "marker": {
          "color": "#4378bf",
          "line": {
           "width": 0
          },
          "pattern": {
           "shape": ""
          }
         },
         "name": "FPR",
         "offsetgroup": "FPR",
         "orientation": "h",
         "showlegend": true,
         "textposition": "auto",
         "type": "bar",
         "x": [
          0.4802663211908629,
          1.253962728687272,
          0.15514918215684798
         ],
         "xaxis": "x",
         "y": [
          "Decision Tree",
          "Logistic Regression",
          "Random Forest"
         ],
         "yaxis": "y"
        },
        {
         "alignmentgroup": "True",
         "customdata": [
          [
           0.105,
           "ACC"
          ],
          [
           0.027,
           "ACC"
          ],
          [
           0.038,
           "ACC"
          ]
         ],
         "hovertemplate": "<b>%{label}</b><br>Metric: %{customdata[1]}<br>Parity loss: %{customdata[0]}<br><extra></extra>",
         "legendgroup": "ACC",
         "marker": {
          "color": "#ae2c87",
          "line": {
           "width": 0
          },
          "pattern": {
           "shape": ""
          }
         },
         "name": "ACC",
         "offsetgroup": "ACC",
         "orientation": "h",
         "showlegend": true,
         "textposition": "auto",
         "type": "bar",
         "x": [
          0.10520425344952326,
          0.02739897418811456,
          0.03822121282019774
         ],
         "xaxis": "x",
         "y": [
          "Decision Tree",
          "Logistic Regression",
          "Random Forest"
         ],
         "yaxis": "y"
        },
        {
         "alignmentgroup": "True",
         "customdata": [
          [
           0.322,
           "STP"
          ],
          [
           0.863,
           "STP"
          ],
          [
           0.381,
           "STP"
          ]
         ],
         "hovertemplate": "<b>%{label}</b><br>Metric: %{customdata[1]}<br>Parity loss: %{customdata[0]}<br><extra></extra>",
         "legendgroup": "STP",
         "marker": {
          "color": "#ffa58c",
          "line": {
           "width": 0
          },
          "pattern": {
           "shape": ""
          }
         },
         "name": "STP",
         "offsetgroup": "STP",
         "orientation": "h",
         "showlegend": true,
         "textposition": "auto",
         "type": "bar",
         "x": [
          0.32158362412746233,
          0.8630462173553428,
          0.38077249551779285
         ],
         "xaxis": "x",
         "y": [
          "Decision Tree",
          "Logistic Regression",
          "Random Forest"
         ],
         "yaxis": "y"
        }
       ],
       "layout": {
        "barmode": "relative",
        "font": {
         "color": "#371ea3"
        },
        "legend": {
         "title": {
          "text": "metric"
         },
         "tracegroupgap": 0
        },
        "margin": {
         "b": 71,
         "r": 30,
         "t": 78
        },
        "template": {
         "data": {
          "bar": [
           {
            "error_x": {
             "color": "#2a3f5f"
            },
            "error_y": {
             "color": "#2a3f5f"
            },
            "marker": {
             "line": {
              "color": "white",
              "width": 0.5
             },
             "pattern": {
              "fillmode": "overlay",
              "size": 10,
              "solidity": 0.2
             }
            },
            "type": "bar"
           }
          ],
          "barpolar": [
           {
            "marker": {
             "line": {
              "color": "white",
              "width": 0.5
             },
             "pattern": {
              "fillmode": "overlay",
              "size": 10,
              "solidity": 0.2
             }
            },
            "type": "barpolar"
           }
          ],
          "carpet": [
           {
            "aaxis": {
             "endlinecolor": "#2a3f5f",
             "gridcolor": "#C8D4E3",
             "linecolor": "#C8D4E3",
             "minorgridcolor": "#C8D4E3",
             "startlinecolor": "#2a3f5f"
            },
            "baxis": {
             "endlinecolor": "#2a3f5f",
             "gridcolor": "#C8D4E3",
             "linecolor": "#C8D4E3",
             "minorgridcolor": "#C8D4E3",
             "startlinecolor": "#2a3f5f"
            },
            "type": "carpet"
           }
          ],
          "choropleth": [
           {
            "colorbar": {
             "outlinewidth": 0,
             "ticks": ""
            },
            "type": "choropleth"
           }
          ],
          "contour": [
           {
            "colorbar": {
             "outlinewidth": 0,
             "ticks": ""
            },
            "colorscale": [
             [
              0,
              "#0d0887"
             ],
             [
              0.1111111111111111,
              "#46039f"
             ],
             [
              0.2222222222222222,
              "#7201a8"
             ],
             [
              0.3333333333333333,
              "#9c179e"
             ],
             [
              0.4444444444444444,
              "#bd3786"
             ],
             [
              0.5555555555555556,
              "#d8576b"
             ],
             [
              0.6666666666666666,
              "#ed7953"
             ],
             [
              0.7777777777777778,
              "#fb9f3a"
             ],
             [
              0.8888888888888888,
              "#fdca26"
             ],
             [
              1,
              "#f0f921"
             ]
            ],
            "type": "contour"
           }
          ],
          "contourcarpet": [
           {
            "colorbar": {
             "outlinewidth": 0,
             "ticks": ""
            },
            "type": "contourcarpet"
           }
          ],
          "heatmap": [
           {
            "colorbar": {
             "outlinewidth": 0,
             "ticks": ""
            },
            "colorscale": [
             [
              0,
              "#0d0887"
             ],
             [
              0.1111111111111111,
              "#46039f"
             ],
             [
              0.2222222222222222,
              "#7201a8"
             ],
             [
              0.3333333333333333,
              "#9c179e"
             ],
             [
              0.4444444444444444,
              "#bd3786"
             ],
             [
              0.5555555555555556,
              "#d8576b"
             ],
             [
              0.6666666666666666,
              "#ed7953"
             ],
             [
              0.7777777777777778,
              "#fb9f3a"
             ],
             [
              0.8888888888888888,
              "#fdca26"
             ],
             [
              1,
              "#f0f921"
             ]
            ],
            "type": "heatmap"
           }
          ],
          "heatmapgl": [
           {
            "colorbar": {
             "outlinewidth": 0,
             "ticks": ""
            },
            "colorscale": [
             [
              0,
              "#0d0887"
             ],
             [
              0.1111111111111111,
              "#46039f"
             ],
             [
              0.2222222222222222,
              "#7201a8"
             ],
             [
              0.3333333333333333,
              "#9c179e"
             ],
             [
              0.4444444444444444,
              "#bd3786"
             ],
             [
              0.5555555555555556,
              "#d8576b"
             ],
             [
              0.6666666666666666,
              "#ed7953"
             ],
             [
              0.7777777777777778,
              "#fb9f3a"
             ],
             [
              0.8888888888888888,
              "#fdca26"
             ],
             [
              1,
              "#f0f921"
             ]
            ],
            "type": "heatmapgl"
           }
          ],
          "histogram": [
           {
            "marker": {
             "pattern": {
              "fillmode": "overlay",
              "size": 10,
              "solidity": 0.2
             }
            },
            "type": "histogram"
           }
          ],
          "histogram2d": [
           {
            "colorbar": {
             "outlinewidth": 0,
             "ticks": ""
            },
            "colorscale": [
             [
              0,
              "#0d0887"
             ],
             [
              0.1111111111111111,
              "#46039f"
             ],
             [
              0.2222222222222222,
              "#7201a8"
             ],
             [
              0.3333333333333333,
              "#9c179e"
             ],
             [
              0.4444444444444444,
              "#bd3786"
             ],
             [
              0.5555555555555556,
              "#d8576b"
             ],
             [
              0.6666666666666666,
              "#ed7953"
             ],
             [
              0.7777777777777778,
              "#fb9f3a"
             ],
             [
              0.8888888888888888,
              "#fdca26"
             ],
             [
              1,
              "#f0f921"
             ]
            ],
            "type": "histogram2d"
           }
          ],
          "histogram2dcontour": [
           {
            "colorbar": {
             "outlinewidth": 0,
             "ticks": ""
            },
            "colorscale": [
             [
              0,
              "#0d0887"
             ],
             [
              0.1111111111111111,
              "#46039f"
             ],
             [
              0.2222222222222222,
              "#7201a8"
             ],
             [
              0.3333333333333333,
              "#9c179e"
             ],
             [
              0.4444444444444444,
              "#bd3786"
             ],
             [
              0.5555555555555556,
              "#d8576b"
             ],
             [
              0.6666666666666666,
              "#ed7953"
             ],
             [
              0.7777777777777778,
              "#fb9f3a"
             ],
             [
              0.8888888888888888,
              "#fdca26"
             ],
             [
              1,
              "#f0f921"
             ]
            ],
            "type": "histogram2dcontour"
           }
          ],
          "mesh3d": [
           {
            "colorbar": {
             "outlinewidth": 0,
             "ticks": ""
            },
            "type": "mesh3d"
           }
          ],
          "parcoords": [
           {
            "line": {
             "colorbar": {
              "outlinewidth": 0,
              "ticks": ""
             }
            },
            "type": "parcoords"
           }
          ],
          "pie": [
           {
            "automargin": true,
            "type": "pie"
           }
          ],
          "scatter": [
           {
            "fillpattern": {
             "fillmode": "overlay",
             "size": 10,
             "solidity": 0.2
            },
            "type": "scatter"
           }
          ],
          "scatter3d": [
           {
            "line": {
             "colorbar": {
              "outlinewidth": 0,
              "ticks": ""
             }
            },
            "marker": {
             "colorbar": {
              "outlinewidth": 0,
              "ticks": ""
             }
            },
            "type": "scatter3d"
           }
          ],
          "scattercarpet": [
           {
            "marker": {
             "colorbar": {
              "outlinewidth": 0,
              "ticks": ""
             }
            },
            "type": "scattercarpet"
           }
          ],
          "scattergeo": [
           {
            "marker": {
             "colorbar": {
              "outlinewidth": 0,
              "ticks": ""
             }
            },
            "type": "scattergeo"
           }
          ],
          "scattergl": [
           {
            "marker": {
             "colorbar": {
              "outlinewidth": 0,
              "ticks": ""
             }
            },
            "type": "scattergl"
           }
          ],
          "scattermapbox": [
           {
            "marker": {
             "colorbar": {
              "outlinewidth": 0,
              "ticks": ""
             }
            },
            "type": "scattermapbox"
           }
          ],
          "scatterpolar": [
           {
            "marker": {
             "colorbar": {
              "outlinewidth": 0,
              "ticks": ""
             }
            },
            "type": "scatterpolar"
           }
          ],
          "scatterpolargl": [
           {
            "marker": {
             "colorbar": {
              "outlinewidth": 0,
              "ticks": ""
             }
            },
            "type": "scatterpolargl"
           }
          ],
          "scatterternary": [
           {
            "marker": {
             "colorbar": {
              "outlinewidth": 0,
              "ticks": ""
             }
            },
            "type": "scatterternary"
           }
          ],
          "surface": [
           {
            "colorbar": {
             "outlinewidth": 0,
             "ticks": ""
            },
            "colorscale": [
             [
              0,
              "#0d0887"
             ],
             [
              0.1111111111111111,
              "#46039f"
             ],
             [
              0.2222222222222222,
              "#7201a8"
             ],
             [
              0.3333333333333333,
              "#9c179e"
             ],
             [
              0.4444444444444444,
              "#bd3786"
             ],
             [
              0.5555555555555556,
              "#d8576b"
             ],
             [
              0.6666666666666666,
              "#ed7953"
             ],
             [
              0.7777777777777778,
              "#fb9f3a"
             ],
             [
              0.8888888888888888,
              "#fdca26"
             ],
             [
              1,
              "#f0f921"
             ]
            ],
            "type": "surface"
           }
          ],
          "table": [
           {
            "cells": {
             "fill": {
              "color": "#EBF0F8"
             },
             "line": {
              "color": "white"
             }
            },
            "header": {
             "fill": {
              "color": "#C8D4E3"
             },
             "line": {
              "color": "white"
             }
            },
            "type": "table"
           }
          ]
         },
         "layout": {
          "annotationdefaults": {
           "arrowcolor": "#2a3f5f",
           "arrowhead": 0,
           "arrowwidth": 1
          },
          "autotypenumbers": "strict",
          "coloraxis": {
           "colorbar": {
            "outlinewidth": 0,
            "ticks": ""
           }
          },
          "colorscale": {
           "diverging": [
            [
             0,
             "#8e0152"
            ],
            [
             0.1,
             "#c51b7d"
            ],
            [
             0.2,
             "#de77ae"
            ],
            [
             0.3,
             "#f1b6da"
            ],
            [
             0.4,
             "#fde0ef"
            ],
            [
             0.5,
             "#f7f7f7"
            ],
            [
             0.6,
             "#e6f5d0"
            ],
            [
             0.7,
             "#b8e186"
            ],
            [
             0.8,
             "#7fbc41"
            ],
            [
             0.9,
             "#4d9221"
            ],
            [
             1,
             "#276419"
            ]
           ],
           "sequential": [
            [
             0,
             "#0d0887"
            ],
            [
             0.1111111111111111,
             "#46039f"
            ],
            [
             0.2222222222222222,
             "#7201a8"
            ],
            [
             0.3333333333333333,
             "#9c179e"
            ],
            [
             0.4444444444444444,
             "#bd3786"
            ],
            [
             0.5555555555555556,
             "#d8576b"
            ],
            [
             0.6666666666666666,
             "#ed7953"
            ],
            [
             0.7777777777777778,
             "#fb9f3a"
            ],
            [
             0.8888888888888888,
             "#fdca26"
            ],
            [
             1,
             "#f0f921"
            ]
           ],
           "sequentialminus": [
            [
             0,
             "#0d0887"
            ],
            [
             0.1111111111111111,
             "#46039f"
            ],
            [
             0.2222222222222222,
             "#7201a8"
            ],
            [
             0.3333333333333333,
             "#9c179e"
            ],
            [
             0.4444444444444444,
             "#bd3786"
            ],
            [
             0.5555555555555556,
             "#d8576b"
            ],
            [
             0.6666666666666666,
             "#ed7953"
            ],
            [
             0.7777777777777778,
             "#fb9f3a"
            ],
            [
             0.8888888888888888,
             "#fdca26"
            ],
            [
             1,
             "#f0f921"
            ]
           ]
          },
          "colorway": [
           "#636efa",
           "#EF553B",
           "#00cc96",
           "#ab63fa",
           "#FFA15A",
           "#19d3f3",
           "#FF6692",
           "#B6E880",
           "#FF97FF",
           "#FECB52"
          ],
          "font": {
           "color": "#2a3f5f"
          },
          "geo": {
           "bgcolor": "white",
           "lakecolor": "white",
           "landcolor": "white",
           "showlakes": true,
           "showland": true,
           "subunitcolor": "#C8D4E3"
          },
          "hoverlabel": {
           "align": "left"
          },
          "hovermode": "closest",
          "mapbox": {
           "style": "light"
          },
          "paper_bgcolor": "white",
          "plot_bgcolor": "white",
          "polar": {
           "angularaxis": {
            "gridcolor": "#EBF0F8",
            "linecolor": "#EBF0F8",
            "ticks": ""
           },
           "bgcolor": "white",
           "radialaxis": {
            "gridcolor": "#EBF0F8",
            "linecolor": "#EBF0F8",
            "ticks": ""
           }
          },
          "scene": {
           "xaxis": {
            "backgroundcolor": "white",
            "gridcolor": "#DFE8F3",
            "gridwidth": 2,
            "linecolor": "#EBF0F8",
            "showbackground": true,
            "ticks": "",
            "zerolinecolor": "#EBF0F8"
           },
           "yaxis": {
            "backgroundcolor": "white",
            "gridcolor": "#DFE8F3",
            "gridwidth": 2,
            "linecolor": "#EBF0F8",
            "showbackground": true,
            "ticks": "",
            "zerolinecolor": "#EBF0F8"
           },
           "zaxis": {
            "backgroundcolor": "white",
            "gridcolor": "#DFE8F3",
            "gridwidth": 2,
            "linecolor": "#EBF0F8",
            "showbackground": true,
            "ticks": "",
            "zerolinecolor": "#EBF0F8"
           }
          },
          "shapedefaults": {
           "line": {
            "color": "#2a3f5f"
           }
          },
          "ternary": {
           "aaxis": {
            "gridcolor": "#DFE8F3",
            "linecolor": "#A2B1C6",
            "ticks": ""
           },
           "baxis": {
            "gridcolor": "#DFE8F3",
            "linecolor": "#A2B1C6",
            "ticks": ""
           },
           "bgcolor": "white",
           "caxis": {
            "gridcolor": "#DFE8F3",
            "linecolor": "#A2B1C6",
            "ticks": ""
           }
          },
          "title": {
           "x": 0.05
          },
          "xaxis": {
           "automargin": true,
           "gridcolor": "#EBF0F8",
           "linecolor": "#EBF0F8",
           "ticks": "",
           "title": {
            "standoff": 15
           },
           "zerolinecolor": "#EBF0F8",
           "zerolinewidth": 2
          },
          "yaxis": {
           "automargin": true,
           "gridcolor": "#EBF0F8",
           "linecolor": "#EBF0F8",
           "ticks": "",
           "title": {
            "standoff": 15
           },
           "zerolinecolor": "#EBF0F8",
           "zerolinewidth": 2
          }
         }
        },
        "title": {
         "font": {
          "size": 25
         },
         "text": "Stacked Parity Loss Metrics",
         "x": 0.5,
         "y": 0.99
        },
        "xaxis": {
         "anchor": "y",
         "domain": [
          0,
          1
         ],
         "title": {
          "text": "cumulated parity loss"
         }
        },
        "yaxis": {
         "anchor": "x",
         "domain": [
          0,
          1
         ],
         "showgrid": false,
         "title": {
          "text": "label"
         },
         "zeroline": false
        }
       }
      }
     },
     "metadata": {},
     "output_type": "display_data"
    }
   ],
   "source": [
    "mf_tree.plot(objects=[mf_logreg, mf_forest], type='stacked')"
   ]
  },
  {
   "attachments": {},
   "cell_type": "markdown",
   "metadata": {},
   "source": [
    "# Mitigation\n",
    "\n",
    " In this section, we will use the Resampling technique provided by the dalex.fairness package to mitigate fairness issues. This technique implements the resampling technique for mitigation as presented in this paper: https://link.springer.com/content/pdf/10.1007/s10115-011-0463-8.pdf."
   ]
  },
  {
   "attachments": {},
   "cell_type": "markdown",
   "metadata": {},
   "source": [
    "## Resampling\n",
    "\n",
    "We will apply the resampling technique in two ways: uniform and preferential.\n",
    "\n",
    "In uniform resampling, DALEX will randomly select a subset of the majority group to balance the class distribution.\n",
    "\n",
    "In preferential resampling, DALEX will randomly select a subset of the minority group and oversample it to balance the class distribution."
   ]
  },
  {
   "cell_type": "code",
   "execution_count": 29,
   "metadata": {},
   "outputs": [],
   "source": [
    "from dalex.fairness import resample\n",
    "from copy import copy\n",
    "\n",
    "#decision tree\n",
    "\n",
    "clf_u_dt = copy(dt)\n",
    "clf_p_dt = copy(dt)\n",
    "\n",
    "#random forest \n",
    "\n",
    "clf_u_rf = copy(rf)\n",
    "clf_p_rf = copy(rf)\n",
    "\n",
    "#logistic regression\n",
    "\n",
    "clf_u_lr = copy(lr)\n",
    "clf_p_lr = copy(lr)"
   ]
  },
  {
   "cell_type": "code",
   "execution_count": 30,
   "metadata": {},
   "outputs": [
    {
     "data": {
      "text/html": [
       "<style>#sk-container-id-4 {color: black;background-color: white;}#sk-container-id-4 pre{padding: 0;}#sk-container-id-4 div.sk-toggleable {background-color: white;}#sk-container-id-4 label.sk-toggleable__label {cursor: pointer;display: block;width: 100%;margin-bottom: 0;padding: 0.3em;box-sizing: border-box;text-align: center;}#sk-container-id-4 label.sk-toggleable__label-arrow:before {content: \"▸\";float: left;margin-right: 0.25em;color: #696969;}#sk-container-id-4 label.sk-toggleable__label-arrow:hover:before {color: black;}#sk-container-id-4 div.sk-estimator:hover label.sk-toggleable__label-arrow:before {color: black;}#sk-container-id-4 div.sk-toggleable__content {max-height: 0;max-width: 0;overflow: hidden;text-align: left;background-color: #f0f8ff;}#sk-container-id-4 div.sk-toggleable__content pre {margin: 0.2em;color: black;border-radius: 0.25em;background-color: #f0f8ff;}#sk-container-id-4 input.sk-toggleable__control:checked~div.sk-toggleable__content {max-height: 200px;max-width: 100%;overflow: auto;}#sk-container-id-4 input.sk-toggleable__control:checked~label.sk-toggleable__label-arrow:before {content: \"▾\";}#sk-container-id-4 div.sk-estimator input.sk-toggleable__control:checked~label.sk-toggleable__label {background-color: #d4ebff;}#sk-container-id-4 div.sk-label input.sk-toggleable__control:checked~label.sk-toggleable__label {background-color: #d4ebff;}#sk-container-id-4 input.sk-hidden--visually {border: 0;clip: rect(1px 1px 1px 1px);clip: rect(1px, 1px, 1px, 1px);height: 1px;margin: -1px;overflow: hidden;padding: 0;position: absolute;width: 1px;}#sk-container-id-4 div.sk-estimator {font-family: monospace;background-color: #f0f8ff;border: 1px dotted black;border-radius: 0.25em;box-sizing: border-box;margin-bottom: 0.5em;}#sk-container-id-4 div.sk-estimator:hover {background-color: #d4ebff;}#sk-container-id-4 div.sk-parallel-item::after {content: \"\";width: 100%;border-bottom: 1px solid gray;flex-grow: 1;}#sk-container-id-4 div.sk-label:hover label.sk-toggleable__label {background-color: #d4ebff;}#sk-container-id-4 div.sk-serial::before {content: \"\";position: absolute;border-left: 1px solid gray;box-sizing: border-box;top: 0;bottom: 0;left: 50%;z-index: 0;}#sk-container-id-4 div.sk-serial {display: flex;flex-direction: column;align-items: center;background-color: white;padding-right: 0.2em;padding-left: 0.2em;position: relative;}#sk-container-id-4 div.sk-item {position: relative;z-index: 1;}#sk-container-id-4 div.sk-parallel {display: flex;align-items: stretch;justify-content: center;background-color: white;position: relative;}#sk-container-id-4 div.sk-item::before, #sk-container-id-4 div.sk-parallel-item::before {content: \"\";position: absolute;border-left: 1px solid gray;box-sizing: border-box;top: 0;bottom: 0;left: 50%;z-index: -1;}#sk-container-id-4 div.sk-parallel-item {display: flex;flex-direction: column;z-index: 1;position: relative;background-color: white;}#sk-container-id-4 div.sk-parallel-item:first-child::after {align-self: flex-end;width: 50%;}#sk-container-id-4 div.sk-parallel-item:last-child::after {align-self: flex-start;width: 50%;}#sk-container-id-4 div.sk-parallel-item:only-child::after {width: 0;}#sk-container-id-4 div.sk-dashed-wrapped {border: 1px dashed gray;margin: 0 0.4em 0.5em 0.4em;box-sizing: border-box;padding-bottom: 0.4em;background-color: white;}#sk-container-id-4 div.sk-label label {font-family: monospace;font-weight: bold;display: inline-block;line-height: 1.2em;}#sk-container-id-4 div.sk-label-container {text-align: center;}#sk-container-id-4 div.sk-container {/* jupyter's `normalize.less` sets `[hidden] { display: none; }` but bootstrap.min.css set `[hidden] { display: none !important; }` so we also need the `!important` here to be able to override the default hidden behavior on the sphinx rendered scikit-learn.org. See: https://github.com/scikit-learn/scikit-learn/issues/21755 */display: inline-block !important;position: relative;}#sk-container-id-4 div.sk-text-repr-fallback {display: none;}</style><div id=\"sk-container-id-4\" class=\"sk-top-container\"><div class=\"sk-text-repr-fallback\"><pre>Pipeline(steps=[(&#x27;preprocessor&#x27;,\n",
       "                 ColumnTransformer(transformers=[(&#x27;num&#x27;,\n",
       "                                                  Pipeline(steps=[(&#x27;scaler&#x27;,\n",
       "                                                                   StandardScaler())]),\n",
       "                                                  [&#x27;Pregnancies&#x27;, &#x27;Glucose&#x27;,\n",
       "                                                   &#x27;BloodPressure&#x27;,\n",
       "                                                   &#x27;SkinThickness&#x27;, &#x27;Insulin&#x27;,\n",
       "                                                   &#x27;BMI&#x27;,\n",
       "                                                   &#x27;DiabetesPedigreeFunction&#x27;,\n",
       "                                                   &#x27;Age&#x27;]),\n",
       "                                                 (&#x27;cat&#x27;,\n",
       "                                                  Pipeline(steps=[(&#x27;onehot&#x27;,\n",
       "                                                                   OneHotEncoder(handle_unknown=&#x27;ignore&#x27;))]),\n",
       "                                                  [&#x27;AgeCategory&#x27;])])),\n",
       "                (&#x27;classifier&#x27;, LogisticRegression())])</pre><b>In a Jupyter environment, please rerun this cell to show the HTML representation or trust the notebook. <br />On GitHub, the HTML representation is unable to render, please try loading this page with nbviewer.org.</b></div><div class=\"sk-container\" hidden><div class=\"sk-item sk-dashed-wrapped\"><div class=\"sk-label-container\"><div class=\"sk-label sk-toggleable\"><input class=\"sk-toggleable__control sk-hidden--visually\" id=\"sk-estimator-id-22\" type=\"checkbox\" ><label for=\"sk-estimator-id-22\" class=\"sk-toggleable__label sk-toggleable__label-arrow\">Pipeline</label><div class=\"sk-toggleable__content\"><pre>Pipeline(steps=[(&#x27;preprocessor&#x27;,\n",
       "                 ColumnTransformer(transformers=[(&#x27;num&#x27;,\n",
       "                                                  Pipeline(steps=[(&#x27;scaler&#x27;,\n",
       "                                                                   StandardScaler())]),\n",
       "                                                  [&#x27;Pregnancies&#x27;, &#x27;Glucose&#x27;,\n",
       "                                                   &#x27;BloodPressure&#x27;,\n",
       "                                                   &#x27;SkinThickness&#x27;, &#x27;Insulin&#x27;,\n",
       "                                                   &#x27;BMI&#x27;,\n",
       "                                                   &#x27;DiabetesPedigreeFunction&#x27;,\n",
       "                                                   &#x27;Age&#x27;]),\n",
       "                                                 (&#x27;cat&#x27;,\n",
       "                                                  Pipeline(steps=[(&#x27;onehot&#x27;,\n",
       "                                                                   OneHotEncoder(handle_unknown=&#x27;ignore&#x27;))]),\n",
       "                                                  [&#x27;AgeCategory&#x27;])])),\n",
       "                (&#x27;classifier&#x27;, LogisticRegression())])</pre></div></div></div><div class=\"sk-serial\"><div class=\"sk-item sk-dashed-wrapped\"><div class=\"sk-label-container\"><div class=\"sk-label sk-toggleable\"><input class=\"sk-toggleable__control sk-hidden--visually\" id=\"sk-estimator-id-23\" type=\"checkbox\" ><label for=\"sk-estimator-id-23\" class=\"sk-toggleable__label sk-toggleable__label-arrow\">preprocessor: ColumnTransformer</label><div class=\"sk-toggleable__content\"><pre>ColumnTransformer(transformers=[(&#x27;num&#x27;,\n",
       "                                 Pipeline(steps=[(&#x27;scaler&#x27;, StandardScaler())]),\n",
       "                                 [&#x27;Pregnancies&#x27;, &#x27;Glucose&#x27;, &#x27;BloodPressure&#x27;,\n",
       "                                  &#x27;SkinThickness&#x27;, &#x27;Insulin&#x27;, &#x27;BMI&#x27;,\n",
       "                                  &#x27;DiabetesPedigreeFunction&#x27;, &#x27;Age&#x27;]),\n",
       "                                (&#x27;cat&#x27;,\n",
       "                                 Pipeline(steps=[(&#x27;onehot&#x27;,\n",
       "                                                  OneHotEncoder(handle_unknown=&#x27;ignore&#x27;))]),\n",
       "                                 [&#x27;AgeCategory&#x27;])])</pre></div></div></div><div class=\"sk-parallel\"><div class=\"sk-parallel-item\"><div class=\"sk-item\"><div class=\"sk-label-container\"><div class=\"sk-label sk-toggleable\"><input class=\"sk-toggleable__control sk-hidden--visually\" id=\"sk-estimator-id-24\" type=\"checkbox\" ><label for=\"sk-estimator-id-24\" class=\"sk-toggleable__label sk-toggleable__label-arrow\">num</label><div class=\"sk-toggleable__content\"><pre>[&#x27;Pregnancies&#x27;, &#x27;Glucose&#x27;, &#x27;BloodPressure&#x27;, &#x27;SkinThickness&#x27;, &#x27;Insulin&#x27;, &#x27;BMI&#x27;, &#x27;DiabetesPedigreeFunction&#x27;, &#x27;Age&#x27;]</pre></div></div></div><div class=\"sk-serial\"><div class=\"sk-item\"><div class=\"sk-serial\"><div class=\"sk-item\"><div class=\"sk-estimator sk-toggleable\"><input class=\"sk-toggleable__control sk-hidden--visually\" id=\"sk-estimator-id-25\" type=\"checkbox\" ><label for=\"sk-estimator-id-25\" class=\"sk-toggleable__label sk-toggleable__label-arrow\">StandardScaler</label><div class=\"sk-toggleable__content\"><pre>StandardScaler()</pre></div></div></div></div></div></div></div></div><div class=\"sk-parallel-item\"><div class=\"sk-item\"><div class=\"sk-label-container\"><div class=\"sk-label sk-toggleable\"><input class=\"sk-toggleable__control sk-hidden--visually\" id=\"sk-estimator-id-26\" type=\"checkbox\" ><label for=\"sk-estimator-id-26\" class=\"sk-toggleable__label sk-toggleable__label-arrow\">cat</label><div class=\"sk-toggleable__content\"><pre>[&#x27;AgeCategory&#x27;]</pre></div></div></div><div class=\"sk-serial\"><div class=\"sk-item\"><div class=\"sk-serial\"><div class=\"sk-item\"><div class=\"sk-estimator sk-toggleable\"><input class=\"sk-toggleable__control sk-hidden--visually\" id=\"sk-estimator-id-27\" type=\"checkbox\" ><label for=\"sk-estimator-id-27\" class=\"sk-toggleable__label sk-toggleable__label-arrow\">OneHotEncoder</label><div class=\"sk-toggleable__content\"><pre>OneHotEncoder(handle_unknown=&#x27;ignore&#x27;)</pre></div></div></div></div></div></div></div></div></div></div><div class=\"sk-item\"><div class=\"sk-estimator sk-toggleable\"><input class=\"sk-toggleable__control sk-hidden--visually\" id=\"sk-estimator-id-28\" type=\"checkbox\" ><label for=\"sk-estimator-id-28\" class=\"sk-toggleable__label sk-toggleable__label-arrow\">LogisticRegression</label><div class=\"sk-toggleable__content\"><pre>LogisticRegression()</pre></div></div></div></div></div></div></div>"
      ],
      "text/plain": [
       "Pipeline(steps=[('preprocessor',\n",
       "                 ColumnTransformer(transformers=[('num',\n",
       "                                                  Pipeline(steps=[('scaler',\n",
       "                                                                   StandardScaler())]),\n",
       "                                                  ['Pregnancies', 'Glucose',\n",
       "                                                   'BloodPressure',\n",
       "                                                   'SkinThickness', 'Insulin',\n",
       "                                                   'BMI',\n",
       "                                                   'DiabetesPedigreeFunction',\n",
       "                                                   'Age']),\n",
       "                                                 ('cat',\n",
       "                                                  Pipeline(steps=[('onehot',\n",
       "                                                                   OneHotEncoder(handle_unknown='ignore'))]),\n",
       "                                                  ['AgeCategory'])])),\n",
       "                ('classifier', LogisticRegression())])"
      ]
     },
     "execution_count": 30,
     "metadata": {},
     "output_type": "execute_result"
    }
   ],
   "source": [
    "# resample on decision tree, we include the preferential resampling of the decision tree for completeness, \n",
    "#although without any prio it's not really useful\n",
    "\n",
    "indices_uniform = resample(protected, y_test, verbose=False)\n",
    "indices_preferential = resample(protected,\n",
    "                                y_test,\n",
    "                                type='preferential',  # different type\n",
    "                                probs=exp_tree.y_hat,  # requires probabilities\n",
    "                                verbose=False)\n",
    "\n",
    "#decision tree\n",
    "clf_u_dt.fit(X_train.iloc[indices_uniform, :], y_train.iloc[indices_uniform])\n",
    "clf_p_dt.fit(X_train.iloc[indices_preferential, :], y_train.iloc[indices_preferential])\n",
    "\n",
    "#random forest\n",
    "clf_u_rf.fit(X_train.iloc[indices_uniform, :], y_train.iloc[indices_uniform])\n",
    "\n",
    "#logistic regression\n",
    "clf_u_lr.fit(X_train.iloc[indices_uniform, :], y_train.iloc[indices_uniform])\n"
   ]
  },
  {
   "attachments": {},
   "cell_type": "markdown",
   "metadata": {},
   "source": [
    "Now we can create the Explainers for the models using the resampled data. And as we did before, we can compute the fairness metrics for the two models using the `model_fairness` function of `dalex.Explainer`.\n",
    "\n",
    "The protected and privileged variables are set to the same values as before."
   ]
  },
  {
   "cell_type": "code",
   "execution_count": 31,
   "metadata": {},
   "outputs": [
    {
     "data": {
      "application/vnd.plotly.v1+json": {
       "config": {
        "displaylogo": false,
        "modeBarButtonsToRemove": [
         "sendDataToCloud",
         "lasso2d",
         "autoScale2d",
         "select2d",
         "zoom2d",
         "pan2d",
         "zoomIn2d",
         "zoomOut2d",
         "resetScale2d",
         "toggleSpikelines",
         "hoverCompareCartesian",
         "hoverClosestCartesian"
        ],
        "plotlyServerURL": "https://plot.ly",
        "staticPlot": false,
        "toImageButtonOptions": {
         "height": null,
         "width": null
        }
       },
       "data": [
        {
         "alignmentgroup": "True",
         "customdata": [
          [
           "young",
           1.747,
           "Decision Tree u"
          ]
         ],
         "hovertemplate": "<b>%{customdata[2]}</b><br>Subgroup: %{customdata[0]}<br>Score: %{customdata[1]}<br><extra></extra>",
         "legendgroup": "Decision Tree u",
         "marker": {
          "color": "#8bdcbe",
          "pattern": {
           "shape": ""
          }
         },
         "name": "Decision Tree u",
         "offsetgroup": "Decision Tree u",
         "orientation": "h",
         "showlegend": true,
         "textposition": "auto",
         "type": "bar",
         "x": [
          0.746753246753247
         ],
         "xaxis": "x5",
         "y": [
          0.5
         ],
         "yaxis": "y5"
        },
        {
         "alignmentgroup": "True",
         "customdata": [
          [
           "young",
           1.037,
           "Decision Tree u"
          ]
         ],
         "hovertemplate": "<b>%{customdata[2]}</b><br>Subgroup: %{customdata[0]}<br>Score: %{customdata[1]}<br><extra></extra>",
         "legendgroup": "Decision Tree u",
         "marker": {
          "color": "#8bdcbe",
          "pattern": {
           "shape": ""
          }
         },
         "name": "Decision Tree u",
         "offsetgroup": "Decision Tree u",
         "orientation": "h",
         "showlegend": false,
         "textposition": "auto",
         "type": "bar",
         "x": [
          0.03677758318739066
         ],
         "xaxis": "x4",
         "y": [
          0.5
         ],
         "yaxis": "y4"
        },
        {
         "alignmentgroup": "True",
         "customdata": [
          [
           "young",
           0.92,
           "Decision Tree u"
          ]
         ],
         "hovertemplate": "<b>%{customdata[2]}</b><br>Subgroup: %{customdata[0]}<br>Score: %{customdata[1]}<br><extra></extra>",
         "legendgroup": "Decision Tree u",
         "marker": {
          "color": "#8bdcbe",
          "pattern": {
           "shape": ""
          }
         },
         "name": "Decision Tree u",
         "offsetgroup": "Decision Tree u",
         "orientation": "h",
         "showlegend": false,
         "textposition": "auto",
         "type": "bar",
         "x": [
          -0.07999999999999996
         ],
         "xaxis": "x3",
         "y": [
          0.5
         ],
         "yaxis": "y3"
        },
        {
         "alignmentgroup": "True",
         "customdata": [
          [
           "young",
           1.31,
           "Decision Tree u"
          ]
         ],
         "hovertemplate": "<b>%{customdata[2]}</b><br>Subgroup: %{customdata[0]}<br>Score: %{customdata[1]}<br><extra></extra>",
         "legendgroup": "Decision Tree u",
         "marker": {
          "color": "#8bdcbe",
          "pattern": {
           "shape": ""
          }
         },
         "name": "Decision Tree u",
         "offsetgroup": "Decision Tree u",
         "orientation": "h",
         "showlegend": false,
         "textposition": "auto",
         "type": "bar",
         "x": [
          0.3096153846153846
         ],
         "xaxis": "x2",
         "y": [
          0.5
         ],
         "yaxis": "y2"
        },
        {
         "alignmentgroup": "True",
         "customdata": [
          [
           "young",
           1.243,
           "Decision Tree u"
          ]
         ],
         "hovertemplate": "<b>%{customdata[2]}</b><br>Subgroup: %{customdata[0]}<br>Score: %{customdata[1]}<br><extra></extra>",
         "legendgroup": "Decision Tree u",
         "marker": {
          "color": "#8bdcbe",
          "pattern": {
           "shape": ""
          }
         },
         "name": "Decision Tree u",
         "offsetgroup": "Decision Tree u",
         "orientation": "h",
         "showlegend": false,
         "textposition": "auto",
         "type": "bar",
         "x": [
          0.24285714285714266
         ],
         "xaxis": "x",
         "y": [
          0.5
         ],
         "yaxis": "y"
        },
        {
         "alignmentgroup": "True",
         "customdata": [
          [
           "young",
           0.76,
           "Random Forest"
          ]
         ],
         "hovertemplate": "<b>%{customdata[2]}</b><br>Subgroup: %{customdata[0]}<br>Score: %{customdata[1]}<br><extra></extra>",
         "legendgroup": "Random Forest",
         "marker": {
          "color": "#f05a71",
          "pattern": {
           "shape": ""
          }
         },
         "name": "Random Forest",
         "offsetgroup": "Random Forest",
         "orientation": "h",
         "showlegend": true,
         "textposition": "auto",
         "type": "bar",
         "x": [
          -0.23988439306358378
         ],
         "xaxis": "x5",
         "y": [
          0.5
         ],
         "yaxis": "y5"
        },
        {
         "alignmentgroup": "True",
         "customdata": [
          [
           "young",
           0.864,
           "Random Forest"
          ]
         ],
         "hovertemplate": "<b>%{customdata[2]}</b><br>Subgroup: %{customdata[0]}<br>Score: %{customdata[1]}<br><extra></extra>",
         "legendgroup": "Random Forest",
         "marker": {
          "color": "#f05a71",
          "pattern": {
           "shape": ""
          }
         },
         "name": "Random Forest",
         "offsetgroup": "Random Forest",
         "orientation": "h",
         "showlegend": false,
         "textposition": "auto",
         "type": "bar",
         "x": [
          -0.13569682151589246
         ],
         "xaxis": "x4",
         "y": [
          0.5
         ],
         "yaxis": "y4"
        },
        {
         "alignmentgroup": "True",
         "customdata": [
          [
           "young",
           0.808,
           "Random Forest"
          ]
         ],
         "hovertemplate": "<b>%{customdata[2]}</b><br>Subgroup: %{customdata[0]}<br>Score: %{customdata[1]}<br><extra></extra>",
         "legendgroup": "Random Forest",
         "marker": {
          "color": "#f05a71",
          "pattern": {
           "shape": ""
          }
         },
         "name": "Random Forest",
         "offsetgroup": "Random Forest",
         "orientation": "h",
         "showlegend": false,
         "textposition": "auto",
         "type": "bar",
         "x": [
          -0.19161676646706582
         ],
         "xaxis": "x3",
         "y": [
          0.5
         ],
         "yaxis": "y3"
        },
        {
         "alignmentgroup": "True",
         "customdata": [
          [
           "young",
           0.967,
           "Random Forest"
          ]
         ],
         "hovertemplate": "<b>%{customdata[2]}</b><br>Subgroup: %{customdata[0]}<br>Score: %{customdata[1]}<br><extra></extra>",
         "legendgroup": "Random Forest",
         "marker": {
          "color": "#f05a71",
          "pattern": {
           "shape": ""
          }
         },
         "name": "Random Forest",
         "offsetgroup": "Random Forest",
         "orientation": "h",
         "showlegend": false,
         "textposition": "auto",
         "type": "bar",
         "x": [
          -0.03289473684210531
         ],
         "xaxis": "x2",
         "y": [
          0.5
         ],
         "yaxis": "y2"
        },
        {
         "alignmentgroup": "True",
         "customdata": [
          [
           "young",
           0.645,
           "Random Forest"
          ]
         ],
         "hovertemplate": "<b>%{customdata[2]}</b><br>Subgroup: %{customdata[0]}<br>Score: %{customdata[1]}<br><extra></extra>",
         "legendgroup": "Random Forest",
         "marker": {
          "color": "#f05a71",
          "pattern": {
           "shape": ""
          }
         },
         "name": "Random Forest",
         "offsetgroup": "Random Forest",
         "orientation": "h",
         "showlegend": false,
         "textposition": "auto",
         "type": "bar",
         "x": [
          -0.3545454545454546
         ],
         "xaxis": "x",
         "y": [
          0.5
         ],
         "yaxis": "y"
        },
        {
         "alignmentgroup": "True",
         "customdata": [
          [
           "young",
           0.682,
           "Logistic Regression"
          ]
         ],
         "hovertemplate": "<b>%{customdata[2]}</b><br>Subgroup: %{customdata[0]}<br>Score: %{customdata[1]}<br><extra></extra>",
         "legendgroup": "Logistic Regression",
         "marker": {
          "color": "#4378bf",
          "pattern": {
           "shape": ""
          }
         },
         "name": "Logistic Regression",
         "offsetgroup": "Logistic Regression",
         "orientation": "h",
         "showlegend": true,
         "textposition": "auto",
         "type": "bar",
         "x": [
          -0.3179669030732861
         ],
         "xaxis": "x5",
         "y": [
          0.5
         ],
         "yaxis": "y5"
        },
        {
         "alignmentgroup": "True",
         "customdata": [
          [
           "young",
           1.09,
           "Logistic Regression"
          ]
         ],
         "hovertemplate": "<b>%{customdata[2]}</b><br>Subgroup: %{customdata[0]}<br>Score: %{customdata[1]}<br><extra></extra>",
         "legendgroup": "Logistic Regression",
         "marker": {
          "color": "#4378bf",
          "pattern": {
           "shape": ""
          }
         },
         "name": "Logistic Regression",
         "offsetgroup": "Logistic Regression",
         "orientation": "h",
         "showlegend": false,
         "textposition": "auto",
         "type": "bar",
         "x": [
          0.0901162790697676
         ],
         "xaxis": "x4",
         "y": [
          0.5
         ],
         "yaxis": "y4"
        },
        {
         "alignmentgroup": "True",
         "customdata": [
          [
           "young",
           0.285,
           "Logistic Regression"
          ]
         ],
         "hovertemplate": "<b>%{customdata[2]}</b><br>Subgroup: %{customdata[0]}<br>Score: %{customdata[1]}<br><extra></extra>",
         "legendgroup": "Logistic Regression",
         "marker": {
          "color": "#4378bf",
          "pattern": {
           "shape": ""
          }
         },
         "name": "Logistic Regression",
         "offsetgroup": "Logistic Regression",
         "orientation": "h",
         "showlegend": false,
         "textposition": "auto",
         "type": "bar",
         "x": [
          -0.7146282973621103
         ],
         "xaxis": "x3",
         "y": [
          0.5
         ],
         "yaxis": "y3"
        },
        {
         "alignmentgroup": "True",
         "customdata": [
          [
           "young",
           1.062,
           "Logistic Regression"
          ]
         ],
         "hovertemplate": "<b>%{customdata[2]}</b><br>Subgroup: %{customdata[0]}<br>Score: %{customdata[1]}<br><extra></extra>",
         "legendgroup": "Logistic Regression",
         "marker": {
          "color": "#4378bf",
          "pattern": {
           "shape": ""
          }
         },
         "name": "Logistic Regression",
         "offsetgroup": "Logistic Regression",
         "orientation": "h",
         "showlegend": false,
         "textposition": "auto",
         "type": "bar",
         "x": [
          0.0625
         ],
         "xaxis": "x2",
         "y": [
          0.5
         ],
         "yaxis": "y2"
        },
        {
         "alignmentgroup": "True",
         "customdata": [
          [
           "young",
           0.459,
           "Logistic Regression"
          ]
         ],
         "hovertemplate": "<b>%{customdata[2]}</b><br>Subgroup: %{customdata[0]}<br>Score: %{customdata[1]}<br><extra></extra>",
         "legendgroup": "Logistic Regression",
         "marker": {
          "color": "#4378bf",
          "pattern": {
           "shape": ""
          }
         },
         "name": "Logistic Regression",
         "offsetgroup": "Logistic Regression",
         "orientation": "h",
         "showlegend": false,
         "textposition": "auto",
         "type": "bar",
         "x": [
          -0.540625
         ],
         "xaxis": "x",
         "y": [
          0.5
         ],
         "yaxis": "y"
        },
        {
         "alignmentgroup": "True",
         "customdata": [
          [
           "young",
           1.747,
           "Decision Tree p"
          ]
         ],
         "hovertemplate": "<b>%{customdata[2]}</b><br>Subgroup: %{customdata[0]}<br>Score: %{customdata[1]}<br><extra></extra>",
         "legendgroup": "Decision Tree p",
         "marker": {
          "color": "#ffa58c",
          "pattern": {
           "shape": ""
          }
         },
         "name": "Decision Tree p",
         "offsetgroup": "Decision Tree p",
         "orientation": "h",
         "showlegend": true,
         "textposition": "auto",
         "type": "bar",
         "x": [
          0.746753246753247
         ],
         "xaxis": "x5",
         "y": [
          0.5
         ],
         "yaxis": "y5"
        },
        {
         "alignmentgroup": "True",
         "customdata": [
          [
           "young",
           1.037,
           "Decision Tree p"
          ]
         ],
         "hovertemplate": "<b>%{customdata[2]}</b><br>Subgroup: %{customdata[0]}<br>Score: %{customdata[1]}<br><extra></extra>",
         "legendgroup": "Decision Tree p",
         "marker": {
          "color": "#ffa58c",
          "pattern": {
           "shape": ""
          }
         },
         "name": "Decision Tree p",
         "offsetgroup": "Decision Tree p",
         "orientation": "h",
         "showlegend": false,
         "textposition": "auto",
         "type": "bar",
         "x": [
          0.03677758318739066
         ],
         "xaxis": "x4",
         "y": [
          0.5
         ],
         "yaxis": "y4"
        },
        {
         "alignmentgroup": "True",
         "customdata": [
          [
           "young",
           0.92,
           "Decision Tree p"
          ]
         ],
         "hovertemplate": "<b>%{customdata[2]}</b><br>Subgroup: %{customdata[0]}<br>Score: %{customdata[1]}<br><extra></extra>",
         "legendgroup": "Decision Tree p",
         "marker": {
          "color": "#ffa58c",
          "pattern": {
           "shape": ""
          }
         },
         "name": "Decision Tree p",
         "offsetgroup": "Decision Tree p",
         "orientation": "h",
         "showlegend": false,
         "textposition": "auto",
         "type": "bar",
         "x": [
          -0.07999999999999996
         ],
         "xaxis": "x3",
         "y": [
          0.5
         ],
         "yaxis": "y3"
        },
        {
         "alignmentgroup": "True",
         "customdata": [
          [
           "young",
           1.31,
           "Decision Tree p"
          ]
         ],
         "hovertemplate": "<b>%{customdata[2]}</b><br>Subgroup: %{customdata[0]}<br>Score: %{customdata[1]}<br><extra></extra>",
         "legendgroup": "Decision Tree p",
         "marker": {
          "color": "#ffa58c",
          "pattern": {
           "shape": ""
          }
         },
         "name": "Decision Tree p",
         "offsetgroup": "Decision Tree p",
         "orientation": "h",
         "showlegend": false,
         "textposition": "auto",
         "type": "bar",
         "x": [
          0.3096153846153846
         ],
         "xaxis": "x2",
         "y": [
          0.5
         ],
         "yaxis": "y2"
        },
        {
         "alignmentgroup": "True",
         "customdata": [
          [
           "young",
           1.243,
           "Decision Tree p"
          ]
         ],
         "hovertemplate": "<b>%{customdata[2]}</b><br>Subgroup: %{customdata[0]}<br>Score: %{customdata[1]}<br><extra></extra>",
         "legendgroup": "Decision Tree p",
         "marker": {
          "color": "#ffa58c",
          "pattern": {
           "shape": ""
          }
         },
         "name": "Decision Tree p",
         "offsetgroup": "Decision Tree p",
         "orientation": "h",
         "showlegend": false,
         "textposition": "auto",
         "type": "bar",
         "x": [
          0.24285714285714266
         ],
         "xaxis": "x",
         "y": [
          0.5
         ],
         "yaxis": "y"
        }
       ],
       "layout": {
        "annotations": [
         {
          "font": {
           "size": 15
          },
          "showarrow": false,
          "text": "Statistical parity ratio   (TP + FP)/(TP + FP + TN + FN)",
          "x": 0.05,
          "xanchor": "left",
          "xref": "paper",
          "y": 0.144,
          "yanchor": "bottom",
          "yref": "paper"
         },
         {
          "font": {
           "size": 15
          },
          "showarrow": false,
          "text": "Accuracy equality ratio    (TP + TN)/(TP + FP + TN + FN)",
          "x": 0.05,
          "xanchor": "left",
          "xref": "paper",
          "y": 0.358,
          "yanchor": "bottom",
          "yref": "paper"
         },
         {
          "font": {
           "size": 15
          },
          "showarrow": false,
          "text": "Predictive equality ratio   FP/(FP + TN)",
          "x": 0.05,
          "xanchor": "left",
          "xref": "paper",
          "y": 0.572,
          "yanchor": "bottom",
          "yref": "paper"
         },
         {
          "font": {
           "size": 15
          },
          "showarrow": false,
          "text": "Predictive parity ratio     TP/(TP + FP)",
          "x": 0.05,
          "xanchor": "left",
          "xref": "paper",
          "y": 0.7859999999999999,
          "yanchor": "bottom",
          "yref": "paper"
         },
         {
          "font": {
           "size": 15
          },
          "showarrow": false,
          "text": "Equal opportunity ratio     TP/(TP + FN)",
          "x": 0.05,
          "xanchor": "left",
          "xref": "paper",
          "y": 1,
          "yanchor": "bottom",
          "yref": "paper"
         }
        ],
        "barmode": "group",
        "font": {
         "color": "#371ea3"
        },
        "legend": {
         "title": {
          "text": "label"
         },
         "tracegroupgap": 0
        },
        "margin": {
         "b": 71,
         "r": 30,
         "t": 78
        },
        "shapes": [
         {
          "fillcolor": "#f05a71",
          "layer": "below",
          "line": {
           "width": 0
          },
          "opacity": 0.1,
          "type": "rect",
          "x0": 0.25,
          "x1": 0.8,
          "xref": "x",
          "y0": 0,
          "y1": 1,
          "yref": "y"
         },
         {
          "fillcolor": "#f05a71",
          "layer": "below",
          "line": {
           "width": 0
          },
          "opacity": 0.1,
          "type": "rect",
          "x0": -0.7860911270983214,
          "x1": -0.19999999999999996,
          "xref": "x",
          "y0": 0,
          "y1": 1,
          "yref": "y"
         },
         {
          "fillcolor": "#c7f5bf",
          "layer": "below",
          "line": {
           "width": 0
          },
          "opacity": 0.1,
          "type": "rect",
          "x0": -0.19999999999999996,
          "x1": 0.25,
          "xref": "x",
          "y0": 0,
          "y1": 1,
          "yref": "y"
         },
         {
          "line": {
           "color": "#371ea3",
           "width": 1.5
          },
          "type": "line",
          "x0": 0,
          "x1": 0,
          "xref": "x",
          "y0": 0,
          "y1": 1,
          "yref": "y"
         },
         {
          "fillcolor": "#f05a71",
          "layer": "below",
          "line": {
           "width": 0
          },
          "opacity": 0.1,
          "type": "rect",
          "x0": 0.25,
          "x1": 0.8,
          "xref": "x",
          "y0": 0,
          "y1": 1,
          "yref": "y2"
         },
         {
          "fillcolor": "#f05a71",
          "layer": "below",
          "line": {
           "width": 0
          },
          "opacity": 0.1,
          "type": "rect",
          "x0": -0.7860911270983214,
          "x1": -0.19999999999999996,
          "xref": "x",
          "y0": 0,
          "y1": 1,
          "yref": "y2"
         },
         {
          "fillcolor": "#c7f5bf",
          "layer": "below",
          "line": {
           "width": 0
          },
          "opacity": 0.1,
          "type": "rect",
          "x0": -0.19999999999999996,
          "x1": 0.25,
          "xref": "x",
          "y0": 0,
          "y1": 1,
          "yref": "y2"
         },
         {
          "line": {
           "color": "#371ea3",
           "width": 1.5
          },
          "type": "line",
          "x0": 0,
          "x1": 0,
          "xref": "x",
          "y0": 0,
          "y1": 1,
          "yref": "y2"
         },
         {
          "fillcolor": "#f05a71",
          "layer": "below",
          "line": {
           "width": 0
          },
          "opacity": 0.1,
          "type": "rect",
          "x0": 0.25,
          "x1": 0.8,
          "xref": "x",
          "y0": 0,
          "y1": 1,
          "yref": "y3"
         },
         {
          "fillcolor": "#f05a71",
          "layer": "below",
          "line": {
           "width": 0
          },
          "opacity": 0.1,
          "type": "rect",
          "x0": -0.7860911270983214,
          "x1": -0.19999999999999996,
          "xref": "x",
          "y0": 0,
          "y1": 1,
          "yref": "y3"
         },
         {
          "fillcolor": "#c7f5bf",
          "layer": "below",
          "line": {
           "width": 0
          },
          "opacity": 0.1,
          "type": "rect",
          "x0": -0.19999999999999996,
          "x1": 0.25,
          "xref": "x",
          "y0": 0,
          "y1": 1,
          "yref": "y3"
         },
         {
          "line": {
           "color": "#371ea3",
           "width": 1.5
          },
          "type": "line",
          "x0": 0,
          "x1": 0,
          "xref": "x",
          "y0": 0,
          "y1": 1,
          "yref": "y3"
         },
         {
          "fillcolor": "#f05a71",
          "layer": "below",
          "line": {
           "width": 0
          },
          "opacity": 0.1,
          "type": "rect",
          "x0": 0.25,
          "x1": 0.8,
          "xref": "x",
          "y0": 0,
          "y1": 1,
          "yref": "y4"
         },
         {
          "fillcolor": "#f05a71",
          "layer": "below",
          "line": {
           "width": 0
          },
          "opacity": 0.1,
          "type": "rect",
          "x0": -0.7860911270983214,
          "x1": -0.19999999999999996,
          "xref": "x",
          "y0": 0,
          "y1": 1,
          "yref": "y4"
         },
         {
          "fillcolor": "#c7f5bf",
          "layer": "below",
          "line": {
           "width": 0
          },
          "opacity": 0.1,
          "type": "rect",
          "x0": -0.19999999999999996,
          "x1": 0.25,
          "xref": "x",
          "y0": 0,
          "y1": 1,
          "yref": "y4"
         },
         {
          "line": {
           "color": "#371ea3",
           "width": 1.5
          },
          "type": "line",
          "x0": 0,
          "x1": 0,
          "xref": "x",
          "y0": 0,
          "y1": 1,
          "yref": "y4"
         },
         {
          "fillcolor": "#f05a71",
          "layer": "below",
          "line": {
           "width": 0
          },
          "opacity": 0.1,
          "type": "rect",
          "x0": 0.25,
          "x1": 0.8,
          "xref": "x",
          "y0": 0,
          "y1": 1,
          "yref": "y5"
         },
         {
          "fillcolor": "#f05a71",
          "layer": "below",
          "line": {
           "width": 0
          },
          "opacity": 0.1,
          "type": "rect",
          "x0": -0.7860911270983214,
          "x1": -0.19999999999999996,
          "xref": "x",
          "y0": 0,
          "y1": 1,
          "yref": "y5"
         },
         {
          "fillcolor": "#c7f5bf",
          "layer": "below",
          "line": {
           "width": 0
          },
          "opacity": 0.1,
          "type": "rect",
          "x0": -0.19999999999999996,
          "x1": 0.25,
          "xref": "x",
          "y0": 0,
          "y1": 1,
          "yref": "y5"
         },
         {
          "line": {
           "color": "#371ea3",
           "width": 1.5
          },
          "type": "line",
          "x0": 0,
          "x1": 0,
          "xref": "x",
          "y0": 0,
          "y1": 1,
          "yref": "y5"
         }
        ],
        "template": {
         "data": {
          "bar": [
           {
            "error_x": {
             "color": "#2a3f5f"
            },
            "error_y": {
             "color": "#2a3f5f"
            },
            "marker": {
             "line": {
              "color": "white",
              "width": 0.5
             },
             "pattern": {
              "fillmode": "overlay",
              "size": 10,
              "solidity": 0.2
             }
            },
            "type": "bar"
           }
          ],
          "barpolar": [
           {
            "marker": {
             "line": {
              "color": "white",
              "width": 0.5
             },
             "pattern": {
              "fillmode": "overlay",
              "size": 10,
              "solidity": 0.2
             }
            },
            "type": "barpolar"
           }
          ],
          "carpet": [
           {
            "aaxis": {
             "endlinecolor": "#2a3f5f",
             "gridcolor": "#C8D4E3",
             "linecolor": "#C8D4E3",
             "minorgridcolor": "#C8D4E3",
             "startlinecolor": "#2a3f5f"
            },
            "baxis": {
             "endlinecolor": "#2a3f5f",
             "gridcolor": "#C8D4E3",
             "linecolor": "#C8D4E3",
             "minorgridcolor": "#C8D4E3",
             "startlinecolor": "#2a3f5f"
            },
            "type": "carpet"
           }
          ],
          "choropleth": [
           {
            "colorbar": {
             "outlinewidth": 0,
             "ticks": ""
            },
            "type": "choropleth"
           }
          ],
          "contour": [
           {
            "colorbar": {
             "outlinewidth": 0,
             "ticks": ""
            },
            "colorscale": [
             [
              0,
              "#0d0887"
             ],
             [
              0.1111111111111111,
              "#46039f"
             ],
             [
              0.2222222222222222,
              "#7201a8"
             ],
             [
              0.3333333333333333,
              "#9c179e"
             ],
             [
              0.4444444444444444,
              "#bd3786"
             ],
             [
              0.5555555555555556,
              "#d8576b"
             ],
             [
              0.6666666666666666,
              "#ed7953"
             ],
             [
              0.7777777777777778,
              "#fb9f3a"
             ],
             [
              0.8888888888888888,
              "#fdca26"
             ],
             [
              1,
              "#f0f921"
             ]
            ],
            "type": "contour"
           }
          ],
          "contourcarpet": [
           {
            "colorbar": {
             "outlinewidth": 0,
             "ticks": ""
            },
            "type": "contourcarpet"
           }
          ],
          "heatmap": [
           {
            "colorbar": {
             "outlinewidth": 0,
             "ticks": ""
            },
            "colorscale": [
             [
              0,
              "#0d0887"
             ],
             [
              0.1111111111111111,
              "#46039f"
             ],
             [
              0.2222222222222222,
              "#7201a8"
             ],
             [
              0.3333333333333333,
              "#9c179e"
             ],
             [
              0.4444444444444444,
              "#bd3786"
             ],
             [
              0.5555555555555556,
              "#d8576b"
             ],
             [
              0.6666666666666666,
              "#ed7953"
             ],
             [
              0.7777777777777778,
              "#fb9f3a"
             ],
             [
              0.8888888888888888,
              "#fdca26"
             ],
             [
              1,
              "#f0f921"
             ]
            ],
            "type": "heatmap"
           }
          ],
          "heatmapgl": [
           {
            "colorbar": {
             "outlinewidth": 0,
             "ticks": ""
            },
            "colorscale": [
             [
              0,
              "#0d0887"
             ],
             [
              0.1111111111111111,
              "#46039f"
             ],
             [
              0.2222222222222222,
              "#7201a8"
             ],
             [
              0.3333333333333333,
              "#9c179e"
             ],
             [
              0.4444444444444444,
              "#bd3786"
             ],
             [
              0.5555555555555556,
              "#d8576b"
             ],
             [
              0.6666666666666666,
              "#ed7953"
             ],
             [
              0.7777777777777778,
              "#fb9f3a"
             ],
             [
              0.8888888888888888,
              "#fdca26"
             ],
             [
              1,
              "#f0f921"
             ]
            ],
            "type": "heatmapgl"
           }
          ],
          "histogram": [
           {
            "marker": {
             "pattern": {
              "fillmode": "overlay",
              "size": 10,
              "solidity": 0.2
             }
            },
            "type": "histogram"
           }
          ],
          "histogram2d": [
           {
            "colorbar": {
             "outlinewidth": 0,
             "ticks": ""
            },
            "colorscale": [
             [
              0,
              "#0d0887"
             ],
             [
              0.1111111111111111,
              "#46039f"
             ],
             [
              0.2222222222222222,
              "#7201a8"
             ],
             [
              0.3333333333333333,
              "#9c179e"
             ],
             [
              0.4444444444444444,
              "#bd3786"
             ],
             [
              0.5555555555555556,
              "#d8576b"
             ],
             [
              0.6666666666666666,
              "#ed7953"
             ],
             [
              0.7777777777777778,
              "#fb9f3a"
             ],
             [
              0.8888888888888888,
              "#fdca26"
             ],
             [
              1,
              "#f0f921"
             ]
            ],
            "type": "histogram2d"
           }
          ],
          "histogram2dcontour": [
           {
            "colorbar": {
             "outlinewidth": 0,
             "ticks": ""
            },
            "colorscale": [
             [
              0,
              "#0d0887"
             ],
             [
              0.1111111111111111,
              "#46039f"
             ],
             [
              0.2222222222222222,
              "#7201a8"
             ],
             [
              0.3333333333333333,
              "#9c179e"
             ],
             [
              0.4444444444444444,
              "#bd3786"
             ],
             [
              0.5555555555555556,
              "#d8576b"
             ],
             [
              0.6666666666666666,
              "#ed7953"
             ],
             [
              0.7777777777777778,
              "#fb9f3a"
             ],
             [
              0.8888888888888888,
              "#fdca26"
             ],
             [
              1,
              "#f0f921"
             ]
            ],
            "type": "histogram2dcontour"
           }
          ],
          "mesh3d": [
           {
            "colorbar": {
             "outlinewidth": 0,
             "ticks": ""
            },
            "type": "mesh3d"
           }
          ],
          "parcoords": [
           {
            "line": {
             "colorbar": {
              "outlinewidth": 0,
              "ticks": ""
             }
            },
            "type": "parcoords"
           }
          ],
          "pie": [
           {
            "automargin": true,
            "type": "pie"
           }
          ],
          "scatter": [
           {
            "fillpattern": {
             "fillmode": "overlay",
             "size": 10,
             "solidity": 0.2
            },
            "type": "scatter"
           }
          ],
          "scatter3d": [
           {
            "line": {
             "colorbar": {
              "outlinewidth": 0,
              "ticks": ""
             }
            },
            "marker": {
             "colorbar": {
              "outlinewidth": 0,
              "ticks": ""
             }
            },
            "type": "scatter3d"
           }
          ],
          "scattercarpet": [
           {
            "marker": {
             "colorbar": {
              "outlinewidth": 0,
              "ticks": ""
             }
            },
            "type": "scattercarpet"
           }
          ],
          "scattergeo": [
           {
            "marker": {
             "colorbar": {
              "outlinewidth": 0,
              "ticks": ""
             }
            },
            "type": "scattergeo"
           }
          ],
          "scattergl": [
           {
            "marker": {
             "colorbar": {
              "outlinewidth": 0,
              "ticks": ""
             }
            },
            "type": "scattergl"
           }
          ],
          "scattermapbox": [
           {
            "marker": {
             "colorbar": {
              "outlinewidth": 0,
              "ticks": ""
             }
            },
            "type": "scattermapbox"
           }
          ],
          "scatterpolar": [
           {
            "marker": {
             "colorbar": {
              "outlinewidth": 0,
              "ticks": ""
             }
            },
            "type": "scatterpolar"
           }
          ],
          "scatterpolargl": [
           {
            "marker": {
             "colorbar": {
              "outlinewidth": 0,
              "ticks": ""
             }
            },
            "type": "scatterpolargl"
           }
          ],
          "scatterternary": [
           {
            "marker": {
             "colorbar": {
              "outlinewidth": 0,
              "ticks": ""
             }
            },
            "type": "scatterternary"
           }
          ],
          "surface": [
           {
            "colorbar": {
             "outlinewidth": 0,
             "ticks": ""
            },
            "colorscale": [
             [
              0,
              "#0d0887"
             ],
             [
              0.1111111111111111,
              "#46039f"
             ],
             [
              0.2222222222222222,
              "#7201a8"
             ],
             [
              0.3333333333333333,
              "#9c179e"
             ],
             [
              0.4444444444444444,
              "#bd3786"
             ],
             [
              0.5555555555555556,
              "#d8576b"
             ],
             [
              0.6666666666666666,
              "#ed7953"
             ],
             [
              0.7777777777777778,
              "#fb9f3a"
             ],
             [
              0.8888888888888888,
              "#fdca26"
             ],
             [
              1,
              "#f0f921"
             ]
            ],
            "type": "surface"
           }
          ],
          "table": [
           {
            "cells": {
             "fill": {
              "color": "#EBF0F8"
             },
             "line": {
              "color": "white"
             }
            },
            "header": {
             "fill": {
              "color": "#C8D4E3"
             },
             "line": {
              "color": "white"
             }
            },
            "type": "table"
           }
          ]
         },
         "layout": {
          "annotationdefaults": {
           "arrowcolor": "#2a3f5f",
           "arrowhead": 0,
           "arrowwidth": 1
          },
          "autotypenumbers": "strict",
          "coloraxis": {
           "colorbar": {
            "outlinewidth": 0,
            "ticks": ""
           }
          },
          "colorscale": {
           "diverging": [
            [
             0,
             "#8e0152"
            ],
            [
             0.1,
             "#c51b7d"
            ],
            [
             0.2,
             "#de77ae"
            ],
            [
             0.3,
             "#f1b6da"
            ],
            [
             0.4,
             "#fde0ef"
            ],
            [
             0.5,
             "#f7f7f7"
            ],
            [
             0.6,
             "#e6f5d0"
            ],
            [
             0.7,
             "#b8e186"
            ],
            [
             0.8,
             "#7fbc41"
            ],
            [
             0.9,
             "#4d9221"
            ],
            [
             1,
             "#276419"
            ]
           ],
           "sequential": [
            [
             0,
             "#0d0887"
            ],
            [
             0.1111111111111111,
             "#46039f"
            ],
            [
             0.2222222222222222,
             "#7201a8"
            ],
            [
             0.3333333333333333,
             "#9c179e"
            ],
            [
             0.4444444444444444,
             "#bd3786"
            ],
            [
             0.5555555555555556,
             "#d8576b"
            ],
            [
             0.6666666666666666,
             "#ed7953"
            ],
            [
             0.7777777777777778,
             "#fb9f3a"
            ],
            [
             0.8888888888888888,
             "#fdca26"
            ],
            [
             1,
             "#f0f921"
            ]
           ],
           "sequentialminus": [
            [
             0,
             "#0d0887"
            ],
            [
             0.1111111111111111,
             "#46039f"
            ],
            [
             0.2222222222222222,
             "#7201a8"
            ],
            [
             0.3333333333333333,
             "#9c179e"
            ],
            [
             0.4444444444444444,
             "#bd3786"
            ],
            [
             0.5555555555555556,
             "#d8576b"
            ],
            [
             0.6666666666666666,
             "#ed7953"
            ],
            [
             0.7777777777777778,
             "#fb9f3a"
            ],
            [
             0.8888888888888888,
             "#fdca26"
            ],
            [
             1,
             "#f0f921"
            ]
           ]
          },
          "colorway": [
           "#636efa",
           "#EF553B",
           "#00cc96",
           "#ab63fa",
           "#FFA15A",
           "#19d3f3",
           "#FF6692",
           "#B6E880",
           "#FF97FF",
           "#FECB52"
          ],
          "font": {
           "color": "#2a3f5f"
          },
          "geo": {
           "bgcolor": "white",
           "lakecolor": "white",
           "landcolor": "white",
           "showlakes": true,
           "showland": true,
           "subunitcolor": "#C8D4E3"
          },
          "hoverlabel": {
           "align": "left"
          },
          "hovermode": "closest",
          "mapbox": {
           "style": "light"
          },
          "paper_bgcolor": "white",
          "plot_bgcolor": "white",
          "polar": {
           "angularaxis": {
            "gridcolor": "#EBF0F8",
            "linecolor": "#EBF0F8",
            "ticks": ""
           },
           "bgcolor": "white",
           "radialaxis": {
            "gridcolor": "#EBF0F8",
            "linecolor": "#EBF0F8",
            "ticks": ""
           }
          },
          "scene": {
           "xaxis": {
            "backgroundcolor": "white",
            "gridcolor": "#DFE8F3",
            "gridwidth": 2,
            "linecolor": "#EBF0F8",
            "showbackground": true,
            "ticks": "",
            "zerolinecolor": "#EBF0F8"
           },
           "yaxis": {
            "backgroundcolor": "white",
            "gridcolor": "#DFE8F3",
            "gridwidth": 2,
            "linecolor": "#EBF0F8",
            "showbackground": true,
            "ticks": "",
            "zerolinecolor": "#EBF0F8"
           },
           "zaxis": {
            "backgroundcolor": "white",
            "gridcolor": "#DFE8F3",
            "gridwidth": 2,
            "linecolor": "#EBF0F8",
            "showbackground": true,
            "ticks": "",
            "zerolinecolor": "#EBF0F8"
           }
          },
          "shapedefaults": {
           "line": {
            "color": "#2a3f5f"
           }
          },
          "ternary": {
           "aaxis": {
            "gridcolor": "#DFE8F3",
            "linecolor": "#A2B1C6",
            "ticks": ""
           },
           "baxis": {
            "gridcolor": "#DFE8F3",
            "linecolor": "#A2B1C6",
            "ticks": ""
           },
           "bgcolor": "white",
           "caxis": {
            "gridcolor": "#DFE8F3",
            "linecolor": "#A2B1C6",
            "ticks": ""
           }
          },
          "title": {
           "x": 0.05
          },
          "xaxis": {
           "automargin": true,
           "gridcolor": "#EBF0F8",
           "linecolor": "#EBF0F8",
           "ticks": "",
           "title": {
            "standoff": 15
           },
           "zerolinecolor": "#EBF0F8",
           "zerolinewidth": 2
          },
          "yaxis": {
           "automargin": true,
           "gridcolor": "#EBF0F8",
           "linecolor": "#EBF0F8",
           "ticks": "",
           "title": {
            "standoff": 15
           },
           "zerolinecolor": "#EBF0F8",
           "zerolinewidth": 2
          }
         }
        },
        "title": {
         "font": {
          "size": 25
         },
         "text": "Fairness Check",
         "x": 0.5,
         "y": 0.99
        },
        "xaxis": {
         "anchor": "y",
         "domain": [
          0,
          1
         ],
         "range": [
          -0.7860911270983214,
          0.8
         ],
         "ticktext": [
          0.2,
          0.4,
          0.6,
          0.8,
          1,
          1.2,
          1.4,
          1.6,
          1
         ],
         "tickvals": [
          -0.8,
          -0.6,
          -0.4,
          -0.19999999999999996,
          0,
          0.19999999999999996,
          0.3999999999999999,
          0.6000000000000001,
          0
         ],
         "title": {
          "text": "score"
         }
        },
        "xaxis2": {
         "anchor": "y2",
         "domain": [
          0,
          1
         ],
         "matches": "x",
         "range": [
          -0.7860911270983214,
          0.8
         ],
         "showticklabels": false,
         "ticktext": [
          0.2,
          0.4,
          0.6,
          0.8,
          1,
          1.2,
          1.4,
          1.6,
          1
         ],
         "tickvals": [
          -0.8,
          -0.6,
          -0.4,
          -0.19999999999999996,
          0,
          0.19999999999999996,
          0.3999999999999999,
          0.6000000000000001,
          0
         ]
        },
        "xaxis3": {
         "anchor": "y3",
         "domain": [
          0,
          1
         ],
         "matches": "x",
         "range": [
          -0.7860911270983214,
          0.8
         ],
         "showticklabels": false,
         "ticktext": [
          0.2,
          0.4,
          0.6,
          0.8,
          1,
          1.2,
          1.4,
          1.6,
          1
         ],
         "tickvals": [
          -0.8,
          -0.6,
          -0.4,
          -0.19999999999999996,
          0,
          0.19999999999999996,
          0.3999999999999999,
          0.6000000000000001,
          0
         ]
        },
        "xaxis4": {
         "anchor": "y4",
         "domain": [
          0,
          1
         ],
         "matches": "x",
         "range": [
          -0.7860911270983214,
          0.8
         ],
         "showticklabels": false,
         "ticktext": [
          0.2,
          0.4,
          0.6,
          0.8,
          1,
          1.2,
          1.4,
          1.6,
          1
         ],
         "tickvals": [
          -0.8,
          -0.6,
          -0.4,
          -0.19999999999999996,
          0,
          0.19999999999999996,
          0.3999999999999999,
          0.6000000000000001,
          0
         ]
        },
        "xaxis5": {
         "anchor": "y5",
         "domain": [
          0,
          1
         ],
         "matches": "x",
         "range": [
          -0.7860911270983214,
          0.8
         ],
         "showticklabels": false,
         "ticktext": [
          0.2,
          0.4,
          0.6,
          0.8,
          1,
          1.2,
          1.4,
          1.6,
          1
         ],
         "tickvals": [
          -0.8,
          -0.6,
          -0.4,
          -0.19999999999999996,
          0,
          0.19999999999999996,
          0.3999999999999999,
          0.6000000000000001,
          0
         ]
        },
        "yaxis": {
         "anchor": "x",
         "domain": [
          0,
          0.144
         ],
         "range": [
          0,
          1
         ],
         "showgrid": false,
         "ticktext": [
          "young"
         ],
         "tickvals": [
          0.5
         ],
         "title": {
          "text": ""
         },
         "zeroline": false
        },
        "yaxis2": {
         "anchor": "x2",
         "domain": [
          0.214,
          0.358
         ],
         "matches": "y",
         "range": [
          0,
          1
         ],
         "showgrid": false,
         "ticktext": [
          "young"
         ],
         "tickvals": [
          0.5
         ],
         "title": {
          "text": ""
         },
         "zeroline": false
        },
        "yaxis3": {
         "anchor": "x3",
         "domain": [
          0.428,
          0.572
         ],
         "matches": "y",
         "range": [
          0,
          1
         ],
         "showgrid": false,
         "ticktext": [
          "young"
         ],
         "tickvals": [
          0.5
         ],
         "title": {
          "text": "subgroup"
         },
         "zeroline": false
        },
        "yaxis4": {
         "anchor": "x4",
         "domain": [
          0.6419999999999999,
          0.7859999999999999
         ],
         "matches": "y",
         "range": [
          0,
          1
         ],
         "showgrid": false,
         "ticktext": [
          "young"
         ],
         "tickvals": [
          0.5
         ],
         "title": {
          "text": ""
         },
         "zeroline": false
        },
        "yaxis5": {
         "anchor": "x5",
         "domain": [
          0.856,
          1
         ],
         "matches": "y",
         "range": [
          0,
          1
         ],
         "showgrid": false,
         "ticktext": [
          "young"
         ],
         "tickvals": [
          0.5
         ],
         "title": {
          "text": ""
         },
         "zeroline": false
        }
       }
      }
     },
     "metadata": {},
     "output_type": "display_data"
    }
   ],
   "source": [
    "#decision tree explainers\n",
    "exp1_dt = dx.Explainer(clf_u_dt, X_test, y_test, verbose = False)\n",
    "exp2_dt = dx.Explainer(clf_p_dt, X_test, y_test, verbose = False)\n",
    "\n",
    "#random forest expaliner\n",
    "exp_rf = dx.Explainer(clf_u_rf, X_test, y_test, verbose = False)\n",
    "\n",
    "#logistic regression explainer\n",
    "exp_lr = dx.Explainer(clf_u_lr, X_test, y_test, verbose = False)\n",
    "\n",
    "mf_u_dt = exp1_dt.model_fairness(protected=protected, privileged=privileged, label=\"Decision Tree u\")#uniform\n",
    "mf_p_dt = exp2_dt.model_fairness(protected=protected, privileged=privileged, label=\"Decision Tree p\")#preferential\n",
    "\n",
    "mf_u_rf = exp_rf.model_fairness(protected=protected, privileged=privileged, label=\"Random Forest\")\n",
    "mf_u_lr = exp_lr.model_fairness(protected=protected, privileged=privileged, label=\"Logistic Regression\")\n",
    "\n",
    "mf_u_dt.plot([mf_u_rf, mf_u_lr, mf_p_dt,])"
   ]
  },
  {
   "cell_type": "code",
   "execution_count": 32,
   "metadata": {},
   "outputs": [
    {
     "name": "stdout",
     "output_type": "stream",
     "text": [
      "Bias detected in 2 metrics: TPR, ACC\n",
      "\n",
      "Conclusion: your model is not fair because 2 or more criteria exceeded acceptable limits set by epsilon.\n",
      "\n",
      "Ratios of metrics, based on 'old'. Parameter 'epsilon' was set to 0.8 and therefore metrics should be within (0.8, 1.25)\n",
      "            TPR       ACC       PPV   FPR       STP\n",
      "young  1.746753  1.309615  1.036778  0.92  1.242857\n",
      "Bias detected in 2 metrics: TPR, ACC\n",
      "\n",
      "Conclusion: your model is not fair because 2 or more criteria exceeded acceptable limits set by epsilon.\n",
      "\n",
      "Ratios of metrics, based on 'old'. Parameter 'epsilon' was set to 0.8 and therefore metrics should be within (0.8, 1.25)\n",
      "            TPR       ACC       PPV   FPR       STP\n",
      "young  1.746753  1.309615  1.036778  0.92  1.242857\n"
     ]
    }
   ],
   "source": [
    "#decision tree fairness check\n",
    "mf_u_dt.fairness_check()\n",
    "mf_p_dt.fairness_check()\n",
    "\n"
   ]
  },
  {
   "cell_type": "code",
   "execution_count": 33,
   "metadata": {},
   "outputs": [
    {
     "name": "stdout",
     "output_type": "stream",
     "text": [
      "Bias detected in 2 metrics: TPR, STP\n",
      "\n",
      "Conclusion: your model is not fair because 2 or more criteria exceeded acceptable limits set by epsilon.\n",
      "\n",
      "Ratios of metrics, based on 'old'. Parameter 'epsilon' was set to 0.8 and therefore metrics should be within (0.8, 1.25)\n",
      "            TPR       ACC       PPV       FPR       STP\n",
      "young  0.760116  0.967105  0.864303  0.808383  0.645455\n"
     ]
    }
   ],
   "source": [
    "#random forest fairness check\n",
    "mf_u_rf.fairness_check()"
   ]
  },
  {
   "cell_type": "code",
   "execution_count": 34,
   "metadata": {},
   "outputs": [
    {
     "name": "stdout",
     "output_type": "stream",
     "text": [
      "Bias detected in 3 metrics: TPR, FPR, STP\n",
      "\n",
      "Conclusion: your model is not fair because 2 or more criteria exceeded acceptable limits set by epsilon.\n",
      "\n",
      "Ratios of metrics, based on 'old'. Parameter 'epsilon' was set to 0.8 and therefore metrics should be within (0.8, 1.25)\n",
      "            TPR     ACC       PPV       FPR       STP\n",
      "young  0.682033  1.0625  1.090116  0.285372  0.459375\n"
     ]
    }
   ],
   "source": [
    "#logistic regression fairness check\n",
    "mf_u_lr.fairness_check()"
   ]
  }
 ],
 "metadata": {
  "kernelspec": {
   "display_name": "Python 3",
   "language": "python",
   "name": "python3"
  },
  "language_info": {
   "codemirror_mode": {
    "name": "ipython",
    "version": 3
   },
   "file_extension": ".py",
   "mimetype": "text/x-python",
   "name": "python",
   "nbconvert_exporter": "python",
   "pygments_lexer": "ipython3",
   "version": "3.10.4"
  },
  "orig_nbformat": 4
 },
 "nbformat": 4,
 "nbformat_minor": 2
}
