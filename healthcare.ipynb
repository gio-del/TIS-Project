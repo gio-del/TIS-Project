{
 "cells": [
  {
   "attachments": {},
   "cell_type": "markdown",
   "metadata": {},
   "source": [
    "# Introduction\n",
    "\n",
    "In this Jupyter notebook, we will explore how to evaluate and mitigate bias in machine learning models using the Python package DALEX.\n",
    "\n",
    "We will use a diabetes prediction dataset and build a decision tree, random forest, and logistic regression models to predict the presence of diabetes.\n",
    "\n",
    "Then, we will evaluate the models' fairness using different fairness metrics and techniques, including measuring parity loss, visualizing fairness metrics, and using resampling methods to mitigate bias.\n",
    "\n",
    "Finally, we will compare the fairness of the original and mitigated models and assess their trade-offs.\n"
   ]
  },
  {
   "cell_type": "code",
   "execution_count": 549,
   "metadata": {},
   "outputs": [],
   "source": [
    "# Import libraries\n",
    "import pandas as pd\n",
    "import numpy as np\n",
    "import matplotlib.pyplot as plt\n",
    "\n",
    "# Import dataset\n",
    "dataset = pd.read_csv('diabetes.csv')\n"
   ]
  },
  {
   "attachments": {},
   "cell_type": "markdown",
   "metadata": {},
   "source": [
    "# Models\n",
    "\n",
    "This code defines three pipelines using different machine learning algorithms - Decision Tree, Random Forest, and Logistic Regression - to classify the outcome of diabetes based on various features such as age, pregnancies, glucose level, blood pressure, skin thickness, insulin level, BMI, and diabetes pedigree function.\n",
    "\n",
    "First we split the dataset into training and testing sets using the train_test_split function from scikit-learn. Then, it defines the transformers for preprocessing the data using the ColumnTransformer class from scikit-learn. The numerical transformer applies standard scaling to the numerical features, while the categorical transformer applies one-hot encoding to the categorical feature \"AgeCategory\". The ColumnTransformer combines these two transformers and applies them to the corresponding features.\n",
    "\n",
    "Next, the code defines three pipelines using the different machine learning algorithms mentioned earlier. Each pipeline includes the preprocessor defined earlier and the corresponding classifier. The Decision Tree classifier has a maximum depth of 7, while the Random Forest classifier has 200 estimators and a maximum depth of 7. The Logistic Regression classifier uses the default hyperparameters.\n",
    "\n",
    "Finally, the code fits each pipeline to the training data using the fit method of each pipeline.\n"
   ]
  },
  {
   "cell_type": "code",
   "execution_count": 550,
   "metadata": {},
   "outputs": [
    {
     "data": {
      "text/html": [
       "<style>#sk-container-id-61 {color: black;background-color: white;}#sk-container-id-61 pre{padding: 0;}#sk-container-id-61 div.sk-toggleable {background-color: white;}#sk-container-id-61 label.sk-toggleable__label {cursor: pointer;display: block;width: 100%;margin-bottom: 0;padding: 0.3em;box-sizing: border-box;text-align: center;}#sk-container-id-61 label.sk-toggleable__label-arrow:before {content: \"▸\";float: left;margin-right: 0.25em;color: #696969;}#sk-container-id-61 label.sk-toggleable__label-arrow:hover:before {color: black;}#sk-container-id-61 div.sk-estimator:hover label.sk-toggleable__label-arrow:before {color: black;}#sk-container-id-61 div.sk-toggleable__content {max-height: 0;max-width: 0;overflow: hidden;text-align: left;background-color: #f0f8ff;}#sk-container-id-61 div.sk-toggleable__content pre {margin: 0.2em;color: black;border-radius: 0.25em;background-color: #f0f8ff;}#sk-container-id-61 input.sk-toggleable__control:checked~div.sk-toggleable__content {max-height: 200px;max-width: 100%;overflow: auto;}#sk-container-id-61 input.sk-toggleable__control:checked~label.sk-toggleable__label-arrow:before {content: \"▾\";}#sk-container-id-61 div.sk-estimator input.sk-toggleable__control:checked~label.sk-toggleable__label {background-color: #d4ebff;}#sk-container-id-61 div.sk-label input.sk-toggleable__control:checked~label.sk-toggleable__label {background-color: #d4ebff;}#sk-container-id-61 input.sk-hidden--visually {border: 0;clip: rect(1px 1px 1px 1px);clip: rect(1px, 1px, 1px, 1px);height: 1px;margin: -1px;overflow: hidden;padding: 0;position: absolute;width: 1px;}#sk-container-id-61 div.sk-estimator {font-family: monospace;background-color: #f0f8ff;border: 1px dotted black;border-radius: 0.25em;box-sizing: border-box;margin-bottom: 0.5em;}#sk-container-id-61 div.sk-estimator:hover {background-color: #d4ebff;}#sk-container-id-61 div.sk-parallel-item::after {content: \"\";width: 100%;border-bottom: 1px solid gray;flex-grow: 1;}#sk-container-id-61 div.sk-label:hover label.sk-toggleable__label {background-color: #d4ebff;}#sk-container-id-61 div.sk-serial::before {content: \"\";position: absolute;border-left: 1px solid gray;box-sizing: border-box;top: 0;bottom: 0;left: 50%;z-index: 0;}#sk-container-id-61 div.sk-serial {display: flex;flex-direction: column;align-items: center;background-color: white;padding-right: 0.2em;padding-left: 0.2em;position: relative;}#sk-container-id-61 div.sk-item {position: relative;z-index: 1;}#sk-container-id-61 div.sk-parallel {display: flex;align-items: stretch;justify-content: center;background-color: white;position: relative;}#sk-container-id-61 div.sk-item::before, #sk-container-id-61 div.sk-parallel-item::before {content: \"\";position: absolute;border-left: 1px solid gray;box-sizing: border-box;top: 0;bottom: 0;left: 50%;z-index: -1;}#sk-container-id-61 div.sk-parallel-item {display: flex;flex-direction: column;z-index: 1;position: relative;background-color: white;}#sk-container-id-61 div.sk-parallel-item:first-child::after {align-self: flex-end;width: 50%;}#sk-container-id-61 div.sk-parallel-item:last-child::after {align-self: flex-start;width: 50%;}#sk-container-id-61 div.sk-parallel-item:only-child::after {width: 0;}#sk-container-id-61 div.sk-dashed-wrapped {border: 1px dashed gray;margin: 0 0.4em 0.5em 0.4em;box-sizing: border-box;padding-bottom: 0.4em;background-color: white;}#sk-container-id-61 div.sk-label label {font-family: monospace;font-weight: bold;display: inline-block;line-height: 1.2em;}#sk-container-id-61 div.sk-label-container {text-align: center;}#sk-container-id-61 div.sk-container {/* jupyter's `normalize.less` sets `[hidden] { display: none; }` but bootstrap.min.css set `[hidden] { display: none !important; }` so we also need the `!important` here to be able to override the default hidden behavior on the sphinx rendered scikit-learn.org. See: https://github.com/scikit-learn/scikit-learn/issues/21755 */display: inline-block !important;position: relative;}#sk-container-id-61 div.sk-text-repr-fallback {display: none;}</style><div id=\"sk-container-id-61\" class=\"sk-top-container\"><div class=\"sk-text-repr-fallback\"><pre>Pipeline(steps=[(&#x27;preprocessor&#x27;,\n",
       "                 ColumnTransformer(transformers=[(&#x27;num&#x27;,\n",
       "                                                  Pipeline(steps=[(&#x27;scaler&#x27;,\n",
       "                                                                   StandardScaler())]),\n",
       "                                                  [&#x27;Pregnancies&#x27;, &#x27;Glucose&#x27;,\n",
       "                                                   &#x27;BloodPressure&#x27;,\n",
       "                                                   &#x27;SkinThickness&#x27;, &#x27;Insulin&#x27;,\n",
       "                                                   &#x27;BMI&#x27;,\n",
       "                                                   &#x27;DiabetesPedigreeFunction&#x27;,\n",
       "                                                   &#x27;Age&#x27;]),\n",
       "                                                 (&#x27;cat&#x27;,\n",
       "                                                  Pipeline(steps=[(&#x27;onehot&#x27;,\n",
       "                                                                   OneHotEncoder(handle_unknown=&#x27;ignore&#x27;))]),\n",
       "                                                  [&#x27;AgeCategory&#x27;])])),\n",
       "                (&#x27;classifier&#x27;, LogisticRegression())])</pre><b>In a Jupyter environment, please rerun this cell to show the HTML representation or trust the notebook. <br />On GitHub, the HTML representation is unable to render, please try loading this page with nbviewer.org.</b></div><div class=\"sk-container\" hidden><div class=\"sk-item sk-dashed-wrapped\"><div class=\"sk-label-container\"><div class=\"sk-label sk-toggleable\"><input class=\"sk-toggleable__control sk-hidden--visually\" id=\"sk-estimator-id-421\" type=\"checkbox\" ><label for=\"sk-estimator-id-421\" class=\"sk-toggleable__label sk-toggleable__label-arrow\">Pipeline</label><div class=\"sk-toggleable__content\"><pre>Pipeline(steps=[(&#x27;preprocessor&#x27;,\n",
       "                 ColumnTransformer(transformers=[(&#x27;num&#x27;,\n",
       "                                                  Pipeline(steps=[(&#x27;scaler&#x27;,\n",
       "                                                                   StandardScaler())]),\n",
       "                                                  [&#x27;Pregnancies&#x27;, &#x27;Glucose&#x27;,\n",
       "                                                   &#x27;BloodPressure&#x27;,\n",
       "                                                   &#x27;SkinThickness&#x27;, &#x27;Insulin&#x27;,\n",
       "                                                   &#x27;BMI&#x27;,\n",
       "                                                   &#x27;DiabetesPedigreeFunction&#x27;,\n",
       "                                                   &#x27;Age&#x27;]),\n",
       "                                                 (&#x27;cat&#x27;,\n",
       "                                                  Pipeline(steps=[(&#x27;onehot&#x27;,\n",
       "                                                                   OneHotEncoder(handle_unknown=&#x27;ignore&#x27;))]),\n",
       "                                                  [&#x27;AgeCategory&#x27;])])),\n",
       "                (&#x27;classifier&#x27;, LogisticRegression())])</pre></div></div></div><div class=\"sk-serial\"><div class=\"sk-item sk-dashed-wrapped\"><div class=\"sk-label-container\"><div class=\"sk-label sk-toggleable\"><input class=\"sk-toggleable__control sk-hidden--visually\" id=\"sk-estimator-id-422\" type=\"checkbox\" ><label for=\"sk-estimator-id-422\" class=\"sk-toggleable__label sk-toggleable__label-arrow\">preprocessor: ColumnTransformer</label><div class=\"sk-toggleable__content\"><pre>ColumnTransformer(transformers=[(&#x27;num&#x27;,\n",
       "                                 Pipeline(steps=[(&#x27;scaler&#x27;, StandardScaler())]),\n",
       "                                 [&#x27;Pregnancies&#x27;, &#x27;Glucose&#x27;, &#x27;BloodPressure&#x27;,\n",
       "                                  &#x27;SkinThickness&#x27;, &#x27;Insulin&#x27;, &#x27;BMI&#x27;,\n",
       "                                  &#x27;DiabetesPedigreeFunction&#x27;, &#x27;Age&#x27;]),\n",
       "                                (&#x27;cat&#x27;,\n",
       "                                 Pipeline(steps=[(&#x27;onehot&#x27;,\n",
       "                                                  OneHotEncoder(handle_unknown=&#x27;ignore&#x27;))]),\n",
       "                                 [&#x27;AgeCategory&#x27;])])</pre></div></div></div><div class=\"sk-parallel\"><div class=\"sk-parallel-item\"><div class=\"sk-item\"><div class=\"sk-label-container\"><div class=\"sk-label sk-toggleable\"><input class=\"sk-toggleable__control sk-hidden--visually\" id=\"sk-estimator-id-423\" type=\"checkbox\" ><label for=\"sk-estimator-id-423\" class=\"sk-toggleable__label sk-toggleable__label-arrow\">num</label><div class=\"sk-toggleable__content\"><pre>[&#x27;Pregnancies&#x27;, &#x27;Glucose&#x27;, &#x27;BloodPressure&#x27;, &#x27;SkinThickness&#x27;, &#x27;Insulin&#x27;, &#x27;BMI&#x27;, &#x27;DiabetesPedigreeFunction&#x27;, &#x27;Age&#x27;]</pre></div></div></div><div class=\"sk-serial\"><div class=\"sk-item\"><div class=\"sk-serial\"><div class=\"sk-item\"><div class=\"sk-estimator sk-toggleable\"><input class=\"sk-toggleable__control sk-hidden--visually\" id=\"sk-estimator-id-424\" type=\"checkbox\" ><label for=\"sk-estimator-id-424\" class=\"sk-toggleable__label sk-toggleable__label-arrow\">StandardScaler</label><div class=\"sk-toggleable__content\"><pre>StandardScaler()</pre></div></div></div></div></div></div></div></div><div class=\"sk-parallel-item\"><div class=\"sk-item\"><div class=\"sk-label-container\"><div class=\"sk-label sk-toggleable\"><input class=\"sk-toggleable__control sk-hidden--visually\" id=\"sk-estimator-id-425\" type=\"checkbox\" ><label for=\"sk-estimator-id-425\" class=\"sk-toggleable__label sk-toggleable__label-arrow\">cat</label><div class=\"sk-toggleable__content\"><pre>[&#x27;AgeCategory&#x27;]</pre></div></div></div><div class=\"sk-serial\"><div class=\"sk-item\"><div class=\"sk-serial\"><div class=\"sk-item\"><div class=\"sk-estimator sk-toggleable\"><input class=\"sk-toggleable__control sk-hidden--visually\" id=\"sk-estimator-id-426\" type=\"checkbox\" ><label for=\"sk-estimator-id-426\" class=\"sk-toggleable__label sk-toggleable__label-arrow\">OneHotEncoder</label><div class=\"sk-toggleable__content\"><pre>OneHotEncoder(handle_unknown=&#x27;ignore&#x27;)</pre></div></div></div></div></div></div></div></div></div></div><div class=\"sk-item\"><div class=\"sk-estimator sk-toggleable\"><input class=\"sk-toggleable__control sk-hidden--visually\" id=\"sk-estimator-id-427\" type=\"checkbox\" ><label for=\"sk-estimator-id-427\" class=\"sk-toggleable__label sk-toggleable__label-arrow\">LogisticRegression</label><div class=\"sk-toggleable__content\"><pre>LogisticRegression()</pre></div></div></div></div></div></div></div>"
      ],
      "text/plain": [
       "Pipeline(steps=[('preprocessor',\n",
       "                 ColumnTransformer(transformers=[('num',\n",
       "                                                  Pipeline(steps=[('scaler',\n",
       "                                                                   StandardScaler())]),\n",
       "                                                  ['Pregnancies', 'Glucose',\n",
       "                                                   'BloodPressure',\n",
       "                                                   'SkinThickness', 'Insulin',\n",
       "                                                   'BMI',\n",
       "                                                   'DiabetesPedigreeFunction',\n",
       "                                                   'Age']),\n",
       "                                                 ('cat',\n",
       "                                                  Pipeline(steps=[('onehot',\n",
       "                                                                   OneHotEncoder(handle_unknown='ignore'))]),\n",
       "                                                  ['AgeCategory'])])),\n",
       "                ('classifier', LogisticRegression())])"
      ]
     },
     "execution_count": 550,
     "metadata": {},
     "output_type": "execute_result"
    }
   ],
   "source": [
    "from sklearn.compose import ColumnTransformer\n",
    "from sklearn.pipeline import Pipeline\n",
    "from sklearn.preprocessing import OneHotEncoder, StandardScaler\n",
    "from sklearn.model_selection import train_test_split\n",
    "\n",
    "# classifiers\n",
    "from sklearn.tree import DecisionTreeClassifier\n",
    "from sklearn.ensemble import RandomForestClassifier\n",
    "from sklearn.linear_model import LogisticRegression\n",
    "\n",
    "X_train, X_test, y_train, y_test = train_test_split(dataset.drop(\n",
    "    'Outcome', axis=1), dataset['Outcome'], test_size=0.2, random_state=100)\n",
    "\n",
    "categorical_features = ['AgeCategory']\n",
    "categorical_transformer = Pipeline(steps=[\n",
    "    ('onehot', OneHotEncoder(handle_unknown='ignore'))\n",
    "])\n",
    "\n",
    "numerical_features = ['Pregnancies', 'Glucose', 'BloodPressure',\n",
    "                      'SkinThickness', 'Insulin', 'BMI', 'DiabetesPedigreeFunction', 'Age']\n",
    "numerical_transformer = Pipeline(steps=[\n",
    "    ('scaler', StandardScaler())\n",
    "])\n",
    "\n",
    "preprocessor = ColumnTransformer(\n",
    "    transformers=[\n",
    "        ('num', numerical_transformer, numerical_features),\n",
    "        ('cat', categorical_transformer, categorical_features)\n",
    "    ])\n",
    "\n",
    "# Decision Tree\n",
    "dt = Pipeline(steps=[('preprocessor', preprocessor),\n",
    "                     ('classifier', DecisionTreeClassifier(max_depth=7, random_state=100))])\n",
    "\n",
    "dt.fit(X_train, y_train)\n",
    "\n",
    "# Random Forest\n",
    "rf = Pipeline(steps=[('preprocessor', preprocessor),\n",
    "                     ('classifier', RandomForestClassifier(n_estimators=200, max_depth=7, random_state=100))])\n",
    "\n",
    "rf.fit(X_train, y_train)\n",
    "\n",
    "# Logistic Regression\n",
    "lr = Pipeline(steps=[('preprocessor', preprocessor),\n",
    "                     ('classifier', LogisticRegression())])\n",
    "\n",
    "lr.fit(X_train, y_train)\n"
   ]
  },
  {
   "attachments": {},
   "cell_type": "markdown",
   "metadata": {},
   "source": [
    "# Explainers\n",
    "\n",
    "To explain the predictions made by the three classifiers, we use the DALEX library. Specifically, we create an Explainer object for each of the three classifiers, which allows visualizing and analyze the models in more detail.\n"
   ]
  },
  {
   "cell_type": "code",
   "execution_count": 551,
   "metadata": {},
   "outputs": [
    {
     "name": "stdout",
     "output_type": "stream",
     "text": [
      "Preparation of a new explainer is initiated\n",
      "\n",
      "  -> data              : 153 rows 10 cols\n",
      "  -> target variable   : Parameter 'y' was a pandas.Series. Converted to a numpy.ndarray.\n",
      "  -> target variable   : 153 values\n",
      "  -> model_class       : sklearn.tree._classes.DecisionTreeClassifier (default)\n",
      "  -> label             : Decision Tree\n",
      "  -> predict function  : <function yhat_proba_default at 0x7fcd09194f70> will be used (default)\n",
      "  -> predict function  : Accepts only pandas.DataFrame, numpy.ndarray causes problems.\n",
      "  -> predicted values  : min = 0.0, mean = 0.399, max = 1.0\n",
      "  -> model type        : classification will be used (default)\n",
      "  -> residual function : difference between y and yhat (default)\n",
      "  -> residuals         : min = -1.0, mean = -0.0131, max = 1.0\n",
      "  -> model_info        : package sklearn\n",
      "\n",
      "A new explainer has been created!\n",
      "Preparation of a new explainer is initiated\n",
      "\n",
      "  -> data              : 153 rows 10 cols\n",
      "  -> target variable   : Parameter 'y' was a pandas.Series. Converted to a numpy.ndarray.\n",
      "  -> target variable   : 153 values\n",
      "  -> model_class       : sklearn.ensemble._forest.RandomForestClassifier (default)\n",
      "  -> label             : Random Forest\n",
      "  -> predict function  : <function yhat_proba_default at 0x7fcd09194f70> will be used (default)\n",
      "  -> predict function  : Accepts only pandas.DataFrame, numpy.ndarray causes problems.\n",
      "  -> predicted values  : min = 0.00336, mean = 0.367, max = 0.859\n",
      "  -> model type        : classification will be used (default)\n",
      "  -> residual function : difference between y and yhat (default)\n",
      "  -> residuals         : min = -0.808, mean = 0.019, max = 0.985\n",
      "  -> model_info        : package sklearn\n",
      "\n",
      "A new explainer has been created!\n",
      "Preparation of a new explainer is initiated\n",
      "\n",
      "  -> data              : 153 rows 10 cols\n",
      "  -> target variable   : Parameter 'y' was a pandas.Series. Converted to a numpy.ndarray.\n",
      "  -> target variable   : 153 values\n",
      "  -> model_class       : sklearn.linear_model._logistic.LogisticRegression (default)\n",
      "  -> label             : Logistic Regression\n",
      "  -> predict function  : <function yhat_proba_default at 0x7fcd09194f70> will be used (default)\n",
      "  -> predict function  : Accepts only pandas.DataFrame, numpy.ndarray causes problems.\n",
      "  -> predicted values  : min = 0.0269, mean = 0.371, max = 0.961\n",
      "  -> model type        : classification will be used (default)\n",
      "  -> residual function : difference between y and yhat (default)\n",
      "  -> residuals         : min = -0.887, mean = 0.0148, max = 0.927\n",
      "  -> model_info        : package sklearn\n",
      "\n",
      "A new explainer has been created!\n"
     ]
    }
   ],
   "source": [
    "import dalex as dx\n",
    "\n",
    "exp_tree = dx.Explainer(dt, X_test, y_test, label='Decision Tree')\n",
    "exp_forest = dx.Explainer(rf, X_test, y_test, label='Random Forest')\n",
    "exp_logreg = dx.Explainer(lr, X_test, y_test, label='Logistic Regression')"
   ]
  },
  {
   "attachments": {},
   "cell_type": "markdown",
   "metadata": {},
   "source": [
    "# Model Performance Measures\n",
    "\n",
    "This code outputs a table that shows the performance metrics of the three classifiers.\n",
    "In particular the following metrics are calculated:\n",
    "- Recall: the proportion of positive cases that were correctly identified by the classifier (also known as sensitivity or true positive rate)\n",
    "- Precision: the proportion of positive predictions that were correctly identified by the classifier (also known as positive predictive value)\n",
    "- F1: the harmonic mean of recall and precision, which provides a balanced measure of performance that takes into account both false positives and false negatives\n",
    "- Accuracy: the proportion of all predictions that were correct (i.e., the number of true positives and true negatives divided by the total number of predictions)\n",
    "- auc: the area under the receiver operating characteristic (ROC) curve, which provides a measure of how well the classifier can distinguish between positive and negative cases"
   ]
  },
  {
   "cell_type": "code",
   "execution_count": 552,
   "metadata": {},
   "outputs": [
    {
     "data": {
      "text/html": [
       "<div>\n",
       "<style scoped>\n",
       "    .dataframe tbody tr th:only-of-type {\n",
       "        vertical-align: middle;\n",
       "    }\n",
       "\n",
       "    .dataframe tbody tr th {\n",
       "        vertical-align: top;\n",
       "    }\n",
       "\n",
       "    .dataframe thead th {\n",
       "        text-align: right;\n",
       "    }\n",
       "</style>\n",
       "<table border=\"1\" class=\"dataframe\">\n",
       "  <thead>\n",
       "    <tr style=\"text-align: right;\">\n",
       "      <th></th>\n",
       "      <th>recall</th>\n",
       "      <th>precision</th>\n",
       "      <th>f1</th>\n",
       "      <th>accuracy</th>\n",
       "      <th>auc</th>\n",
       "    </tr>\n",
       "  </thead>\n",
       "  <tbody>\n",
       "    <tr>\n",
       "      <th>Logistic Regression</th>\n",
       "      <td>0.593220</td>\n",
       "      <td>0.700000</td>\n",
       "      <td>0.642202</td>\n",
       "      <td>0.745098</td>\n",
       "      <td>0.825279</td>\n",
       "    </tr>\n",
       "    <tr>\n",
       "      <th>Decision Tree</th>\n",
       "      <td>0.711864</td>\n",
       "      <td>0.677419</td>\n",
       "      <td>0.694215</td>\n",
       "      <td>0.758170</td>\n",
       "      <td>0.765056</td>\n",
       "    </tr>\n",
       "    <tr>\n",
       "      <th>Random Forest</th>\n",
       "      <td>0.694915</td>\n",
       "      <td>0.759259</td>\n",
       "      <td>0.725664</td>\n",
       "      <td>0.797386</td>\n",
       "      <td>0.846376</td>\n",
       "    </tr>\n",
       "  </tbody>\n",
       "</table>\n",
       "</div>"
      ],
      "text/plain": [
       "                       recall  precision        f1  accuracy       auc\n",
       "Logistic Regression  0.593220   0.700000  0.642202  0.745098  0.825279\n",
       "Decision Tree        0.711864   0.677419  0.694215  0.758170  0.765056\n",
       "Random Forest        0.694915   0.759259  0.725664  0.797386  0.846376"
      ]
     },
     "execution_count": 552,
     "metadata": {},
     "output_type": "execute_result"
    }
   ],
   "source": [
    "pd.concat([exp.model_performance().result for exp in [\n",
    "          exp_logreg, exp_tree, exp_forest]])"
   ]
  },
  {
   "attachments": {},
   "cell_type": "markdown",
   "metadata": {},
   "source": [
    "# Variable Importance\n",
    "\n",
    "This code cell generates a variable importance plot for the Decision Tree model, comparing it to the variable importance plots for the Random Forest and Logistic Regression models.\n",
    "\n",
    "The `model_parts()` method computes the contributions of each variable to the model prediction for the three models\n"
   ]
  },
  {
   "cell_type": "code",
   "execution_count": 553,
   "metadata": {},
   "outputs": [
    {
     "data": {
      "application/vnd.plotly.v1+json": {
       "config": {
        "displaylogo": false,
        "modeBarButtonsToRemove": [
         "sendDataToCloud",
         "lasso2d",
         "autoScale2d",
         "select2d",
         "zoom2d",
         "pan2d",
         "zoomIn2d",
         "zoomOut2d",
         "resetScale2d",
         "toggleSpikelines",
         "hoverCompareCartesian",
         "hoverClosestCartesian"
        ],
        "plotlyServerURL": "https://plot.ly",
        "staticPlot": false,
        "toImageButtonOptions": {
         "height": null,
         "width": null
        }
       },
       "data": [
        {
         "base": 0.23494410385863684,
         "hoverinfo": "text",
         "hoverlabel": {
          "bgcolor": "rgba(0,0,0,0.8)"
         },
         "hovertext": [
          "Model: Decision Tree loss after<br>variable: Glucose is permuted: 0.388<br>Drop-out loss change: +0.153",
          "Model: Decision Tree loss after<br>variable: BMI is permuted: 0.328<br>Drop-out loss change: +0.093",
          "Model: Decision Tree loss after<br>variable: Pregnancies is permuted: 0.305<br>Drop-out loss change: +0.07",
          "Model: Decision Tree loss after<br>variable: DiabetesPedigreeFunction is permuted: 0.265<br>Drop-out loss change: +0.03",
          "Model: Decision Tree loss after<br>variable: AgeCategory is permuted: 0.236<br>Drop-out loss change: +0.001",
          "Model: Decision Tree loss after<br>variable: SkinThickness is permuted: 0.241<br>Drop-out loss change: +0.007",
          "Model: Decision Tree loss after<br>variable: BloodPressure is permuted: 0.243<br>Drop-out loss change: +0.008",
          "Model: Decision Tree loss after<br>variable: Insulin is permuted: 0.244<br>Drop-out loss change: +0.009",
          "Model: Decision Tree loss after<br>variable: Age is permuted: 0.228<br>Drop-out loss change: -0.007",
          "Model: Decision Tree loss after<br>variable: Unnamed: 0 is permuted: 0.235<br>Drop-out loss change: -0.0"
         ],
         "marker": {
          "color": "#8bdcbe"
         },
         "orientation": "h",
         "showlegend": false,
         "text": [
          "+0.153",
          "+0.093",
          "+0.07",
          "+0.03",
          "+0.001",
          "+0.007",
          "+0.008",
          "+0.009",
          "0.007",
          "0.0"
         ],
         "textposition": "outside",
         "type": "bar",
         "x": [
          0.15259646592138482,
          0.09280562567616302,
          0.07019473494410383,
          0.029715109989181365,
          0.0010818608005769836,
          0.006500180310133441,
          0.008429498737829,
          0.008835196538045403,
          -0.006959971150378663,
          0
         ],
         "xaxis": "x",
         "y": [
          "Glucose",
          "BMI",
          "Pregnancies",
          "DiabetesPedigreeFunction",
          "AgeCategory",
          "SkinThickness",
          "BloodPressure",
          "Insulin",
          "Age",
          "Unnamed: 0"
         ],
         "yaxis": "y"
        },
        {
         "base": 0.15362423368193304,
         "hoverinfo": "text",
         "hoverlabel": {
          "bgcolor": "rgba(0,0,0,0.8)"
         },
         "hovertext": [
          "Model: Random Forest loss after<br>variable: Glucose is permuted: 0.335<br>Drop-out loss change: +0.181",
          "Model: Random Forest loss after<br>variable: BMI is permuted: 0.198<br>Drop-out loss change: +0.044",
          "Model: Random Forest loss after<br>variable: Pregnancies is permuted: 0.155<br>Drop-out loss change: +0.001",
          "Model: Random Forest loss after<br>variable: DiabetesPedigreeFunction is permuted: 0.171<br>Drop-out loss change: +0.017",
          "Model: Random Forest loss after<br>variable: AgeCategory is permuted: 0.165<br>Drop-out loss change: +0.011",
          "Model: Random Forest loss after<br>variable: SkinThickness is permuted: 0.157<br>Drop-out loss change: +0.003",
          "Model: Random Forest loss after<br>variable: BloodPressure is permuted: 0.154<br>Drop-out loss change: +0.001",
          "Model: Random Forest loss after<br>variable: Insulin is permuted: 0.159<br>Drop-out loss change: +0.005",
          "Model: Random Forest loss after<br>variable: Age is permuted: 0.168<br>Drop-out loss change: +0.014",
          "Model: Random Forest loss after<br>variable: Unnamed: 0 is permuted: 0.154<br>Drop-out loss change: -0.0"
         ],
         "marker": {
          "color": "#4378bf"
         },
         "orientation": "h",
         "showlegend": false,
         "text": [
          "+0.181",
          "+0.044",
          "+0.001",
          "+0.017",
          "+0.011",
          "+0.003",
          "+0.001",
          "+0.005",
          "+0.014",
          "0.0"
         ],
         "textposition": "outside",
         "type": "bar",
         "x": [
          0.18104940497655955,
          0.044284168770284765,
          0.0011179228272627795,
          0.01741795888928943,
          0.011053011179228106,
          0.0029931482149295474,
          0.000775333573746706,
          0.004958528669311041,
          0.014136314460872518,
          0
         ],
         "xaxis": "x2",
         "y": [
          "Glucose",
          "BMI",
          "Pregnancies",
          "DiabetesPedigreeFunction",
          "AgeCategory",
          "SkinThickness",
          "BloodPressure",
          "Insulin",
          "Age",
          "Unnamed: 0"
         ],
         "yaxis": "y2"
        },
        {
         "base": 0.1747205192931843,
         "hoverinfo": "text",
         "hoverlabel": {
          "bgcolor": "rgba(0,0,0,0.8)"
         },
         "hovertext": [
          "Model: Logistic Regression loss after<br>variable: Glucose is permuted: 0.388<br>Drop-out loss change: +0.213",
          "Model: Logistic Regression loss after<br>variable: BMI is permuted: 0.217<br>Drop-out loss change: +0.042",
          "Model: Logistic Regression loss after<br>variable: Pregnancies is permuted: 0.176<br>Drop-out loss change: +0.001",
          "Model: Logistic Regression loss after<br>variable: DiabetesPedigreeFunction is permuted: 0.184<br>Drop-out loss change: +0.01",
          "Model: Logistic Regression loss after<br>variable: AgeCategory is permuted: 0.182<br>Drop-out loss change: +0.007",
          "Model: Logistic Regression loss after<br>variable: SkinThickness is permuted: 0.175<br>Drop-out loss change: +0.001",
          "Model: Logistic Regression loss after<br>variable: BloodPressure is permuted: 0.175<br>Drop-out loss change: +0.001",
          "Model: Logistic Regression loss after<br>variable: Insulin is permuted: 0.171<br>Drop-out loss change: -0.004",
          "Model: Logistic Regression loss after<br>variable: Age is permuted: 0.177<br>Drop-out loss change: +0.002",
          "Model: Logistic Regression loss after<br>variable: Unnamed: 0 is permuted: 0.175<br>Drop-out loss change: -0.0"
         ],
         "marker": {
          "color": "#46bac2"
         },
         "orientation": "h",
         "showlegend": false,
         "text": [
          "+0.213",
          "+0.042",
          "+0.001",
          "+0.01",
          "+0.007",
          "+0.001",
          "+0.001",
          "0.004",
          "+0.002",
          "0.0"
         ],
         "textposition": "outside",
         "type": "bar",
         "x": [
          0.2131626397403534,
          0.042102416155787886,
          0.0014424810674359412,
          0.009556437071763346,
          0.007086188243779268,
          0.0007753335737467892,
          0.0005409304002884363,
          -0.004183195095564446,
          0.001965380454381521,
          0
         ],
         "xaxis": "x3",
         "y": [
          "Glucose",
          "BMI",
          "Pregnancies",
          "DiabetesPedigreeFunction",
          "AgeCategory",
          "SkinThickness",
          "BloodPressure",
          "Insulin",
          "Age",
          "Unnamed: 0"
         ],
         "yaxis": "y3"
        }
       ],
       "layout": {
        "annotations": [
         {
          "font": {
           "size": 16
          },
          "showarrow": false,
          "text": "Decision Tree",
          "x": 0.5,
          "xanchor": "center",
          "xref": "paper",
          "y": 1,
          "yanchor": "bottom",
          "yref": "paper"
         },
         {
          "font": {
           "size": 16
          },
          "showarrow": false,
          "text": "Random Forest",
          "x": 0.5,
          "xanchor": "center",
          "xref": "paper",
          "y": 0.6444444444444445,
          "yanchor": "bottom",
          "yref": "paper"
         },
         {
          "font": {
           "size": 16
          },
          "showarrow": false,
          "text": "Logistic Regression",
          "x": 0.5,
          "xanchor": "center",
          "xref": "paper",
          "y": 0.2888888888888889,
          "yanchor": "bottom",
          "yref": "paper"
         },
         {
          "font": {
           "size": 16
          },
          "showarrow": false,
          "text": "drop-out loss",
          "x": 0.5,
          "xanchor": "center",
          "xref": "paper",
          "y": 0,
          "yanchor": "top",
          "yref": "paper",
          "yshift": -30
         }
        ],
        "font": {
         "color": "#371ea3"
        },
        "height": 991,
        "margin": {
         "b": 71,
         "r": 30,
         "t": 78
        },
        "shapes": [
         {
          "line": {
           "color": "#371ea3",
           "dash": "dot",
           "width": 1.5
          },
          "type": "line",
          "x0": 0.23494410385863684,
          "x1": 0.23494410385863684,
          "xref": "x",
          "y0": -1,
          "y1": 10,
          "yref": "y"
         },
         {
          "line": {
           "color": "#371ea3",
           "dash": "dot",
           "width": 1.5
          },
          "type": "line",
          "x0": 0.15362423368193304,
          "x1": 0.15362423368193304,
          "xref": "x2",
          "y0": -1,
          "y1": 10,
          "yref": "y2"
         },
         {
          "line": {
           "color": "#371ea3",
           "dash": "dot",
           "width": 1.5
          },
          "type": "line",
          "x0": 0.1747205192931843,
          "x1": 0.1747205192931843,
          "xref": "x3",
          "y0": -1,
          "y1": 10,
          "yref": "y3"
         }
        ],
        "template": {
         "data": {
          "scatter": [
           {
            "type": "scatter"
           }
          ]
         }
        },
        "title": {
         "text": "Variable Importance",
         "x": 0.15
        },
        "xaxis": {
         "anchor": "y",
         "automargin": true,
         "domain": [
          0,
          1
         ],
         "fixedrange": true,
         "gridwidth": 2,
         "matches": "x3",
         "range": [
          0.11848539487919234,
          0.4230219978362784
         ],
         "showticklabels": false,
         "tickcolor": "white",
         "ticklen": 3,
         "ticks": "outside",
         "type": "linear",
         "zeroline": false
        },
        "xaxis2": {
         "anchor": "y2",
         "automargin": true,
         "domain": [
          0,
          1
         ],
         "fixedrange": true,
         "gridwidth": 2,
         "matches": "x3",
         "range": [
          0.11848539487919234,
          0.4230219978362784
         ],
         "showticklabels": false,
         "tickcolor": "white",
         "ticklen": 3,
         "ticks": "outside",
         "type": "linear",
         "zeroline": false
        },
        "xaxis3": {
         "anchor": "y3",
         "automargin": true,
         "domain": [
          0,
          1
         ],
         "fixedrange": true,
         "gridwidth": 2,
         "range": [
          0.11848539487919234,
          0.4230219978362784
         ],
         "tickcolor": "white",
         "ticklen": 3,
         "ticks": "outside",
         "type": "linear",
         "zeroline": false
        },
        "yaxis": {
         "anchor": "x",
         "automargin": true,
         "autorange": "reversed",
         "domain": [
          0.7111111111111111,
          1
         ],
         "fixedrange": true,
         "gridwidth": 2,
         "tickcolor": "white",
         "ticklen": 10,
         "ticks": "outside",
         "type": "category"
        },
        "yaxis2": {
         "anchor": "x2",
         "automargin": true,
         "autorange": "reversed",
         "domain": [
          0.35555555555555557,
          0.6444444444444445
         ],
         "fixedrange": true,
         "gridwidth": 2,
         "tickcolor": "white",
         "ticklen": 10,
         "ticks": "outside",
         "type": "category"
        },
        "yaxis3": {
         "anchor": "x3",
         "automargin": true,
         "autorange": "reversed",
         "domain": [
          0,
          0.2888888888888889
         ],
         "fixedrange": true,
         "gridwidth": 2,
         "tickcolor": "white",
         "ticklen": 10,
         "ticks": "outside",
         "type": "category"
        }
       }
      }
     },
     "metadata": {},
     "output_type": "display_data"
    }
   ],
   "source": [
    "exp_tree.model_parts().plot(\n",
    "    objects=[exp_forest.model_parts(), exp_logreg.model_parts()])"
   ]
  },
  {
   "attachments": {},
   "cell_type": "markdown",
   "metadata": {},
   "source": [
    "# Fairness: Age\n",
    "\n",
    "We define a binary protected attribute based on the age attribute. We set the age threshold to 50, and define all individuals with an age greater than 50 as \"old\" and all others as \"young\".\n",
    "\n",
    "We also define \"old\" as the privileged group.\n",
    "\n",
    "We then use the `model_fairness()` method from DALEX to compute fairness metrics for each model, based on the protected attribute and privileged group defined above.\n",
    "The results are `FairnessResult` objects that store various fairness metrics:\n",
    "\n",
    "\n",
    "- True Positive Rate (**TPR**): the proportion of positive cases that were correctly identified by the classifier (also known as sensitivity or recall)\n",
    "- Accuracy (**ACC**): the proportion of all predictions that were correct (i.e., the number of true positives and true negatives divided by the total number of predictions)\n",
    "- Positive Predictive Value (**PPV**): the proportion of positive predictions that were correctly identified by the classifier (also known as precision)\n",
    "- False Positive Rate (**FPR**): the proportion of negative cases that were incorrectly identified by the classifier (also known as fall-out)\n",
    "- Statistical Parity (**STP**): the difference between the probability of a positive outcome for the privileged group and the probability of a positive outcome for the unprivileged group\n"
   ]
  },
  {
   "cell_type": "code",
   "execution_count": 554,
   "metadata": {},
   "outputs": [],
   "source": [
    "protected = np.where(X_test.Age > 50, 'old', 'young')\n",
    "privileged = 'old'\n",
    "\n",
    "mf_tree = exp_tree.model_fairness(protected=protected,\n",
    "                                  privileged=privileged)\n",
    "mf_forest = exp_forest.model_fairness(protected=protected,\n",
    "                                      privileged=privileged)\n",
    "mf_logreg = exp_logreg.model_fairness(protected=protected,\n",
    "                                      privileged=privileged)\n"
   ]
  },
  {
   "cell_type": "code",
   "execution_count": 555,
   "metadata": {},
   "outputs": [
    {
     "name": "stdout",
     "output_type": "stream",
     "text": [
      "Bias detected in 3 metrics: TPR, FPR, STP\n",
      "\n",
      "Conclusion: your model is not fair because 2 or more criteria exceeded acceptable limits set by epsilon.\n",
      "\n",
      "Ratios of metrics, based on 'old'. Parameter 'epsilon' was set to 0.8 and therefore metrics should be within (0.8, 1.25)\n",
      "         TPR       ACC       PPV       FPR      STP\n",
      "young  0.784  0.989542  0.961429  0.600601  0.64966\n"
     ]
    }
   ],
   "source": [
    "mf_tree.fairness_check()\n"
   ]
  },
  {
   "cell_type": "code",
   "execution_count": 556,
   "metadata": {},
   "outputs": [
    {
     "name": "stdout",
     "output_type": "stream",
     "text": [
      "Bias detected in 3 metrics: TPR, FPR, STP\n",
      "\n",
      "Conclusion: your model is not fair because 2 or more criteria exceeded acceptable limits set by epsilon.\n",
      "\n",
      "Ratios of metrics, based on 'old'. Parameter 'epsilon' was set to 0.8 and therefore metrics should be within (0.8, 1.25)\n",
      "         TPR       ACC       PPV      FPR       STP\n",
      "young  0.647  0.827843  0.824522  1.27027  0.625709\n"
     ]
    }
   ],
   "source": [
    "mf_forest.fairness_check()\n"
   ]
  },
  {
   "cell_type": "code",
   "execution_count": 557,
   "metadata": {},
   "outputs": [
    {
     "name": "stdout",
     "output_type": "stream",
     "text": [
      "Bias detected in 3 metrics: TPR, FPR, STP\n",
      "\n",
      "Conclusion: your model is not fair because 2 or more criteria exceeded acceptable limits set by epsilon.\n",
      "\n",
      "Ratios of metrics, based on 'old'. Parameter 'epsilon' was set to 0.8 and therefore metrics should be within (0.8, 1.25)\n",
      "         TPR      ACC       PPV       FPR       STP\n",
      "young  0.529  0.89199  0.951857  0.423423  0.443586\n"
     ]
    }
   ],
   "source": [
    "mf_logreg.fairness_check()\n"
   ]
  },
  {
   "attachments": {},
   "cell_type": "markdown",
   "metadata": {},
   "source": [
    "### Visualize the result\n"
   ]
  },
  {
   "cell_type": "code",
   "execution_count": 558,
   "metadata": {},
   "outputs": [
    {
     "data": {
      "application/vnd.plotly.v1+json": {
       "config": {
        "displaylogo": false,
        "modeBarButtonsToRemove": [
         "sendDataToCloud",
         "lasso2d",
         "autoScale2d",
         "select2d",
         "zoom2d",
         "pan2d",
         "zoomIn2d",
         "zoomOut2d",
         "resetScale2d",
         "toggleSpikelines",
         "hoverCompareCartesian",
         "hoverClosestCartesian"
        ],
        "plotlyServerURL": "https://plot.ly",
        "staticPlot": false,
        "toImageButtonOptions": {
         "height": null,
         "width": null
        }
       },
       "data": [
        {
         "alignmentgroup": "True",
         "customdata": [
          [
           "young",
           0.784,
           "Decision Tree"
          ]
         ],
         "hovertemplate": "<b>%{customdata[2]}</b><br>Subgroup: %{customdata[0]}<br>Score: %{customdata[1]}<br><extra></extra>",
         "legendgroup": "Decision Tree",
         "marker": {
          "color": "#8bdcbe",
          "pattern": {
           "shape": ""
          }
         },
         "name": "Decision Tree",
         "offsetgroup": "Decision Tree",
         "orientation": "h",
         "showlegend": true,
         "textposition": "auto",
         "type": "bar",
         "x": [
          -0.21599999999999997
         ],
         "xaxis": "x5",
         "y": [
          0.5
         ],
         "yaxis": "y5"
        },
        {
         "alignmentgroup": "True",
         "customdata": [
          [
           "young",
           0.961,
           "Decision Tree"
          ]
         ],
         "hovertemplate": "<b>%{customdata[2]}</b><br>Subgroup: %{customdata[0]}<br>Score: %{customdata[1]}<br><extra></extra>",
         "legendgroup": "Decision Tree",
         "marker": {
          "color": "#8bdcbe",
          "pattern": {
           "shape": ""
          }
         },
         "name": "Decision Tree",
         "offsetgroup": "Decision Tree",
         "orientation": "h",
         "showlegend": false,
         "textposition": "auto",
         "type": "bar",
         "x": [
          -0.03857142857142848
         ],
         "xaxis": "x4",
         "y": [
          0.5
         ],
         "yaxis": "y4"
        },
        {
         "alignmentgroup": "True",
         "customdata": [
          [
           "young",
           0.601,
           "Decision Tree"
          ]
         ],
         "hovertemplate": "<b>%{customdata[2]}</b><br>Subgroup: %{customdata[0]}<br>Score: %{customdata[1]}<br><extra></extra>",
         "legendgroup": "Decision Tree",
         "marker": {
          "color": "#8bdcbe",
          "pattern": {
           "shape": ""
          }
         },
         "name": "Decision Tree",
         "offsetgroup": "Decision Tree",
         "orientation": "h",
         "showlegend": false,
         "textposition": "auto",
         "type": "bar",
         "x": [
          -0.3993993993993994
         ],
         "xaxis": "x3",
         "y": [
          0.5
         ],
         "yaxis": "y3"
        },
        {
         "alignmentgroup": "True",
         "customdata": [
          [
           "young",
           0.99,
           "Decision Tree"
          ]
         ],
         "hovertemplate": "<b>%{customdata[2]}</b><br>Subgroup: %{customdata[0]}<br>Score: %{customdata[1]}<br><extra></extra>",
         "legendgroup": "Decision Tree",
         "marker": {
          "color": "#8bdcbe",
          "pattern": {
           "shape": ""
          }
         },
         "name": "Decision Tree",
         "offsetgroup": "Decision Tree",
         "orientation": "h",
         "showlegend": false,
         "textposition": "auto",
         "type": "bar",
         "x": [
          -0.010457516339869244
         ],
         "xaxis": "x2",
         "y": [
          0.5
         ],
         "yaxis": "y2"
        },
        {
         "alignmentgroup": "True",
         "customdata": [
          [
           "young",
           0.65,
           "Decision Tree"
          ]
         ],
         "hovertemplate": "<b>%{customdata[2]}</b><br>Subgroup: %{customdata[0]}<br>Score: %{customdata[1]}<br><extra></extra>",
         "legendgroup": "Decision Tree",
         "marker": {
          "color": "#8bdcbe",
          "pattern": {
           "shape": ""
          }
         },
         "name": "Decision Tree",
         "offsetgroup": "Decision Tree",
         "orientation": "h",
         "showlegend": false,
         "textposition": "auto",
         "type": "bar",
         "x": [
          -0.3503401360544217
         ],
         "xaxis": "x",
         "y": [
          0.5
         ],
         "yaxis": "y"
        },
        {
         "alignmentgroup": "True",
         "customdata": [
          [
           "young",
           0.647,
           "Random Forest"
          ]
         ],
         "hovertemplate": "<b>%{customdata[2]}</b><br>Subgroup: %{customdata[0]}<br>Score: %{customdata[1]}<br><extra></extra>",
         "legendgroup": "Random Forest",
         "marker": {
          "color": "#f05a71",
          "pattern": {
           "shape": ""
          }
         },
         "name": "Random Forest",
         "offsetgroup": "Random Forest",
         "orientation": "h",
         "showlegend": true,
         "textposition": "auto",
         "type": "bar",
         "x": [
          -0.353
         ],
         "xaxis": "x5",
         "y": [
          0.5
         ],
         "yaxis": "y5"
        },
        {
         "alignmentgroup": "True",
         "customdata": [
          [
           "young",
           0.825,
           "Random Forest"
          ]
         ],
         "hovertemplate": "<b>%{customdata[2]}</b><br>Subgroup: %{customdata[0]}<br>Score: %{customdata[1]}<br><extra></extra>",
         "legendgroup": "Random Forest",
         "marker": {
          "color": "#f05a71",
          "pattern": {
           "shape": ""
          }
         },
         "name": "Random Forest",
         "offsetgroup": "Random Forest",
         "orientation": "h",
         "showlegend": false,
         "textposition": "auto",
         "type": "bar",
         "x": [
          -0.17547806524184484
         ],
         "xaxis": "x4",
         "y": [
          0.5
         ],
         "yaxis": "y4"
        },
        {
         "alignmentgroup": "True",
         "customdata": [
          [
           "young",
           1.27,
           "Random Forest"
          ]
         ],
         "hovertemplate": "<b>%{customdata[2]}</b><br>Subgroup: %{customdata[0]}<br>Score: %{customdata[1]}<br><extra></extra>",
         "legendgroup": "Random Forest",
         "marker": {
          "color": "#f05a71",
          "pattern": {
           "shape": ""
          }
         },
         "name": "Random Forest",
         "offsetgroup": "Random Forest",
         "orientation": "h",
         "showlegend": false,
         "textposition": "auto",
         "type": "bar",
         "x": [
          0.2702702702702702
         ],
         "xaxis": "x3",
         "y": [
          0.5
         ],
         "yaxis": "y3"
        },
        {
         "alignmentgroup": "True",
         "customdata": [
          [
           "young",
           0.828,
           "Random Forest"
          ]
         ],
         "hovertemplate": "<b>%{customdata[2]}</b><br>Subgroup: %{customdata[0]}<br>Score: %{customdata[1]}<br><extra></extra>",
         "legendgroup": "Random Forest",
         "marker": {
          "color": "#f05a71",
          "pattern": {
           "shape": ""
          }
         },
         "name": "Random Forest",
         "offsetgroup": "Random Forest",
         "orientation": "h",
         "showlegend": false,
         "textposition": "auto",
         "type": "bar",
         "x": [
          -0.17215727948990434
         ],
         "xaxis": "x2",
         "y": [
          0.5
         ],
         "yaxis": "y2"
        },
        {
         "alignmentgroup": "True",
         "customdata": [
          [
           "young",
           0.626,
           "Random Forest"
          ]
         ],
         "hovertemplate": "<b>%{customdata[2]}</b><br>Subgroup: %{customdata[0]}<br>Score: %{customdata[1]}<br><extra></extra>",
         "legendgroup": "Random Forest",
         "marker": {
          "color": "#f05a71",
          "pattern": {
           "shape": ""
          }
         },
         "name": "Random Forest",
         "offsetgroup": "Random Forest",
         "orientation": "h",
         "showlegend": false,
         "textposition": "auto",
         "type": "bar",
         "x": [
          -0.3742911153119093
         ],
         "xaxis": "x",
         "y": [
          0.5
         ],
         "yaxis": "y"
        },
        {
         "alignmentgroup": "True",
         "customdata": [
          [
           "young",
           0.529,
           "Logistic Regression"
          ]
         ],
         "hovertemplate": "<b>%{customdata[2]}</b><br>Subgroup: %{customdata[0]}<br>Score: %{customdata[1]}<br><extra></extra>",
         "legendgroup": "Logistic Regression",
         "marker": {
          "color": "#4378bf",
          "pattern": {
           "shape": ""
          }
         },
         "name": "Logistic Regression",
         "offsetgroup": "Logistic Regression",
         "orientation": "h",
         "showlegend": true,
         "textposition": "auto",
         "type": "bar",
         "x": [
          -0.471
         ],
         "xaxis": "x5",
         "y": [
          0.5
         ],
         "yaxis": "y5"
        },
        {
         "alignmentgroup": "True",
         "customdata": [
          [
           "young",
           0.952,
           "Logistic Regression"
          ]
         ],
         "hovertemplate": "<b>%{customdata[2]}</b><br>Subgroup: %{customdata[0]}<br>Score: %{customdata[1]}<br><extra></extra>",
         "legendgroup": "Logistic Regression",
         "marker": {
          "color": "#4378bf",
          "pattern": {
           "shape": ""
          }
         },
         "name": "Logistic Regression",
         "offsetgroup": "Logistic Regression",
         "orientation": "h",
         "showlegend": false,
         "textposition": "auto",
         "type": "bar",
         "x": [
          -0.04814305364511695
         ],
         "xaxis": "x4",
         "y": [
          0.5
         ],
         "yaxis": "y4"
        },
        {
         "alignmentgroup": "True",
         "customdata": [
          [
           "young",
           0.423,
           "Logistic Regression"
          ]
         ],
         "hovertemplate": "<b>%{customdata[2]}</b><br>Subgroup: %{customdata[0]}<br>Score: %{customdata[1]}<br><extra></extra>",
         "legendgroup": "Logistic Regression",
         "marker": {
          "color": "#4378bf",
          "pattern": {
           "shape": ""
          }
         },
         "name": "Logistic Regression",
         "offsetgroup": "Logistic Regression",
         "orientation": "h",
         "showlegend": false,
         "textposition": "auto",
         "type": "bar",
         "x": [
          -0.5765765765765767
         ],
         "xaxis": "x3",
         "y": [
          0.5
         ],
         "yaxis": "y3"
        },
        {
         "alignmentgroup": "True",
         "customdata": [
          [
           "young",
           0.892,
           "Logistic Regression"
          ]
         ],
         "hovertemplate": "<b>%{customdata[2]}</b><br>Subgroup: %{customdata[0]}<br>Score: %{customdata[1]}<br><extra></extra>",
         "legendgroup": "Logistic Regression",
         "marker": {
          "color": "#4378bf",
          "pattern": {
           "shape": ""
          }
         },
         "name": "Logistic Regression",
         "offsetgroup": "Logistic Regression",
         "orientation": "h",
         "showlegend": false,
         "textposition": "auto",
         "type": "bar",
         "x": [
          -0.10800970873786409
         ],
         "xaxis": "x2",
         "y": [
          0.5
         ],
         "yaxis": "y2"
        },
        {
         "alignmentgroup": "True",
         "customdata": [
          [
           "young",
           0.444,
           "Logistic Regression"
          ]
         ],
         "hovertemplate": "<b>%{customdata[2]}</b><br>Subgroup: %{customdata[0]}<br>Score: %{customdata[1]}<br><extra></extra>",
         "legendgroup": "Logistic Regression",
         "marker": {
          "color": "#4378bf",
          "pattern": {
           "shape": ""
          }
         },
         "name": "Logistic Regression",
         "offsetgroup": "Logistic Regression",
         "orientation": "h",
         "showlegend": false,
         "textposition": "auto",
         "type": "bar",
         "x": [
          -0.5564142194744977
         ],
         "xaxis": "x",
         "y": [
          0.5
         ],
         "yaxis": "y"
        }
       ],
       "layout": {
        "annotations": [
         {
          "font": {
           "size": 15
          },
          "showarrow": false,
          "text": "Statistical parity ratio   (TP + FP)/(TP + FP + TN + FN)",
          "x": 0.05,
          "xanchor": "left",
          "xref": "paper",
          "y": 0.144,
          "yanchor": "bottom",
          "yref": "paper"
         },
         {
          "font": {
           "size": 15
          },
          "showarrow": false,
          "text": "Accuracy equality ratio    (TP + TN)/(TP + FP + TN + FN)",
          "x": 0.05,
          "xanchor": "left",
          "xref": "paper",
          "y": 0.358,
          "yanchor": "bottom",
          "yref": "paper"
         },
         {
          "font": {
           "size": 15
          },
          "showarrow": false,
          "text": "Predictive equality ratio   FP/(FP + TN)",
          "x": 0.05,
          "xanchor": "left",
          "xref": "paper",
          "y": 0.572,
          "yanchor": "bottom",
          "yref": "paper"
         },
         {
          "font": {
           "size": 15
          },
          "showarrow": false,
          "text": "Predictive parity ratio     TP/(TP + FP)",
          "x": 0.05,
          "xanchor": "left",
          "xref": "paper",
          "y": 0.7859999999999999,
          "yanchor": "bottom",
          "yref": "paper"
         },
         {
          "font": {
           "size": 15
          },
          "showarrow": false,
          "text": "Equal opportunity ratio     TP/(TP + FN)",
          "x": 0.05,
          "xanchor": "left",
          "xref": "paper",
          "y": 1,
          "yanchor": "bottom",
          "yref": "paper"
         }
        ],
        "barmode": "group",
        "font": {
         "color": "#371ea3"
        },
        "legend": {
         "title": {
          "text": "label"
         },
         "tracegroupgap": 0
        },
        "margin": {
         "b": 71,
         "r": 30,
         "t": 78
        },
        "shapes": [
         {
          "fillcolor": "#f05a71",
          "layer": "below",
          "line": {
           "width": 0
          },
          "opacity": 0.1,
          "type": "rect",
          "x0": 0.25,
          "x1": 0.3,
          "xref": "x",
          "y0": 0,
          "y1": 1,
          "yref": "y"
         },
         {
          "fillcolor": "#f05a71",
          "layer": "below",
          "line": {
           "width": 0
          },
          "opacity": 0.1,
          "type": "rect",
          "x0": -0.6342342342342344,
          "x1": -0.19999999999999996,
          "xref": "x",
          "y0": 0,
          "y1": 1,
          "yref": "y"
         },
         {
          "fillcolor": "#c7f5bf",
          "layer": "below",
          "line": {
           "width": 0
          },
          "opacity": 0.1,
          "type": "rect",
          "x0": -0.19999999999999996,
          "x1": 0.25,
          "xref": "x",
          "y0": 0,
          "y1": 1,
          "yref": "y"
         },
         {
          "line": {
           "color": "#371ea3",
           "width": 1.5
          },
          "type": "line",
          "x0": 0,
          "x1": 0,
          "xref": "x",
          "y0": 0,
          "y1": 1,
          "yref": "y"
         },
         {
          "fillcolor": "#f05a71",
          "layer": "below",
          "line": {
           "width": 0
          },
          "opacity": 0.1,
          "type": "rect",
          "x0": 0.25,
          "x1": 0.3,
          "xref": "x",
          "y0": 0,
          "y1": 1,
          "yref": "y2"
         },
         {
          "fillcolor": "#f05a71",
          "layer": "below",
          "line": {
           "width": 0
          },
          "opacity": 0.1,
          "type": "rect",
          "x0": -0.6342342342342344,
          "x1": -0.19999999999999996,
          "xref": "x",
          "y0": 0,
          "y1": 1,
          "yref": "y2"
         },
         {
          "fillcolor": "#c7f5bf",
          "layer": "below",
          "line": {
           "width": 0
          },
          "opacity": 0.1,
          "type": "rect",
          "x0": -0.19999999999999996,
          "x1": 0.25,
          "xref": "x",
          "y0": 0,
          "y1": 1,
          "yref": "y2"
         },
         {
          "line": {
           "color": "#371ea3",
           "width": 1.5
          },
          "type": "line",
          "x0": 0,
          "x1": 0,
          "xref": "x",
          "y0": 0,
          "y1": 1,
          "yref": "y2"
         },
         {
          "fillcolor": "#f05a71",
          "layer": "below",
          "line": {
           "width": 0
          },
          "opacity": 0.1,
          "type": "rect",
          "x0": 0.25,
          "x1": 0.3,
          "xref": "x",
          "y0": 0,
          "y1": 1,
          "yref": "y3"
         },
         {
          "fillcolor": "#f05a71",
          "layer": "below",
          "line": {
           "width": 0
          },
          "opacity": 0.1,
          "type": "rect",
          "x0": -0.6342342342342344,
          "x1": -0.19999999999999996,
          "xref": "x",
          "y0": 0,
          "y1": 1,
          "yref": "y3"
         },
         {
          "fillcolor": "#c7f5bf",
          "layer": "below",
          "line": {
           "width": 0
          },
          "opacity": 0.1,
          "type": "rect",
          "x0": -0.19999999999999996,
          "x1": 0.25,
          "xref": "x",
          "y0": 0,
          "y1": 1,
          "yref": "y3"
         },
         {
          "line": {
           "color": "#371ea3",
           "width": 1.5
          },
          "type": "line",
          "x0": 0,
          "x1": 0,
          "xref": "x",
          "y0": 0,
          "y1": 1,
          "yref": "y3"
         },
         {
          "fillcolor": "#f05a71",
          "layer": "below",
          "line": {
           "width": 0
          },
          "opacity": 0.1,
          "type": "rect",
          "x0": 0.25,
          "x1": 0.3,
          "xref": "x",
          "y0": 0,
          "y1": 1,
          "yref": "y4"
         },
         {
          "fillcolor": "#f05a71",
          "layer": "below",
          "line": {
           "width": 0
          },
          "opacity": 0.1,
          "type": "rect",
          "x0": -0.6342342342342344,
          "x1": -0.19999999999999996,
          "xref": "x",
          "y0": 0,
          "y1": 1,
          "yref": "y4"
         },
         {
          "fillcolor": "#c7f5bf",
          "layer": "below",
          "line": {
           "width": 0
          },
          "opacity": 0.1,
          "type": "rect",
          "x0": -0.19999999999999996,
          "x1": 0.25,
          "xref": "x",
          "y0": 0,
          "y1": 1,
          "yref": "y4"
         },
         {
          "line": {
           "color": "#371ea3",
           "width": 1.5
          },
          "type": "line",
          "x0": 0,
          "x1": 0,
          "xref": "x",
          "y0": 0,
          "y1": 1,
          "yref": "y4"
         },
         {
          "fillcolor": "#f05a71",
          "layer": "below",
          "line": {
           "width": 0
          },
          "opacity": 0.1,
          "type": "rect",
          "x0": 0.25,
          "x1": 0.3,
          "xref": "x",
          "y0": 0,
          "y1": 1,
          "yref": "y5"
         },
         {
          "fillcolor": "#f05a71",
          "layer": "below",
          "line": {
           "width": 0
          },
          "opacity": 0.1,
          "type": "rect",
          "x0": -0.6342342342342344,
          "x1": -0.19999999999999996,
          "xref": "x",
          "y0": 0,
          "y1": 1,
          "yref": "y5"
         },
         {
          "fillcolor": "#c7f5bf",
          "layer": "below",
          "line": {
           "width": 0
          },
          "opacity": 0.1,
          "type": "rect",
          "x0": -0.19999999999999996,
          "x1": 0.25,
          "xref": "x",
          "y0": 0,
          "y1": 1,
          "yref": "y5"
         },
         {
          "line": {
           "color": "#371ea3",
           "width": 1.5
          },
          "type": "line",
          "x0": 0,
          "x1": 0,
          "xref": "x",
          "y0": 0,
          "y1": 1,
          "yref": "y5"
         }
        ],
        "template": {
         "data": {
          "bar": [
           {
            "error_x": {
             "color": "#2a3f5f"
            },
            "error_y": {
             "color": "#2a3f5f"
            },
            "marker": {
             "line": {
              "color": "white",
              "width": 0.5
             },
             "pattern": {
              "fillmode": "overlay",
              "size": 10,
              "solidity": 0.2
             }
            },
            "type": "bar"
           }
          ],
          "barpolar": [
           {
            "marker": {
             "line": {
              "color": "white",
              "width": 0.5
             },
             "pattern": {
              "fillmode": "overlay",
              "size": 10,
              "solidity": 0.2
             }
            },
            "type": "barpolar"
           }
          ],
          "carpet": [
           {
            "aaxis": {
             "endlinecolor": "#2a3f5f",
             "gridcolor": "#C8D4E3",
             "linecolor": "#C8D4E3",
             "minorgridcolor": "#C8D4E3",
             "startlinecolor": "#2a3f5f"
            },
            "baxis": {
             "endlinecolor": "#2a3f5f",
             "gridcolor": "#C8D4E3",
             "linecolor": "#C8D4E3",
             "minorgridcolor": "#C8D4E3",
             "startlinecolor": "#2a3f5f"
            },
            "type": "carpet"
           }
          ],
          "choropleth": [
           {
            "colorbar": {
             "outlinewidth": 0,
             "ticks": ""
            },
            "type": "choropleth"
           }
          ],
          "contour": [
           {
            "colorbar": {
             "outlinewidth": 0,
             "ticks": ""
            },
            "colorscale": [
             [
              0,
              "#0d0887"
             ],
             [
              0.1111111111111111,
              "#46039f"
             ],
             [
              0.2222222222222222,
              "#7201a8"
             ],
             [
              0.3333333333333333,
              "#9c179e"
             ],
             [
              0.4444444444444444,
              "#bd3786"
             ],
             [
              0.5555555555555556,
              "#d8576b"
             ],
             [
              0.6666666666666666,
              "#ed7953"
             ],
             [
              0.7777777777777778,
              "#fb9f3a"
             ],
             [
              0.8888888888888888,
              "#fdca26"
             ],
             [
              1,
              "#f0f921"
             ]
            ],
            "type": "contour"
           }
          ],
          "contourcarpet": [
           {
            "colorbar": {
             "outlinewidth": 0,
             "ticks": ""
            },
            "type": "contourcarpet"
           }
          ],
          "heatmap": [
           {
            "colorbar": {
             "outlinewidth": 0,
             "ticks": ""
            },
            "colorscale": [
             [
              0,
              "#0d0887"
             ],
             [
              0.1111111111111111,
              "#46039f"
             ],
             [
              0.2222222222222222,
              "#7201a8"
             ],
             [
              0.3333333333333333,
              "#9c179e"
             ],
             [
              0.4444444444444444,
              "#bd3786"
             ],
             [
              0.5555555555555556,
              "#d8576b"
             ],
             [
              0.6666666666666666,
              "#ed7953"
             ],
             [
              0.7777777777777778,
              "#fb9f3a"
             ],
             [
              0.8888888888888888,
              "#fdca26"
             ],
             [
              1,
              "#f0f921"
             ]
            ],
            "type": "heatmap"
           }
          ],
          "heatmapgl": [
           {
            "colorbar": {
             "outlinewidth": 0,
             "ticks": ""
            },
            "colorscale": [
             [
              0,
              "#0d0887"
             ],
             [
              0.1111111111111111,
              "#46039f"
             ],
             [
              0.2222222222222222,
              "#7201a8"
             ],
             [
              0.3333333333333333,
              "#9c179e"
             ],
             [
              0.4444444444444444,
              "#bd3786"
             ],
             [
              0.5555555555555556,
              "#d8576b"
             ],
             [
              0.6666666666666666,
              "#ed7953"
             ],
             [
              0.7777777777777778,
              "#fb9f3a"
             ],
             [
              0.8888888888888888,
              "#fdca26"
             ],
             [
              1,
              "#f0f921"
             ]
            ],
            "type": "heatmapgl"
           }
          ],
          "histogram": [
           {
            "marker": {
             "pattern": {
              "fillmode": "overlay",
              "size": 10,
              "solidity": 0.2
             }
            },
            "type": "histogram"
           }
          ],
          "histogram2d": [
           {
            "colorbar": {
             "outlinewidth": 0,
             "ticks": ""
            },
            "colorscale": [
             [
              0,
              "#0d0887"
             ],
             [
              0.1111111111111111,
              "#46039f"
             ],
             [
              0.2222222222222222,
              "#7201a8"
             ],
             [
              0.3333333333333333,
              "#9c179e"
             ],
             [
              0.4444444444444444,
              "#bd3786"
             ],
             [
              0.5555555555555556,
              "#d8576b"
             ],
             [
              0.6666666666666666,
              "#ed7953"
             ],
             [
              0.7777777777777778,
              "#fb9f3a"
             ],
             [
              0.8888888888888888,
              "#fdca26"
             ],
             [
              1,
              "#f0f921"
             ]
            ],
            "type": "histogram2d"
           }
          ],
          "histogram2dcontour": [
           {
            "colorbar": {
             "outlinewidth": 0,
             "ticks": ""
            },
            "colorscale": [
             [
              0,
              "#0d0887"
             ],
             [
              0.1111111111111111,
              "#46039f"
             ],
             [
              0.2222222222222222,
              "#7201a8"
             ],
             [
              0.3333333333333333,
              "#9c179e"
             ],
             [
              0.4444444444444444,
              "#bd3786"
             ],
             [
              0.5555555555555556,
              "#d8576b"
             ],
             [
              0.6666666666666666,
              "#ed7953"
             ],
             [
              0.7777777777777778,
              "#fb9f3a"
             ],
             [
              0.8888888888888888,
              "#fdca26"
             ],
             [
              1,
              "#f0f921"
             ]
            ],
            "type": "histogram2dcontour"
           }
          ],
          "mesh3d": [
           {
            "colorbar": {
             "outlinewidth": 0,
             "ticks": ""
            },
            "type": "mesh3d"
           }
          ],
          "parcoords": [
           {
            "line": {
             "colorbar": {
              "outlinewidth": 0,
              "ticks": ""
             }
            },
            "type": "parcoords"
           }
          ],
          "pie": [
           {
            "automargin": true,
            "type": "pie"
           }
          ],
          "scatter": [
           {
            "fillpattern": {
             "fillmode": "overlay",
             "size": 10,
             "solidity": 0.2
            },
            "type": "scatter"
           }
          ],
          "scatter3d": [
           {
            "line": {
             "colorbar": {
              "outlinewidth": 0,
              "ticks": ""
             }
            },
            "marker": {
             "colorbar": {
              "outlinewidth": 0,
              "ticks": ""
             }
            },
            "type": "scatter3d"
           }
          ],
          "scattercarpet": [
           {
            "marker": {
             "colorbar": {
              "outlinewidth": 0,
              "ticks": ""
             }
            },
            "type": "scattercarpet"
           }
          ],
          "scattergeo": [
           {
            "marker": {
             "colorbar": {
              "outlinewidth": 0,
              "ticks": ""
             }
            },
            "type": "scattergeo"
           }
          ],
          "scattergl": [
           {
            "marker": {
             "colorbar": {
              "outlinewidth": 0,
              "ticks": ""
             }
            },
            "type": "scattergl"
           }
          ],
          "scattermapbox": [
           {
            "marker": {
             "colorbar": {
              "outlinewidth": 0,
              "ticks": ""
             }
            },
            "type": "scattermapbox"
           }
          ],
          "scatterpolar": [
           {
            "marker": {
             "colorbar": {
              "outlinewidth": 0,
              "ticks": ""
             }
            },
            "type": "scatterpolar"
           }
          ],
          "scatterpolargl": [
           {
            "marker": {
             "colorbar": {
              "outlinewidth": 0,
              "ticks": ""
             }
            },
            "type": "scatterpolargl"
           }
          ],
          "scatterternary": [
           {
            "marker": {
             "colorbar": {
              "outlinewidth": 0,
              "ticks": ""
             }
            },
            "type": "scatterternary"
           }
          ],
          "surface": [
           {
            "colorbar": {
             "outlinewidth": 0,
             "ticks": ""
            },
            "colorscale": [
             [
              0,
              "#0d0887"
             ],
             [
              0.1111111111111111,
              "#46039f"
             ],
             [
              0.2222222222222222,
              "#7201a8"
             ],
             [
              0.3333333333333333,
              "#9c179e"
             ],
             [
              0.4444444444444444,
              "#bd3786"
             ],
             [
              0.5555555555555556,
              "#d8576b"
             ],
             [
              0.6666666666666666,
              "#ed7953"
             ],
             [
              0.7777777777777778,
              "#fb9f3a"
             ],
             [
              0.8888888888888888,
              "#fdca26"
             ],
             [
              1,
              "#f0f921"
             ]
            ],
            "type": "surface"
           }
          ],
          "table": [
           {
            "cells": {
             "fill": {
              "color": "#EBF0F8"
             },
             "line": {
              "color": "white"
             }
            },
            "header": {
             "fill": {
              "color": "#C8D4E3"
             },
             "line": {
              "color": "white"
             }
            },
            "type": "table"
           }
          ]
         },
         "layout": {
          "annotationdefaults": {
           "arrowcolor": "#2a3f5f",
           "arrowhead": 0,
           "arrowwidth": 1
          },
          "autotypenumbers": "strict",
          "coloraxis": {
           "colorbar": {
            "outlinewidth": 0,
            "ticks": ""
           }
          },
          "colorscale": {
           "diverging": [
            [
             0,
             "#8e0152"
            ],
            [
             0.1,
             "#c51b7d"
            ],
            [
             0.2,
             "#de77ae"
            ],
            [
             0.3,
             "#f1b6da"
            ],
            [
             0.4,
             "#fde0ef"
            ],
            [
             0.5,
             "#f7f7f7"
            ],
            [
             0.6,
             "#e6f5d0"
            ],
            [
             0.7,
             "#b8e186"
            ],
            [
             0.8,
             "#7fbc41"
            ],
            [
             0.9,
             "#4d9221"
            ],
            [
             1,
             "#276419"
            ]
           ],
           "sequential": [
            [
             0,
             "#0d0887"
            ],
            [
             0.1111111111111111,
             "#46039f"
            ],
            [
             0.2222222222222222,
             "#7201a8"
            ],
            [
             0.3333333333333333,
             "#9c179e"
            ],
            [
             0.4444444444444444,
             "#bd3786"
            ],
            [
             0.5555555555555556,
             "#d8576b"
            ],
            [
             0.6666666666666666,
             "#ed7953"
            ],
            [
             0.7777777777777778,
             "#fb9f3a"
            ],
            [
             0.8888888888888888,
             "#fdca26"
            ],
            [
             1,
             "#f0f921"
            ]
           ],
           "sequentialminus": [
            [
             0,
             "#0d0887"
            ],
            [
             0.1111111111111111,
             "#46039f"
            ],
            [
             0.2222222222222222,
             "#7201a8"
            ],
            [
             0.3333333333333333,
             "#9c179e"
            ],
            [
             0.4444444444444444,
             "#bd3786"
            ],
            [
             0.5555555555555556,
             "#d8576b"
            ],
            [
             0.6666666666666666,
             "#ed7953"
            ],
            [
             0.7777777777777778,
             "#fb9f3a"
            ],
            [
             0.8888888888888888,
             "#fdca26"
            ],
            [
             1,
             "#f0f921"
            ]
           ]
          },
          "colorway": [
           "#636efa",
           "#EF553B",
           "#00cc96",
           "#ab63fa",
           "#FFA15A",
           "#19d3f3",
           "#FF6692",
           "#B6E880",
           "#FF97FF",
           "#FECB52"
          ],
          "font": {
           "color": "#2a3f5f"
          },
          "geo": {
           "bgcolor": "white",
           "lakecolor": "white",
           "landcolor": "white",
           "showlakes": true,
           "showland": true,
           "subunitcolor": "#C8D4E3"
          },
          "hoverlabel": {
           "align": "left"
          },
          "hovermode": "closest",
          "mapbox": {
           "style": "light"
          },
          "paper_bgcolor": "white",
          "plot_bgcolor": "white",
          "polar": {
           "angularaxis": {
            "gridcolor": "#EBF0F8",
            "linecolor": "#EBF0F8",
            "ticks": ""
           },
           "bgcolor": "white",
           "radialaxis": {
            "gridcolor": "#EBF0F8",
            "linecolor": "#EBF0F8",
            "ticks": ""
           }
          },
          "scene": {
           "xaxis": {
            "backgroundcolor": "white",
            "gridcolor": "#DFE8F3",
            "gridwidth": 2,
            "linecolor": "#EBF0F8",
            "showbackground": true,
            "ticks": "",
            "zerolinecolor": "#EBF0F8"
           },
           "yaxis": {
            "backgroundcolor": "white",
            "gridcolor": "#DFE8F3",
            "gridwidth": 2,
            "linecolor": "#EBF0F8",
            "showbackground": true,
            "ticks": "",
            "zerolinecolor": "#EBF0F8"
           },
           "zaxis": {
            "backgroundcolor": "white",
            "gridcolor": "#DFE8F3",
            "gridwidth": 2,
            "linecolor": "#EBF0F8",
            "showbackground": true,
            "ticks": "",
            "zerolinecolor": "#EBF0F8"
           }
          },
          "shapedefaults": {
           "line": {
            "color": "#2a3f5f"
           }
          },
          "ternary": {
           "aaxis": {
            "gridcolor": "#DFE8F3",
            "linecolor": "#A2B1C6",
            "ticks": ""
           },
           "baxis": {
            "gridcolor": "#DFE8F3",
            "linecolor": "#A2B1C6",
            "ticks": ""
           },
           "bgcolor": "white",
           "caxis": {
            "gridcolor": "#DFE8F3",
            "linecolor": "#A2B1C6",
            "ticks": ""
           }
          },
          "title": {
           "x": 0.05
          },
          "xaxis": {
           "automargin": true,
           "gridcolor": "#EBF0F8",
           "linecolor": "#EBF0F8",
           "ticks": "",
           "title": {
            "standoff": 15
           },
           "zerolinecolor": "#EBF0F8",
           "zerolinewidth": 2
          },
          "yaxis": {
           "automargin": true,
           "gridcolor": "#EBF0F8",
           "linecolor": "#EBF0F8",
           "ticks": "",
           "title": {
            "standoff": 15
           },
           "zerolinecolor": "#EBF0F8",
           "zerolinewidth": 2
          }
         }
        },
        "title": {
         "font": {
          "size": 25
         },
         "text": "Fairness Check",
         "x": 0.5,
         "y": 0.99
        },
        "xaxis": {
         "anchor": "y",
         "domain": [
          0,
          1
         ],
         "range": [
          -0.6342342342342344,
          0.3
         ],
         "ticktext": [
          0.3,
          0.4,
          0.5,
          0.6,
          0.7,
          0.8,
          0.9,
          1,
          1.1,
          1.2,
          1.3,
          1
         ],
         "tickvals": [
          -0.7,
          -0.6,
          -0.5,
          -0.4,
          -0.30000000000000004,
          -0.19999999999999996,
          -0.09999999999999998,
          0,
          0.10000000000000009,
          0.19999999999999996,
          0.30000000000000004,
          0
         ],
         "title": {
          "text": "score"
         }
        },
        "xaxis2": {
         "anchor": "y2",
         "domain": [
          0,
          1
         ],
         "matches": "x",
         "range": [
          -0.6342342342342344,
          0.3
         ],
         "showticklabels": false,
         "ticktext": [
          0.3,
          0.4,
          0.5,
          0.6,
          0.7,
          0.8,
          0.9,
          1,
          1.1,
          1.2,
          1.3,
          1
         ],
         "tickvals": [
          -0.7,
          -0.6,
          -0.5,
          -0.4,
          -0.30000000000000004,
          -0.19999999999999996,
          -0.09999999999999998,
          0,
          0.10000000000000009,
          0.19999999999999996,
          0.30000000000000004,
          0
         ]
        },
        "xaxis3": {
         "anchor": "y3",
         "domain": [
          0,
          1
         ],
         "matches": "x",
         "range": [
          -0.6342342342342344,
          0.3
         ],
         "showticklabels": false,
         "ticktext": [
          0.3,
          0.4,
          0.5,
          0.6,
          0.7,
          0.8,
          0.9,
          1,
          1.1,
          1.2,
          1.3,
          1
         ],
         "tickvals": [
          -0.7,
          -0.6,
          -0.5,
          -0.4,
          -0.30000000000000004,
          -0.19999999999999996,
          -0.09999999999999998,
          0,
          0.10000000000000009,
          0.19999999999999996,
          0.30000000000000004,
          0
         ]
        },
        "xaxis4": {
         "anchor": "y4",
         "domain": [
          0,
          1
         ],
         "matches": "x",
         "range": [
          -0.6342342342342344,
          0.3
         ],
         "showticklabels": false,
         "ticktext": [
          0.3,
          0.4,
          0.5,
          0.6,
          0.7,
          0.8,
          0.9,
          1,
          1.1,
          1.2,
          1.3,
          1
         ],
         "tickvals": [
          -0.7,
          -0.6,
          -0.5,
          -0.4,
          -0.30000000000000004,
          -0.19999999999999996,
          -0.09999999999999998,
          0,
          0.10000000000000009,
          0.19999999999999996,
          0.30000000000000004,
          0
         ]
        },
        "xaxis5": {
         "anchor": "y5",
         "domain": [
          0,
          1
         ],
         "matches": "x",
         "range": [
          -0.6342342342342344,
          0.3
         ],
         "showticklabels": false,
         "ticktext": [
          0.3,
          0.4,
          0.5,
          0.6,
          0.7,
          0.8,
          0.9,
          1,
          1.1,
          1.2,
          1.3,
          1
         ],
         "tickvals": [
          -0.7,
          -0.6,
          -0.5,
          -0.4,
          -0.30000000000000004,
          -0.19999999999999996,
          -0.09999999999999998,
          0,
          0.10000000000000009,
          0.19999999999999996,
          0.30000000000000004,
          0
         ]
        },
        "yaxis": {
         "anchor": "x",
         "domain": [
          0,
          0.144
         ],
         "range": [
          0,
          1
         ],
         "showgrid": false,
         "ticktext": [
          "young"
         ],
         "tickvals": [
          0.5
         ],
         "title": {
          "text": ""
         },
         "zeroline": false
        },
        "yaxis2": {
         "anchor": "x2",
         "domain": [
          0.214,
          0.358
         ],
         "matches": "y",
         "range": [
          0,
          1
         ],
         "showgrid": false,
         "ticktext": [
          "young"
         ],
         "tickvals": [
          0.5
         ],
         "title": {
          "text": ""
         },
         "zeroline": false
        },
        "yaxis3": {
         "anchor": "x3",
         "domain": [
          0.428,
          0.572
         ],
         "matches": "y",
         "range": [
          0,
          1
         ],
         "showgrid": false,
         "ticktext": [
          "young"
         ],
         "tickvals": [
          0.5
         ],
         "title": {
          "text": "subgroup"
         },
         "zeroline": false
        },
        "yaxis4": {
         "anchor": "x4",
         "domain": [
          0.6419999999999999,
          0.7859999999999999
         ],
         "matches": "y",
         "range": [
          0,
          1
         ],
         "showgrid": false,
         "ticktext": [
          "young"
         ],
         "tickvals": [
          0.5
         ],
         "title": {
          "text": ""
         },
         "zeroline": false
        },
        "yaxis5": {
         "anchor": "x5",
         "domain": [
          0.856,
          1
         ],
         "matches": "y",
         "range": [
          0,
          1
         ],
         "showgrid": false,
         "ticktext": [
          "young"
         ],
         "tickvals": [
          0.5
         ],
         "title": {
          "text": ""
         },
         "zeroline": false
        }
       }
      }
     },
     "metadata": {},
     "output_type": "display_data"
    }
   ],
   "source": [
    "mf_tree.plot(objects=[mf_forest, mf_logreg])\n"
   ]
  },
  {
   "attachments": {},
   "cell_type": "markdown",
   "metadata": {},
   "source": [
    "We evaluate the cumulated parity representing the previous metrics in a stacked bar plot. The cumulated parity is the sum of the absolute values of the differences between the privileged and unprivileged groups for each metric. The cumulated parity is a measure of the overall fairness of the model.\n",
    "\n",
    "As we can see, the Decision Tree model is the most fair, followed by the Random Forest model and the Logistic Regression model."
   ]
  },
  {
   "cell_type": "code",
   "execution_count": 559,
   "metadata": {},
   "outputs": [
    {
     "data": {
      "application/vnd.plotly.v1+json": {
       "config": {
        "displaylogo": false,
        "modeBarButtonsToRemove": [
         "sendDataToCloud",
         "lasso2d",
         "autoScale2d",
         "select2d",
         "zoom2d",
         "pan2d",
         "zoomIn2d",
         "zoomOut2d",
         "resetScale2d",
         "toggleSpikelines",
         "hoverCompareCartesian",
         "hoverClosestCartesian"
        ],
        "plotlyServerURL": "https://plot.ly",
        "staticPlot": false,
        "toImageButtonOptions": {
         "height": null,
         "width": null
        }
       },
       "data": [
        {
         "alignmentgroup": "True",
         "customdata": [
          [
           0.243,
           "TPR"
          ],
          [
           0.637,
           "TPR"
          ],
          [
           0.435,
           "TPR"
          ]
         ],
         "hovertemplate": "<b>%{label}</b><br>Metric: %{customdata[1]}<br>Parity loss: %{customdata[0]}<br><extra></extra>",
         "legendgroup": "TPR",
         "marker": {
          "color": "#8bdcbe",
          "line": {
           "width": 0
          },
          "pattern": {
           "shape": ""
          }
         },
         "name": "TPR",
         "offsetgroup": "TPR",
         "orientation": "h",
         "showlegend": true,
         "textposition": "auto",
         "type": "bar",
         "x": [
          0.24334625863172918,
          0.6367668471238376,
          0.43540898448123644
         ],
         "xaxis": "x",
         "y": [
          "Decision Tree",
          "Logistic Regression",
          "Random Forest"
         ],
         "yaxis": "y"
        },
        {
         "alignmentgroup": "True",
         "customdata": [
          [
           0.039,
           "PPV"
          ],
          [
           0.049,
           "PPV"
          ],
          [
           0.193,
           "PPV"
          ]
         ],
         "hovertemplate": "<b>%{label}</b><br>Metric: %{customdata[1]}<br>Parity loss: %{customdata[0]}<br><extra></extra>",
         "legendgroup": "PPV",
         "marker": {
          "color": "#f05a71",
          "line": {
           "width": 0
          },
          "pattern": {
           "shape": ""
          }
         },
         "name": "PPV",
         "offsetgroup": "PPV",
         "orientation": "h",
         "showlegend": true,
         "textposition": "auto",
         "type": "bar",
         "x": [
          0.039335005398676764,
          0.04934052191584983,
          0.19295153362725317
         ],
         "xaxis": "x",
         "y": [
          "Decision Tree",
          "Logistic Regression",
          "Random Forest"
         ],
         "yaxis": "y"
        },
        {
         "alignmentgroup": "True",
         "customdata": [
          [
           0.51,
           "FPR"
          ],
          [
           0.859,
           "FPR"
          ],
          [
           0.239,
           "FPR"
          ]
         ],
         "hovertemplate": "<b>%{label}</b><br>Metric: %{customdata[1]}<br>Parity loss: %{customdata[0]}<br><extra></extra>",
         "legendgroup": "FPR",
         "marker": {
          "color": "#4378bf",
          "line": {
           "width": 0
          },
          "pattern": {
           "shape": ""
          }
         },
         "name": "FPR",
         "offsetgroup": "FPR",
         "orientation": "h",
         "showlegend": true,
         "textposition": "auto",
         "type": "bar",
         "x": [
          0.5098251234324072,
          0.8593825996022757,
          0.23922968906583406
         ],
         "xaxis": "x",
         "y": [
          "Decision Tree",
          "Logistic Regression",
          "Random Forest"
         ],
         "yaxis": "y"
        },
        {
         "alignmentgroup": "True",
         "customdata": [
          [
           0.011,
           "ACC"
          ],
          [
           0.114,
           "ACC"
          ],
          [
           0.189,
           "ACC"
          ]
         ],
         "hovertemplate": "<b>%{label}</b><br>Metric: %{customdata[1]}<br>Parity loss: %{customdata[0]}<br><extra></extra>",
         "legendgroup": "ACC",
         "marker": {
          "color": "#ae2c87",
          "line": {
           "width": 0
          },
          "pattern": {
           "shape": ""
          }
         },
         "name": "ACC",
         "offsetgroup": "ACC",
         "orientation": "h",
         "showlegend": true,
         "textposition": "auto",
         "type": "bar",
         "x": [
          0.010512580389087024,
          0.11430003069663504,
          0.18893209371463135
         ],
         "xaxis": "x",
         "y": [
          "Decision Tree",
          "Logistic Regression",
          "Random Forest"
         ],
         "yaxis": "y"
        },
        {
         "alignmentgroup": "True",
         "customdata": [
          [
           0.431,
           "STP"
          ],
          [
           0.813,
           "STP"
          ],
          [
           0.469,
           "STP"
          ]
         ],
         "hovertemplate": "<b>%{label}</b><br>Metric: %{customdata[1]}<br>Parity loss: %{customdata[0]}<br><extra></extra>",
         "legendgroup": "STP",
         "marker": {
          "color": "#ffa58c",
          "line": {
           "width": 0
          },
          "pattern": {
           "shape": ""
          }
         },
         "name": "STP",
         "offsetgroup": "STP",
         "orientation": "h",
         "showlegend": true,
         "textposition": "auto",
         "type": "bar",
         "x": [
          0.43130633929205164,
          0.8128640787412795,
          0.4688700564812365
         ],
         "xaxis": "x",
         "y": [
          "Decision Tree",
          "Logistic Regression",
          "Random Forest"
         ],
         "yaxis": "y"
        }
       ],
       "layout": {
        "barmode": "relative",
        "font": {
         "color": "#371ea3"
        },
        "legend": {
         "title": {
          "text": "metric"
         },
         "tracegroupgap": 0
        },
        "margin": {
         "b": 71,
         "r": 30,
         "t": 78
        },
        "template": {
         "data": {
          "bar": [
           {
            "error_x": {
             "color": "#2a3f5f"
            },
            "error_y": {
             "color": "#2a3f5f"
            },
            "marker": {
             "line": {
              "color": "white",
              "width": 0.5
             },
             "pattern": {
              "fillmode": "overlay",
              "size": 10,
              "solidity": 0.2
             }
            },
            "type": "bar"
           }
          ],
          "barpolar": [
           {
            "marker": {
             "line": {
              "color": "white",
              "width": 0.5
             },
             "pattern": {
              "fillmode": "overlay",
              "size": 10,
              "solidity": 0.2
             }
            },
            "type": "barpolar"
           }
          ],
          "carpet": [
           {
            "aaxis": {
             "endlinecolor": "#2a3f5f",
             "gridcolor": "#C8D4E3",
             "linecolor": "#C8D4E3",
             "minorgridcolor": "#C8D4E3",
             "startlinecolor": "#2a3f5f"
            },
            "baxis": {
             "endlinecolor": "#2a3f5f",
             "gridcolor": "#C8D4E3",
             "linecolor": "#C8D4E3",
             "minorgridcolor": "#C8D4E3",
             "startlinecolor": "#2a3f5f"
            },
            "type": "carpet"
           }
          ],
          "choropleth": [
           {
            "colorbar": {
             "outlinewidth": 0,
             "ticks": ""
            },
            "type": "choropleth"
           }
          ],
          "contour": [
           {
            "colorbar": {
             "outlinewidth": 0,
             "ticks": ""
            },
            "colorscale": [
             [
              0,
              "#0d0887"
             ],
             [
              0.1111111111111111,
              "#46039f"
             ],
             [
              0.2222222222222222,
              "#7201a8"
             ],
             [
              0.3333333333333333,
              "#9c179e"
             ],
             [
              0.4444444444444444,
              "#bd3786"
             ],
             [
              0.5555555555555556,
              "#d8576b"
             ],
             [
              0.6666666666666666,
              "#ed7953"
             ],
             [
              0.7777777777777778,
              "#fb9f3a"
             ],
             [
              0.8888888888888888,
              "#fdca26"
             ],
             [
              1,
              "#f0f921"
             ]
            ],
            "type": "contour"
           }
          ],
          "contourcarpet": [
           {
            "colorbar": {
             "outlinewidth": 0,
             "ticks": ""
            },
            "type": "contourcarpet"
           }
          ],
          "heatmap": [
           {
            "colorbar": {
             "outlinewidth": 0,
             "ticks": ""
            },
            "colorscale": [
             [
              0,
              "#0d0887"
             ],
             [
              0.1111111111111111,
              "#46039f"
             ],
             [
              0.2222222222222222,
              "#7201a8"
             ],
             [
              0.3333333333333333,
              "#9c179e"
             ],
             [
              0.4444444444444444,
              "#bd3786"
             ],
             [
              0.5555555555555556,
              "#d8576b"
             ],
             [
              0.6666666666666666,
              "#ed7953"
             ],
             [
              0.7777777777777778,
              "#fb9f3a"
             ],
             [
              0.8888888888888888,
              "#fdca26"
             ],
             [
              1,
              "#f0f921"
             ]
            ],
            "type": "heatmap"
           }
          ],
          "heatmapgl": [
           {
            "colorbar": {
             "outlinewidth": 0,
             "ticks": ""
            },
            "colorscale": [
             [
              0,
              "#0d0887"
             ],
             [
              0.1111111111111111,
              "#46039f"
             ],
             [
              0.2222222222222222,
              "#7201a8"
             ],
             [
              0.3333333333333333,
              "#9c179e"
             ],
             [
              0.4444444444444444,
              "#bd3786"
             ],
             [
              0.5555555555555556,
              "#d8576b"
             ],
             [
              0.6666666666666666,
              "#ed7953"
             ],
             [
              0.7777777777777778,
              "#fb9f3a"
             ],
             [
              0.8888888888888888,
              "#fdca26"
             ],
             [
              1,
              "#f0f921"
             ]
            ],
            "type": "heatmapgl"
           }
          ],
          "histogram": [
           {
            "marker": {
             "pattern": {
              "fillmode": "overlay",
              "size": 10,
              "solidity": 0.2
             }
            },
            "type": "histogram"
           }
          ],
          "histogram2d": [
           {
            "colorbar": {
             "outlinewidth": 0,
             "ticks": ""
            },
            "colorscale": [
             [
              0,
              "#0d0887"
             ],
             [
              0.1111111111111111,
              "#46039f"
             ],
             [
              0.2222222222222222,
              "#7201a8"
             ],
             [
              0.3333333333333333,
              "#9c179e"
             ],
             [
              0.4444444444444444,
              "#bd3786"
             ],
             [
              0.5555555555555556,
              "#d8576b"
             ],
             [
              0.6666666666666666,
              "#ed7953"
             ],
             [
              0.7777777777777778,
              "#fb9f3a"
             ],
             [
              0.8888888888888888,
              "#fdca26"
             ],
             [
              1,
              "#f0f921"
             ]
            ],
            "type": "histogram2d"
           }
          ],
          "histogram2dcontour": [
           {
            "colorbar": {
             "outlinewidth": 0,
             "ticks": ""
            },
            "colorscale": [
             [
              0,
              "#0d0887"
             ],
             [
              0.1111111111111111,
              "#46039f"
             ],
             [
              0.2222222222222222,
              "#7201a8"
             ],
             [
              0.3333333333333333,
              "#9c179e"
             ],
             [
              0.4444444444444444,
              "#bd3786"
             ],
             [
              0.5555555555555556,
              "#d8576b"
             ],
             [
              0.6666666666666666,
              "#ed7953"
             ],
             [
              0.7777777777777778,
              "#fb9f3a"
             ],
             [
              0.8888888888888888,
              "#fdca26"
             ],
             [
              1,
              "#f0f921"
             ]
            ],
            "type": "histogram2dcontour"
           }
          ],
          "mesh3d": [
           {
            "colorbar": {
             "outlinewidth": 0,
             "ticks": ""
            },
            "type": "mesh3d"
           }
          ],
          "parcoords": [
           {
            "line": {
             "colorbar": {
              "outlinewidth": 0,
              "ticks": ""
             }
            },
            "type": "parcoords"
           }
          ],
          "pie": [
           {
            "automargin": true,
            "type": "pie"
           }
          ],
          "scatter": [
           {
            "fillpattern": {
             "fillmode": "overlay",
             "size": 10,
             "solidity": 0.2
            },
            "type": "scatter"
           }
          ],
          "scatter3d": [
           {
            "line": {
             "colorbar": {
              "outlinewidth": 0,
              "ticks": ""
             }
            },
            "marker": {
             "colorbar": {
              "outlinewidth": 0,
              "ticks": ""
             }
            },
            "type": "scatter3d"
           }
          ],
          "scattercarpet": [
           {
            "marker": {
             "colorbar": {
              "outlinewidth": 0,
              "ticks": ""
             }
            },
            "type": "scattercarpet"
           }
          ],
          "scattergeo": [
           {
            "marker": {
             "colorbar": {
              "outlinewidth": 0,
              "ticks": ""
             }
            },
            "type": "scattergeo"
           }
          ],
          "scattergl": [
           {
            "marker": {
             "colorbar": {
              "outlinewidth": 0,
              "ticks": ""
             }
            },
            "type": "scattergl"
           }
          ],
          "scattermapbox": [
           {
            "marker": {
             "colorbar": {
              "outlinewidth": 0,
              "ticks": ""
             }
            },
            "type": "scattermapbox"
           }
          ],
          "scatterpolar": [
           {
            "marker": {
             "colorbar": {
              "outlinewidth": 0,
              "ticks": ""
             }
            },
            "type": "scatterpolar"
           }
          ],
          "scatterpolargl": [
           {
            "marker": {
             "colorbar": {
              "outlinewidth": 0,
              "ticks": ""
             }
            },
            "type": "scatterpolargl"
           }
          ],
          "scatterternary": [
           {
            "marker": {
             "colorbar": {
              "outlinewidth": 0,
              "ticks": ""
             }
            },
            "type": "scatterternary"
           }
          ],
          "surface": [
           {
            "colorbar": {
             "outlinewidth": 0,
             "ticks": ""
            },
            "colorscale": [
             [
              0,
              "#0d0887"
             ],
             [
              0.1111111111111111,
              "#46039f"
             ],
             [
              0.2222222222222222,
              "#7201a8"
             ],
             [
              0.3333333333333333,
              "#9c179e"
             ],
             [
              0.4444444444444444,
              "#bd3786"
             ],
             [
              0.5555555555555556,
              "#d8576b"
             ],
             [
              0.6666666666666666,
              "#ed7953"
             ],
             [
              0.7777777777777778,
              "#fb9f3a"
             ],
             [
              0.8888888888888888,
              "#fdca26"
             ],
             [
              1,
              "#f0f921"
             ]
            ],
            "type": "surface"
           }
          ],
          "table": [
           {
            "cells": {
             "fill": {
              "color": "#EBF0F8"
             },
             "line": {
              "color": "white"
             }
            },
            "header": {
             "fill": {
              "color": "#C8D4E3"
             },
             "line": {
              "color": "white"
             }
            },
            "type": "table"
           }
          ]
         },
         "layout": {
          "annotationdefaults": {
           "arrowcolor": "#2a3f5f",
           "arrowhead": 0,
           "arrowwidth": 1
          },
          "autotypenumbers": "strict",
          "coloraxis": {
           "colorbar": {
            "outlinewidth": 0,
            "ticks": ""
           }
          },
          "colorscale": {
           "diverging": [
            [
             0,
             "#8e0152"
            ],
            [
             0.1,
             "#c51b7d"
            ],
            [
             0.2,
             "#de77ae"
            ],
            [
             0.3,
             "#f1b6da"
            ],
            [
             0.4,
             "#fde0ef"
            ],
            [
             0.5,
             "#f7f7f7"
            ],
            [
             0.6,
             "#e6f5d0"
            ],
            [
             0.7,
             "#b8e186"
            ],
            [
             0.8,
             "#7fbc41"
            ],
            [
             0.9,
             "#4d9221"
            ],
            [
             1,
             "#276419"
            ]
           ],
           "sequential": [
            [
             0,
             "#0d0887"
            ],
            [
             0.1111111111111111,
             "#46039f"
            ],
            [
             0.2222222222222222,
             "#7201a8"
            ],
            [
             0.3333333333333333,
             "#9c179e"
            ],
            [
             0.4444444444444444,
             "#bd3786"
            ],
            [
             0.5555555555555556,
             "#d8576b"
            ],
            [
             0.6666666666666666,
             "#ed7953"
            ],
            [
             0.7777777777777778,
             "#fb9f3a"
            ],
            [
             0.8888888888888888,
             "#fdca26"
            ],
            [
             1,
             "#f0f921"
            ]
           ],
           "sequentialminus": [
            [
             0,
             "#0d0887"
            ],
            [
             0.1111111111111111,
             "#46039f"
            ],
            [
             0.2222222222222222,
             "#7201a8"
            ],
            [
             0.3333333333333333,
             "#9c179e"
            ],
            [
             0.4444444444444444,
             "#bd3786"
            ],
            [
             0.5555555555555556,
             "#d8576b"
            ],
            [
             0.6666666666666666,
             "#ed7953"
            ],
            [
             0.7777777777777778,
             "#fb9f3a"
            ],
            [
             0.8888888888888888,
             "#fdca26"
            ],
            [
             1,
             "#f0f921"
            ]
           ]
          },
          "colorway": [
           "#636efa",
           "#EF553B",
           "#00cc96",
           "#ab63fa",
           "#FFA15A",
           "#19d3f3",
           "#FF6692",
           "#B6E880",
           "#FF97FF",
           "#FECB52"
          ],
          "font": {
           "color": "#2a3f5f"
          },
          "geo": {
           "bgcolor": "white",
           "lakecolor": "white",
           "landcolor": "white",
           "showlakes": true,
           "showland": true,
           "subunitcolor": "#C8D4E3"
          },
          "hoverlabel": {
           "align": "left"
          },
          "hovermode": "closest",
          "mapbox": {
           "style": "light"
          },
          "paper_bgcolor": "white",
          "plot_bgcolor": "white",
          "polar": {
           "angularaxis": {
            "gridcolor": "#EBF0F8",
            "linecolor": "#EBF0F8",
            "ticks": ""
           },
           "bgcolor": "white",
           "radialaxis": {
            "gridcolor": "#EBF0F8",
            "linecolor": "#EBF0F8",
            "ticks": ""
           }
          },
          "scene": {
           "xaxis": {
            "backgroundcolor": "white",
            "gridcolor": "#DFE8F3",
            "gridwidth": 2,
            "linecolor": "#EBF0F8",
            "showbackground": true,
            "ticks": "",
            "zerolinecolor": "#EBF0F8"
           },
           "yaxis": {
            "backgroundcolor": "white",
            "gridcolor": "#DFE8F3",
            "gridwidth": 2,
            "linecolor": "#EBF0F8",
            "showbackground": true,
            "ticks": "",
            "zerolinecolor": "#EBF0F8"
           },
           "zaxis": {
            "backgroundcolor": "white",
            "gridcolor": "#DFE8F3",
            "gridwidth": 2,
            "linecolor": "#EBF0F8",
            "showbackground": true,
            "ticks": "",
            "zerolinecolor": "#EBF0F8"
           }
          },
          "shapedefaults": {
           "line": {
            "color": "#2a3f5f"
           }
          },
          "ternary": {
           "aaxis": {
            "gridcolor": "#DFE8F3",
            "linecolor": "#A2B1C6",
            "ticks": ""
           },
           "baxis": {
            "gridcolor": "#DFE8F3",
            "linecolor": "#A2B1C6",
            "ticks": ""
           },
           "bgcolor": "white",
           "caxis": {
            "gridcolor": "#DFE8F3",
            "linecolor": "#A2B1C6",
            "ticks": ""
           }
          },
          "title": {
           "x": 0.05
          },
          "xaxis": {
           "automargin": true,
           "gridcolor": "#EBF0F8",
           "linecolor": "#EBF0F8",
           "ticks": "",
           "title": {
            "standoff": 15
           },
           "zerolinecolor": "#EBF0F8",
           "zerolinewidth": 2
          },
          "yaxis": {
           "automargin": true,
           "gridcolor": "#EBF0F8",
           "linecolor": "#EBF0F8",
           "ticks": "",
           "title": {
            "standoff": 15
           },
           "zerolinecolor": "#EBF0F8",
           "zerolinewidth": 2
          }
         }
        },
        "title": {
         "font": {
          "size": 25
         },
         "text": "Stacked Parity Loss Metrics",
         "x": 0.5,
         "y": 0.99
        },
        "xaxis": {
         "anchor": "y",
         "domain": [
          0,
          1
         ],
         "title": {
          "text": "cumulated parity loss"
         }
        },
        "yaxis": {
         "anchor": "x",
         "domain": [
          0,
          1
         ],
         "showgrid": false,
         "title": {
          "text": "label"
         },
         "zeroline": false
        }
       }
      }
     },
     "metadata": {},
     "output_type": "display_data"
    }
   ],
   "source": [
    "mf_tree.plot(objects=[mf_logreg, mf_forest], type='stacked')"
   ]
  },
  {
   "attachments": {},
   "cell_type": "markdown",
   "metadata": {},
   "source": [
    "The following plot shows how performance (i.e. accuracy) and fairness (i.e. statistical parity) are related for the three models. The plot shows that the decision tree model is the fairest, followed by the random forest model and the logistic regression model. The decision tree model has the lowest accuracy, followed by the random forest model and the logistic regression model. This suggests that there is a trade-off between fairness and performance, and that the decision tree model is the fairest, but it's not the most accurate."
   ]
  },
  {
   "cell_type": "code",
   "execution_count": 560,
   "metadata": {},
   "outputs": [
    {
     "data": {
      "application/vnd.plotly.v1+json": {
       "config": {
        "displaylogo": false,
        "modeBarButtonsToRemove": [
         "sendDataToCloud",
         "lasso2d",
         "autoScale2d",
         "select2d",
         "zoom2d",
         "pan2d",
         "zoomIn2d",
         "zoomOut2d",
         "resetScale2d",
         "toggleSpikelines",
         "hoverCompareCartesian",
         "hoverClosestCartesian"
        ],
        "plotlyServerURL": "https://plot.ly",
        "staticPlot": false,
        "toImageButtonOptions": {
         "height": null,
         "width": null
        }
       },
       "data": [
        {
         "customdata": [
          [
           "Random Forest"
          ]
         ],
         "hovertemplate": "<b>%{customdata[0]}</b><br><br>STP parity loss: %{y:.3f}<br>accuracy score: %{x:.3f}<br><extra></extra>",
         "legendgroup": "Random Forest",
         "marker": {
          "color": "#8bdcbe",
          "size": [
           15,
           15,
           15
          ],
          "symbol": "circle"
         },
         "mode": "markers",
         "name": "Random Forest",
         "orientation": "v",
         "showlegend": true,
         "type": "scatter",
         "x": [
          0.7973856209150327
         ],
         "xaxis": "x",
         "y": [
          0.4688700564812365
         ],
         "yaxis": "y"
        },
        {
         "customdata": [
          [
           "Logistic Regression"
          ]
         ],
         "hovertemplate": "<b>%{customdata[0]}</b><br><br>STP parity loss: %{y:.3f}<br>accuracy score: %{x:.3f}<br><extra></extra>",
         "legendgroup": "Logistic Regression",
         "marker": {
          "color": "#f05a71",
          "size": [
           15,
           15,
           15
          ],
          "symbol": "circle"
         },
         "mode": "markers",
         "name": "Logistic Regression",
         "orientation": "v",
         "showlegend": true,
         "type": "scatter",
         "x": [
          0.7450980392156863
         ],
         "xaxis": "x",
         "y": [
          0.8128640787412795
         ],
         "yaxis": "y"
        },
        {
         "customdata": [
          [
           "Decision Tree"
          ]
         ],
         "hovertemplate": "<b>%{customdata[0]}</b><br><br>STP parity loss: %{y:.3f}<br>accuracy score: %{x:.3f}<br><extra></extra>",
         "legendgroup": "Decision Tree",
         "marker": {
          "color": "#4378bf",
          "size": [
           15,
           15,
           15
          ],
          "symbol": "circle"
         },
         "mode": "markers",
         "name": "Decision Tree",
         "orientation": "v",
         "showlegend": true,
         "type": "scatter",
         "x": [
          0.7581699346405228
         ],
         "xaxis": "x",
         "y": [
          0.43130633929205164
         ],
         "yaxis": "y"
        }
       ],
       "layout": {
        "font": {
         "color": "#371ea3"
        },
        "legend": {
         "title": {
          "text": "label"
         },
         "tracegroupgap": 0
        },
        "margin": {
         "b": 71,
         "r": 30,
         "t": 78
        },
        "template": {
         "data": {
          "bar": [
           {
            "error_x": {
             "color": "#2a3f5f"
            },
            "error_y": {
             "color": "#2a3f5f"
            },
            "marker": {
             "line": {
              "color": "white",
              "width": 0.5
             },
             "pattern": {
              "fillmode": "overlay",
              "size": 10,
              "solidity": 0.2
             }
            },
            "type": "bar"
           }
          ],
          "barpolar": [
           {
            "marker": {
             "line": {
              "color": "white",
              "width": 0.5
             },
             "pattern": {
              "fillmode": "overlay",
              "size": 10,
              "solidity": 0.2
             }
            },
            "type": "barpolar"
           }
          ],
          "carpet": [
           {
            "aaxis": {
             "endlinecolor": "#2a3f5f",
             "gridcolor": "#C8D4E3",
             "linecolor": "#C8D4E3",
             "minorgridcolor": "#C8D4E3",
             "startlinecolor": "#2a3f5f"
            },
            "baxis": {
             "endlinecolor": "#2a3f5f",
             "gridcolor": "#C8D4E3",
             "linecolor": "#C8D4E3",
             "minorgridcolor": "#C8D4E3",
             "startlinecolor": "#2a3f5f"
            },
            "type": "carpet"
           }
          ],
          "choropleth": [
           {
            "colorbar": {
             "outlinewidth": 0,
             "ticks": ""
            },
            "type": "choropleth"
           }
          ],
          "contour": [
           {
            "colorbar": {
             "outlinewidth": 0,
             "ticks": ""
            },
            "colorscale": [
             [
              0,
              "#0d0887"
             ],
             [
              0.1111111111111111,
              "#46039f"
             ],
             [
              0.2222222222222222,
              "#7201a8"
             ],
             [
              0.3333333333333333,
              "#9c179e"
             ],
             [
              0.4444444444444444,
              "#bd3786"
             ],
             [
              0.5555555555555556,
              "#d8576b"
             ],
             [
              0.6666666666666666,
              "#ed7953"
             ],
             [
              0.7777777777777778,
              "#fb9f3a"
             ],
             [
              0.8888888888888888,
              "#fdca26"
             ],
             [
              1,
              "#f0f921"
             ]
            ],
            "type": "contour"
           }
          ],
          "contourcarpet": [
           {
            "colorbar": {
             "outlinewidth": 0,
             "ticks": ""
            },
            "type": "contourcarpet"
           }
          ],
          "heatmap": [
           {
            "colorbar": {
             "outlinewidth": 0,
             "ticks": ""
            },
            "colorscale": [
             [
              0,
              "#0d0887"
             ],
             [
              0.1111111111111111,
              "#46039f"
             ],
             [
              0.2222222222222222,
              "#7201a8"
             ],
             [
              0.3333333333333333,
              "#9c179e"
             ],
             [
              0.4444444444444444,
              "#bd3786"
             ],
             [
              0.5555555555555556,
              "#d8576b"
             ],
             [
              0.6666666666666666,
              "#ed7953"
             ],
             [
              0.7777777777777778,
              "#fb9f3a"
             ],
             [
              0.8888888888888888,
              "#fdca26"
             ],
             [
              1,
              "#f0f921"
             ]
            ],
            "type": "heatmap"
           }
          ],
          "heatmapgl": [
           {
            "colorbar": {
             "outlinewidth": 0,
             "ticks": ""
            },
            "colorscale": [
             [
              0,
              "#0d0887"
             ],
             [
              0.1111111111111111,
              "#46039f"
             ],
             [
              0.2222222222222222,
              "#7201a8"
             ],
             [
              0.3333333333333333,
              "#9c179e"
             ],
             [
              0.4444444444444444,
              "#bd3786"
             ],
             [
              0.5555555555555556,
              "#d8576b"
             ],
             [
              0.6666666666666666,
              "#ed7953"
             ],
             [
              0.7777777777777778,
              "#fb9f3a"
             ],
             [
              0.8888888888888888,
              "#fdca26"
             ],
             [
              1,
              "#f0f921"
             ]
            ],
            "type": "heatmapgl"
           }
          ],
          "histogram": [
           {
            "marker": {
             "pattern": {
              "fillmode": "overlay",
              "size": 10,
              "solidity": 0.2
             }
            },
            "type": "histogram"
           }
          ],
          "histogram2d": [
           {
            "colorbar": {
             "outlinewidth": 0,
             "ticks": ""
            },
            "colorscale": [
             [
              0,
              "#0d0887"
             ],
             [
              0.1111111111111111,
              "#46039f"
             ],
             [
              0.2222222222222222,
              "#7201a8"
             ],
             [
              0.3333333333333333,
              "#9c179e"
             ],
             [
              0.4444444444444444,
              "#bd3786"
             ],
             [
              0.5555555555555556,
              "#d8576b"
             ],
             [
              0.6666666666666666,
              "#ed7953"
             ],
             [
              0.7777777777777778,
              "#fb9f3a"
             ],
             [
              0.8888888888888888,
              "#fdca26"
             ],
             [
              1,
              "#f0f921"
             ]
            ],
            "type": "histogram2d"
           }
          ],
          "histogram2dcontour": [
           {
            "colorbar": {
             "outlinewidth": 0,
             "ticks": ""
            },
            "colorscale": [
             [
              0,
              "#0d0887"
             ],
             [
              0.1111111111111111,
              "#46039f"
             ],
             [
              0.2222222222222222,
              "#7201a8"
             ],
             [
              0.3333333333333333,
              "#9c179e"
             ],
             [
              0.4444444444444444,
              "#bd3786"
             ],
             [
              0.5555555555555556,
              "#d8576b"
             ],
             [
              0.6666666666666666,
              "#ed7953"
             ],
             [
              0.7777777777777778,
              "#fb9f3a"
             ],
             [
              0.8888888888888888,
              "#fdca26"
             ],
             [
              1,
              "#f0f921"
             ]
            ],
            "type": "histogram2dcontour"
           }
          ],
          "mesh3d": [
           {
            "colorbar": {
             "outlinewidth": 0,
             "ticks": ""
            },
            "type": "mesh3d"
           }
          ],
          "parcoords": [
           {
            "line": {
             "colorbar": {
              "outlinewidth": 0,
              "ticks": ""
             }
            },
            "type": "parcoords"
           }
          ],
          "pie": [
           {
            "automargin": true,
            "type": "pie"
           }
          ],
          "scatter": [
           {
            "fillpattern": {
             "fillmode": "overlay",
             "size": 10,
             "solidity": 0.2
            },
            "type": "scatter"
           }
          ],
          "scatter3d": [
           {
            "line": {
             "colorbar": {
              "outlinewidth": 0,
              "ticks": ""
             }
            },
            "marker": {
             "colorbar": {
              "outlinewidth": 0,
              "ticks": ""
             }
            },
            "type": "scatter3d"
           }
          ],
          "scattercarpet": [
           {
            "marker": {
             "colorbar": {
              "outlinewidth": 0,
              "ticks": ""
             }
            },
            "type": "scattercarpet"
           }
          ],
          "scattergeo": [
           {
            "marker": {
             "colorbar": {
              "outlinewidth": 0,
              "ticks": ""
             }
            },
            "type": "scattergeo"
           }
          ],
          "scattergl": [
           {
            "marker": {
             "colorbar": {
              "outlinewidth": 0,
              "ticks": ""
             }
            },
            "type": "scattergl"
           }
          ],
          "scattermapbox": [
           {
            "marker": {
             "colorbar": {
              "outlinewidth": 0,
              "ticks": ""
             }
            },
            "type": "scattermapbox"
           }
          ],
          "scatterpolar": [
           {
            "marker": {
             "colorbar": {
              "outlinewidth": 0,
              "ticks": ""
             }
            },
            "type": "scatterpolar"
           }
          ],
          "scatterpolargl": [
           {
            "marker": {
             "colorbar": {
              "outlinewidth": 0,
              "ticks": ""
             }
            },
            "type": "scatterpolargl"
           }
          ],
          "scatterternary": [
           {
            "marker": {
             "colorbar": {
              "outlinewidth": 0,
              "ticks": ""
             }
            },
            "type": "scatterternary"
           }
          ],
          "surface": [
           {
            "colorbar": {
             "outlinewidth": 0,
             "ticks": ""
            },
            "colorscale": [
             [
              0,
              "#0d0887"
             ],
             [
              0.1111111111111111,
              "#46039f"
             ],
             [
              0.2222222222222222,
              "#7201a8"
             ],
             [
              0.3333333333333333,
              "#9c179e"
             ],
             [
              0.4444444444444444,
              "#bd3786"
             ],
             [
              0.5555555555555556,
              "#d8576b"
             ],
             [
              0.6666666666666666,
              "#ed7953"
             ],
             [
              0.7777777777777778,
              "#fb9f3a"
             ],
             [
              0.8888888888888888,
              "#fdca26"
             ],
             [
              1,
              "#f0f921"
             ]
            ],
            "type": "surface"
           }
          ],
          "table": [
           {
            "cells": {
             "fill": {
              "color": "#EBF0F8"
             },
             "line": {
              "color": "white"
             }
            },
            "header": {
             "fill": {
              "color": "#C8D4E3"
             },
             "line": {
              "color": "white"
             }
            },
            "type": "table"
           }
          ]
         },
         "layout": {
          "annotationdefaults": {
           "arrowcolor": "#2a3f5f",
           "arrowhead": 0,
           "arrowwidth": 1
          },
          "autotypenumbers": "strict",
          "coloraxis": {
           "colorbar": {
            "outlinewidth": 0,
            "ticks": ""
           }
          },
          "colorscale": {
           "diverging": [
            [
             0,
             "#8e0152"
            ],
            [
             0.1,
             "#c51b7d"
            ],
            [
             0.2,
             "#de77ae"
            ],
            [
             0.3,
             "#f1b6da"
            ],
            [
             0.4,
             "#fde0ef"
            ],
            [
             0.5,
             "#f7f7f7"
            ],
            [
             0.6,
             "#e6f5d0"
            ],
            [
             0.7,
             "#b8e186"
            ],
            [
             0.8,
             "#7fbc41"
            ],
            [
             0.9,
             "#4d9221"
            ],
            [
             1,
             "#276419"
            ]
           ],
           "sequential": [
            [
             0,
             "#0d0887"
            ],
            [
             0.1111111111111111,
             "#46039f"
            ],
            [
             0.2222222222222222,
             "#7201a8"
            ],
            [
             0.3333333333333333,
             "#9c179e"
            ],
            [
             0.4444444444444444,
             "#bd3786"
            ],
            [
             0.5555555555555556,
             "#d8576b"
            ],
            [
             0.6666666666666666,
             "#ed7953"
            ],
            [
             0.7777777777777778,
             "#fb9f3a"
            ],
            [
             0.8888888888888888,
             "#fdca26"
            ],
            [
             1,
             "#f0f921"
            ]
           ],
           "sequentialminus": [
            [
             0,
             "#0d0887"
            ],
            [
             0.1111111111111111,
             "#46039f"
            ],
            [
             0.2222222222222222,
             "#7201a8"
            ],
            [
             0.3333333333333333,
             "#9c179e"
            ],
            [
             0.4444444444444444,
             "#bd3786"
            ],
            [
             0.5555555555555556,
             "#d8576b"
            ],
            [
             0.6666666666666666,
             "#ed7953"
            ],
            [
             0.7777777777777778,
             "#fb9f3a"
            ],
            [
             0.8888888888888888,
             "#fdca26"
            ],
            [
             1,
             "#f0f921"
            ]
           ]
          },
          "colorway": [
           "#636efa",
           "#EF553B",
           "#00cc96",
           "#ab63fa",
           "#FFA15A",
           "#19d3f3",
           "#FF6692",
           "#B6E880",
           "#FF97FF",
           "#FECB52"
          ],
          "font": {
           "color": "#2a3f5f"
          },
          "geo": {
           "bgcolor": "white",
           "lakecolor": "white",
           "landcolor": "white",
           "showlakes": true,
           "showland": true,
           "subunitcolor": "#C8D4E3"
          },
          "hoverlabel": {
           "align": "left"
          },
          "hovermode": "closest",
          "mapbox": {
           "style": "light"
          },
          "paper_bgcolor": "white",
          "plot_bgcolor": "white",
          "polar": {
           "angularaxis": {
            "gridcolor": "#EBF0F8",
            "linecolor": "#EBF0F8",
            "ticks": ""
           },
           "bgcolor": "white",
           "radialaxis": {
            "gridcolor": "#EBF0F8",
            "linecolor": "#EBF0F8",
            "ticks": ""
           }
          },
          "scene": {
           "xaxis": {
            "backgroundcolor": "white",
            "gridcolor": "#DFE8F3",
            "gridwidth": 2,
            "linecolor": "#EBF0F8",
            "showbackground": true,
            "ticks": "",
            "zerolinecolor": "#EBF0F8"
           },
           "yaxis": {
            "backgroundcolor": "white",
            "gridcolor": "#DFE8F3",
            "gridwidth": 2,
            "linecolor": "#EBF0F8",
            "showbackground": true,
            "ticks": "",
            "zerolinecolor": "#EBF0F8"
           },
           "zaxis": {
            "backgroundcolor": "white",
            "gridcolor": "#DFE8F3",
            "gridwidth": 2,
            "linecolor": "#EBF0F8",
            "showbackground": true,
            "ticks": "",
            "zerolinecolor": "#EBF0F8"
           }
          },
          "shapedefaults": {
           "line": {
            "color": "#2a3f5f"
           }
          },
          "ternary": {
           "aaxis": {
            "gridcolor": "#DFE8F3",
            "linecolor": "#A2B1C6",
            "ticks": ""
           },
           "baxis": {
            "gridcolor": "#DFE8F3",
            "linecolor": "#A2B1C6",
            "ticks": ""
           },
           "bgcolor": "white",
           "caxis": {
            "gridcolor": "#DFE8F3",
            "linecolor": "#A2B1C6",
            "ticks": ""
           }
          },
          "title": {
           "x": 0.05
          },
          "xaxis": {
           "automargin": true,
           "gridcolor": "#EBF0F8",
           "linecolor": "#EBF0F8",
           "ticks": "",
           "title": {
            "standoff": 15
           },
           "zerolinecolor": "#EBF0F8",
           "zerolinewidth": 2
          },
          "yaxis": {
           "automargin": true,
           "gridcolor": "#EBF0F8",
           "linecolor": "#EBF0F8",
           "ticks": "",
           "title": {
            "standoff": 15
           },
           "zerolinecolor": "#EBF0F8",
           "zerolinewidth": 2
          }
         }
        },
        "title": {
         "font": {
          "size": 25
         },
         "text": "Performance and Fairness",
         "x": 0.5,
         "y": 0.99
        },
        "xaxis": {
         "anchor": "y",
         "domain": [
          0,
          1
         ],
         "title": {
          "text": "accuracy"
         }
        },
        "yaxis": {
         "anchor": "x",
         "autorange": "reversed",
         "domain": [
          0,
          1
         ],
         "title": {
          "text": "reversed STP parity loss"
         }
        }
       }
      }
     },
     "metadata": {},
     "output_type": "display_data"
    }
   ],
   "source": [
    "mf_forest.plot(objects=[mf_logreg, mf_tree],\n",
    "             type=\"performance_and_fairness\",\n",
    "             fairness_metric=\"STP\",\n",
    "             performance_metric=\"accuracy\")"
   ]
  },
  {
   "attachments": {},
   "cell_type": "markdown",
   "metadata": {},
   "source": [
    "# Mitigation\n",
    "\n",
    "In the previous section, we identified that the Decision Tree model had the least parity loss in terms of fairness. However, we still need to address the fairness issues we found. In this section, we will use the Resampling technique provided by the dalex.fairness package to mitigate fairness issues. This technique implements the resampling technique for mitigation as presented in this paper: https://link.springer.com/content/pdf/10.1007/s10115-011-0463-8.pdf."
   ]
  },
  {
   "attachments": {},
   "cell_type": "markdown",
   "metadata": {},
   "source": [
    "## Resampling\n",
    "\n",
    "We will apply the resampling technique in two ways: uniform and preferential.\n",
    "\n",
    "In uniform resampling, DALEX will randomly select a subset of the majority group to balance the class distribution.\n",
    "\n",
    "In preferential resampling, DALEX will randomly select a subset of the minority group and oversample it to balance the class distribution."
   ]
  },
  {
   "cell_type": "code",
   "execution_count": 561,
   "metadata": {},
   "outputs": [],
   "source": [
    "from dalex.fairness import resample\n",
    "from copy import copy\n",
    "\n",
    "# copying: we consider only the decision tree classifier\n",
    "clf_u = copy(dt)\n",
    "clf_p = copy(dt)"
   ]
  },
  {
   "cell_type": "code",
   "execution_count": 562,
   "metadata": {},
   "outputs": [
    {
     "data": {
      "text/html": [
       "<style>#sk-container-id-62 {color: black;background-color: white;}#sk-container-id-62 pre{padding: 0;}#sk-container-id-62 div.sk-toggleable {background-color: white;}#sk-container-id-62 label.sk-toggleable__label {cursor: pointer;display: block;width: 100%;margin-bottom: 0;padding: 0.3em;box-sizing: border-box;text-align: center;}#sk-container-id-62 label.sk-toggleable__label-arrow:before {content: \"▸\";float: left;margin-right: 0.25em;color: #696969;}#sk-container-id-62 label.sk-toggleable__label-arrow:hover:before {color: black;}#sk-container-id-62 div.sk-estimator:hover label.sk-toggleable__label-arrow:before {color: black;}#sk-container-id-62 div.sk-toggleable__content {max-height: 0;max-width: 0;overflow: hidden;text-align: left;background-color: #f0f8ff;}#sk-container-id-62 div.sk-toggleable__content pre {margin: 0.2em;color: black;border-radius: 0.25em;background-color: #f0f8ff;}#sk-container-id-62 input.sk-toggleable__control:checked~div.sk-toggleable__content {max-height: 200px;max-width: 100%;overflow: auto;}#sk-container-id-62 input.sk-toggleable__control:checked~label.sk-toggleable__label-arrow:before {content: \"▾\";}#sk-container-id-62 div.sk-estimator input.sk-toggleable__control:checked~label.sk-toggleable__label {background-color: #d4ebff;}#sk-container-id-62 div.sk-label input.sk-toggleable__control:checked~label.sk-toggleable__label {background-color: #d4ebff;}#sk-container-id-62 input.sk-hidden--visually {border: 0;clip: rect(1px 1px 1px 1px);clip: rect(1px, 1px, 1px, 1px);height: 1px;margin: -1px;overflow: hidden;padding: 0;position: absolute;width: 1px;}#sk-container-id-62 div.sk-estimator {font-family: monospace;background-color: #f0f8ff;border: 1px dotted black;border-radius: 0.25em;box-sizing: border-box;margin-bottom: 0.5em;}#sk-container-id-62 div.sk-estimator:hover {background-color: #d4ebff;}#sk-container-id-62 div.sk-parallel-item::after {content: \"\";width: 100%;border-bottom: 1px solid gray;flex-grow: 1;}#sk-container-id-62 div.sk-label:hover label.sk-toggleable__label {background-color: #d4ebff;}#sk-container-id-62 div.sk-serial::before {content: \"\";position: absolute;border-left: 1px solid gray;box-sizing: border-box;top: 0;bottom: 0;left: 50%;z-index: 0;}#sk-container-id-62 div.sk-serial {display: flex;flex-direction: column;align-items: center;background-color: white;padding-right: 0.2em;padding-left: 0.2em;position: relative;}#sk-container-id-62 div.sk-item {position: relative;z-index: 1;}#sk-container-id-62 div.sk-parallel {display: flex;align-items: stretch;justify-content: center;background-color: white;position: relative;}#sk-container-id-62 div.sk-item::before, #sk-container-id-62 div.sk-parallel-item::before {content: \"\";position: absolute;border-left: 1px solid gray;box-sizing: border-box;top: 0;bottom: 0;left: 50%;z-index: -1;}#sk-container-id-62 div.sk-parallel-item {display: flex;flex-direction: column;z-index: 1;position: relative;background-color: white;}#sk-container-id-62 div.sk-parallel-item:first-child::after {align-self: flex-end;width: 50%;}#sk-container-id-62 div.sk-parallel-item:last-child::after {align-self: flex-start;width: 50%;}#sk-container-id-62 div.sk-parallel-item:only-child::after {width: 0;}#sk-container-id-62 div.sk-dashed-wrapped {border: 1px dashed gray;margin: 0 0.4em 0.5em 0.4em;box-sizing: border-box;padding-bottom: 0.4em;background-color: white;}#sk-container-id-62 div.sk-label label {font-family: monospace;font-weight: bold;display: inline-block;line-height: 1.2em;}#sk-container-id-62 div.sk-label-container {text-align: center;}#sk-container-id-62 div.sk-container {/* jupyter's `normalize.less` sets `[hidden] { display: none; }` but bootstrap.min.css set `[hidden] { display: none !important; }` so we also need the `!important` here to be able to override the default hidden behavior on the sphinx rendered scikit-learn.org. See: https://github.com/scikit-learn/scikit-learn/issues/21755 */display: inline-block !important;position: relative;}#sk-container-id-62 div.sk-text-repr-fallback {display: none;}</style><div id=\"sk-container-id-62\" class=\"sk-top-container\"><div class=\"sk-text-repr-fallback\"><pre>Pipeline(steps=[(&#x27;preprocessor&#x27;,\n",
       "                 ColumnTransformer(transformers=[(&#x27;num&#x27;,\n",
       "                                                  Pipeline(steps=[(&#x27;scaler&#x27;,\n",
       "                                                                   StandardScaler())]),\n",
       "                                                  [&#x27;Pregnancies&#x27;, &#x27;Glucose&#x27;,\n",
       "                                                   &#x27;BloodPressure&#x27;,\n",
       "                                                   &#x27;SkinThickness&#x27;, &#x27;Insulin&#x27;,\n",
       "                                                   &#x27;BMI&#x27;,\n",
       "                                                   &#x27;DiabetesPedigreeFunction&#x27;,\n",
       "                                                   &#x27;Age&#x27;]),\n",
       "                                                 (&#x27;cat&#x27;,\n",
       "                                                  Pipeline(steps=[(&#x27;onehot&#x27;,\n",
       "                                                                   OneHotEncoder(handle_unknown=&#x27;ignore&#x27;))]),\n",
       "                                                  [&#x27;AgeCategory&#x27;])])),\n",
       "                (&#x27;classifier&#x27;,\n",
       "                 DecisionTreeClassifier(max_depth=7, random_state=100))])</pre><b>In a Jupyter environment, please rerun this cell to show the HTML representation or trust the notebook. <br />On GitHub, the HTML representation is unable to render, please try loading this page with nbviewer.org.</b></div><div class=\"sk-container\" hidden><div class=\"sk-item sk-dashed-wrapped\"><div class=\"sk-label-container\"><div class=\"sk-label sk-toggleable\"><input class=\"sk-toggleable__control sk-hidden--visually\" id=\"sk-estimator-id-428\" type=\"checkbox\" ><label for=\"sk-estimator-id-428\" class=\"sk-toggleable__label sk-toggleable__label-arrow\">Pipeline</label><div class=\"sk-toggleable__content\"><pre>Pipeline(steps=[(&#x27;preprocessor&#x27;,\n",
       "                 ColumnTransformer(transformers=[(&#x27;num&#x27;,\n",
       "                                                  Pipeline(steps=[(&#x27;scaler&#x27;,\n",
       "                                                                   StandardScaler())]),\n",
       "                                                  [&#x27;Pregnancies&#x27;, &#x27;Glucose&#x27;,\n",
       "                                                   &#x27;BloodPressure&#x27;,\n",
       "                                                   &#x27;SkinThickness&#x27;, &#x27;Insulin&#x27;,\n",
       "                                                   &#x27;BMI&#x27;,\n",
       "                                                   &#x27;DiabetesPedigreeFunction&#x27;,\n",
       "                                                   &#x27;Age&#x27;]),\n",
       "                                                 (&#x27;cat&#x27;,\n",
       "                                                  Pipeline(steps=[(&#x27;onehot&#x27;,\n",
       "                                                                   OneHotEncoder(handle_unknown=&#x27;ignore&#x27;))]),\n",
       "                                                  [&#x27;AgeCategory&#x27;])])),\n",
       "                (&#x27;classifier&#x27;,\n",
       "                 DecisionTreeClassifier(max_depth=7, random_state=100))])</pre></div></div></div><div class=\"sk-serial\"><div class=\"sk-item sk-dashed-wrapped\"><div class=\"sk-label-container\"><div class=\"sk-label sk-toggleable\"><input class=\"sk-toggleable__control sk-hidden--visually\" id=\"sk-estimator-id-429\" type=\"checkbox\" ><label for=\"sk-estimator-id-429\" class=\"sk-toggleable__label sk-toggleable__label-arrow\">preprocessor: ColumnTransformer</label><div class=\"sk-toggleable__content\"><pre>ColumnTransformer(transformers=[(&#x27;num&#x27;,\n",
       "                                 Pipeline(steps=[(&#x27;scaler&#x27;, StandardScaler())]),\n",
       "                                 [&#x27;Pregnancies&#x27;, &#x27;Glucose&#x27;, &#x27;BloodPressure&#x27;,\n",
       "                                  &#x27;SkinThickness&#x27;, &#x27;Insulin&#x27;, &#x27;BMI&#x27;,\n",
       "                                  &#x27;DiabetesPedigreeFunction&#x27;, &#x27;Age&#x27;]),\n",
       "                                (&#x27;cat&#x27;,\n",
       "                                 Pipeline(steps=[(&#x27;onehot&#x27;,\n",
       "                                                  OneHotEncoder(handle_unknown=&#x27;ignore&#x27;))]),\n",
       "                                 [&#x27;AgeCategory&#x27;])])</pre></div></div></div><div class=\"sk-parallel\"><div class=\"sk-parallel-item\"><div class=\"sk-item\"><div class=\"sk-label-container\"><div class=\"sk-label sk-toggleable\"><input class=\"sk-toggleable__control sk-hidden--visually\" id=\"sk-estimator-id-430\" type=\"checkbox\" ><label for=\"sk-estimator-id-430\" class=\"sk-toggleable__label sk-toggleable__label-arrow\">num</label><div class=\"sk-toggleable__content\"><pre>[&#x27;Pregnancies&#x27;, &#x27;Glucose&#x27;, &#x27;BloodPressure&#x27;, &#x27;SkinThickness&#x27;, &#x27;Insulin&#x27;, &#x27;BMI&#x27;, &#x27;DiabetesPedigreeFunction&#x27;, &#x27;Age&#x27;]</pre></div></div></div><div class=\"sk-serial\"><div class=\"sk-item\"><div class=\"sk-serial\"><div class=\"sk-item\"><div class=\"sk-estimator sk-toggleable\"><input class=\"sk-toggleable__control sk-hidden--visually\" id=\"sk-estimator-id-431\" type=\"checkbox\" ><label for=\"sk-estimator-id-431\" class=\"sk-toggleable__label sk-toggleable__label-arrow\">StandardScaler</label><div class=\"sk-toggleable__content\"><pre>StandardScaler()</pre></div></div></div></div></div></div></div></div><div class=\"sk-parallel-item\"><div class=\"sk-item\"><div class=\"sk-label-container\"><div class=\"sk-label sk-toggleable\"><input class=\"sk-toggleable__control sk-hidden--visually\" id=\"sk-estimator-id-432\" type=\"checkbox\" ><label for=\"sk-estimator-id-432\" class=\"sk-toggleable__label sk-toggleable__label-arrow\">cat</label><div class=\"sk-toggleable__content\"><pre>[&#x27;AgeCategory&#x27;]</pre></div></div></div><div class=\"sk-serial\"><div class=\"sk-item\"><div class=\"sk-serial\"><div class=\"sk-item\"><div class=\"sk-estimator sk-toggleable\"><input class=\"sk-toggleable__control sk-hidden--visually\" id=\"sk-estimator-id-433\" type=\"checkbox\" ><label for=\"sk-estimator-id-433\" class=\"sk-toggleable__label sk-toggleable__label-arrow\">OneHotEncoder</label><div class=\"sk-toggleable__content\"><pre>OneHotEncoder(handle_unknown=&#x27;ignore&#x27;)</pre></div></div></div></div></div></div></div></div></div></div><div class=\"sk-item\"><div class=\"sk-estimator sk-toggleable\"><input class=\"sk-toggleable__control sk-hidden--visually\" id=\"sk-estimator-id-434\" type=\"checkbox\" ><label for=\"sk-estimator-id-434\" class=\"sk-toggleable__label sk-toggleable__label-arrow\">DecisionTreeClassifier</label><div class=\"sk-toggleable__content\"><pre>DecisionTreeClassifier(max_depth=7, random_state=100)</pre></div></div></div></div></div></div></div>"
      ],
      "text/plain": [
       "Pipeline(steps=[('preprocessor',\n",
       "                 ColumnTransformer(transformers=[('num',\n",
       "                                                  Pipeline(steps=[('scaler',\n",
       "                                                                   StandardScaler())]),\n",
       "                                                  ['Pregnancies', 'Glucose',\n",
       "                                                   'BloodPressure',\n",
       "                                                   'SkinThickness', 'Insulin',\n",
       "                                                   'BMI',\n",
       "                                                   'DiabetesPedigreeFunction',\n",
       "                                                   'Age']),\n",
       "                                                 ('cat',\n",
       "                                                  Pipeline(steps=[('onehot',\n",
       "                                                                   OneHotEncoder(handle_unknown='ignore'))]),\n",
       "                                                  ['AgeCategory'])])),\n",
       "                ('classifier',\n",
       "                 DecisionTreeClassifier(max_depth=7, random_state=100))])"
      ]
     },
     "execution_count": 562,
     "metadata": {},
     "output_type": "execute_result"
    }
   ],
   "source": [
    "# resample\n",
    "indices_uniform = resample(protected, y_test, verbose=False)\n",
    "indices_preferential = resample(protected,\n",
    "                                y_test,\n",
    "                                type='preferential',  # different type\n",
    "                                probs=exp_tree.y_hat,  # requires probabilities\n",
    "                                verbose=False)\n",
    "\n",
    "clf_u.fit(X_train.iloc[indices_uniform, :], y_train.iloc[indices_uniform])\n",
    "clf_p.fit(X_train.iloc[indices_preferential, :], y_train.iloc[indices_preferential])\n"
   ]
  },
  {
   "attachments": {},
   "cell_type": "markdown",
   "metadata": {},
   "source": [
    "Now we can create the Explainers for the two models using the resampled data. And as we did before, we can compute the fairness metrics for the two models using the `model_fairness` function of `dalex.Explainer`.\n",
    "\n",
    "The protected and privileged variables are set to the same values as before."
   ]
  },
  {
   "cell_type": "code",
   "execution_count": 563,
   "metadata": {},
   "outputs": [
    {
     "data": {
      "application/vnd.plotly.v1+json": {
       "config": {
        "displaylogo": false,
        "modeBarButtonsToRemove": [
         "sendDataToCloud",
         "lasso2d",
         "autoScale2d",
         "select2d",
         "zoom2d",
         "pan2d",
         "zoomIn2d",
         "zoomOut2d",
         "resetScale2d",
         "toggleSpikelines",
         "hoverCompareCartesian",
         "hoverClosestCartesian"
        ],
        "plotlyServerURL": "https://plot.ly",
        "staticPlot": false,
        "toImageButtonOptions": {
         "height": null,
         "width": null
        }
       },
       "data": [
        {
         "alignmentgroup": "True",
         "customdata": [
          [
           "young",
           1.829,
           "uniform"
          ]
         ],
         "hovertemplate": "<b>%{customdata[2]}</b><br>Subgroup: %{customdata[0]}<br>Score: %{customdata[1]}<br><extra></extra>",
         "legendgroup": "uniform",
         "marker": {
          "color": "#8bdcbe",
          "pattern": {
           "shape": ""
          }
         },
         "name": "uniform",
         "offsetgroup": "uniform",
         "orientation": "h",
         "showlegend": true,
         "textposition": "auto",
         "type": "bar",
         "x": [
          0.8293333333333335
         ],
         "xaxis": "x5",
         "y": [
          0.5
         ],
         "yaxis": "y5"
        },
        {
         "alignmentgroup": "True",
         "customdata": [
          [
           "young",
           1.272,
           "uniform"
          ]
         ],
         "hovertemplate": "<b>%{customdata[2]}</b><br>Subgroup: %{customdata[0]}<br>Score: %{customdata[1]}<br><extra></extra>",
         "legendgroup": "uniform",
         "marker": {
          "color": "#8bdcbe",
          "pattern": {
           "shape": ""
          }
         },
         "name": "uniform",
         "offsetgroup": "uniform",
         "orientation": "h",
         "showlegend": false,
         "textposition": "auto",
         "type": "bar",
         "x": [
          0.272
         ],
         "xaxis": "x4",
         "y": [
          0.5
         ],
         "yaxis": "y4"
        },
        {
         "alignmentgroup": "True",
         "customdata": [
          [
           "young",
           0.706,
           "uniform"
          ]
         ],
         "hovertemplate": "<b>%{customdata[2]}</b><br>Subgroup: %{customdata[0]}<br>Score: %{customdata[1]}<br><extra></extra>",
         "legendgroup": "uniform",
         "marker": {
          "color": "#8bdcbe",
          "pattern": {
           "shape": ""
          }
         },
         "name": "uniform",
         "offsetgroup": "uniform",
         "orientation": "h",
         "showlegend": false,
         "textposition": "auto",
         "type": "bar",
         "x": [
          -0.2942942942942943
         ],
         "xaxis": "x3",
         "y": [
          0.5
         ],
         "yaxis": "y3"
        },
        {
         "alignmentgroup": "True",
         "customdata": [
          [
           "young",
           1.389,
           "uniform"
          ]
         ],
         "hovertemplate": "<b>%{customdata[2]}</b><br>Subgroup: %{customdata[0]}<br>Score: %{customdata[1]}<br><extra></extra>",
         "legendgroup": "uniform",
         "marker": {
          "color": "#8bdcbe",
          "pattern": {
           "shape": ""
          }
         },
         "name": "uniform",
         "offsetgroup": "uniform",
         "orientation": "h",
         "showlegend": false,
         "textposition": "auto",
         "type": "bar",
         "x": [
          0.38941398865784493
         ],
         "xaxis": "x2",
         "y": [
          0.5
         ],
         "yaxis": "y2"
        },
        {
         "alignmentgroup": "True",
         "customdata": [
          [
           "young",
           1.144,
           "uniform"
          ]
         ],
         "hovertemplate": "<b>%{customdata[2]}</b><br>Subgroup: %{customdata[0]}<br>Score: %{customdata[1]}<br><extra></extra>",
         "legendgroup": "uniform",
         "marker": {
          "color": "#8bdcbe",
          "pattern": {
           "shape": ""
          }
         },
         "name": "uniform",
         "offsetgroup": "uniform",
         "orientation": "h",
         "showlegend": false,
         "textposition": "auto",
         "type": "bar",
         "x": [
          0.1444759206798869
         ],
         "xaxis": "x",
         "y": [
          0.5
         ],
         "yaxis": "y"
        },
        {
         "alignmentgroup": "True",
         "customdata": [
          [
           "young",
           1.829,
           "preferential"
          ]
         ],
         "hovertemplate": "<b>%{customdata[2]}</b><br>Subgroup: %{customdata[0]}<br>Score: %{customdata[1]}<br><extra></extra>",
         "legendgroup": "preferential",
         "marker": {
          "color": "#4378bf",
          "pattern": {
           "shape": ""
          }
         },
         "name": "preferential",
         "offsetgroup": "preferential",
         "orientation": "h",
         "showlegend": true,
         "textposition": "auto",
         "type": "bar",
         "x": [
          0.8293333333333335
         ],
         "xaxis": "x5",
         "y": [
          0.5
         ],
         "yaxis": "y5"
        },
        {
         "alignmentgroup": "True",
         "customdata": [
          [
           "young",
           1.272,
           "preferential"
          ]
         ],
         "hovertemplate": "<b>%{customdata[2]}</b><br>Subgroup: %{customdata[0]}<br>Score: %{customdata[1]}<br><extra></extra>",
         "legendgroup": "preferential",
         "marker": {
          "color": "#4378bf",
          "pattern": {
           "shape": ""
          }
         },
         "name": "preferential",
         "offsetgroup": "preferential",
         "orientation": "h",
         "showlegend": false,
         "textposition": "auto",
         "type": "bar",
         "x": [
          0.272
         ],
         "xaxis": "x4",
         "y": [
          0.5
         ],
         "yaxis": "y4"
        },
        {
         "alignmentgroup": "True",
         "customdata": [
          [
           "young",
           0.706,
           "preferential"
          ]
         ],
         "hovertemplate": "<b>%{customdata[2]}</b><br>Subgroup: %{customdata[0]}<br>Score: %{customdata[1]}<br><extra></extra>",
         "legendgroup": "preferential",
         "marker": {
          "color": "#4378bf",
          "pattern": {
           "shape": ""
          }
         },
         "name": "preferential",
         "offsetgroup": "preferential",
         "orientation": "h",
         "showlegend": false,
         "textposition": "auto",
         "type": "bar",
         "x": [
          -0.2942942942942943
         ],
         "xaxis": "x3",
         "y": [
          0.5
         ],
         "yaxis": "y3"
        },
        {
         "alignmentgroup": "True",
         "customdata": [
          [
           "young",
           1.389,
           "preferential"
          ]
         ],
         "hovertemplate": "<b>%{customdata[2]}</b><br>Subgroup: %{customdata[0]}<br>Score: %{customdata[1]}<br><extra></extra>",
         "legendgroup": "preferential",
         "marker": {
          "color": "#4378bf",
          "pattern": {
           "shape": ""
          }
         },
         "name": "preferential",
         "offsetgroup": "preferential",
         "orientation": "h",
         "showlegend": false,
         "textposition": "auto",
         "type": "bar",
         "x": [
          0.38941398865784493
         ],
         "xaxis": "x2",
         "y": [
          0.5
         ],
         "yaxis": "y2"
        },
        {
         "alignmentgroup": "True",
         "customdata": [
          [
           "young",
           1.144,
           "preferential"
          ]
         ],
         "hovertemplate": "<b>%{customdata[2]}</b><br>Subgroup: %{customdata[0]}<br>Score: %{customdata[1]}<br><extra></extra>",
         "legendgroup": "preferential",
         "marker": {
          "color": "#4378bf",
          "pattern": {
           "shape": ""
          }
         },
         "name": "preferential",
         "offsetgroup": "preferential",
         "orientation": "h",
         "showlegend": false,
         "textposition": "auto",
         "type": "bar",
         "x": [
          0.1444759206798869
         ],
         "xaxis": "x",
         "y": [
          0.5
         ],
         "yaxis": "y"
        }
       ],
       "layout": {
        "annotations": [
         {
          "font": {
           "size": 15
          },
          "showarrow": false,
          "text": "Statistical parity ratio   (TP + FP)/(TP + FP + TN + FN)",
          "x": 0.05,
          "xanchor": "left",
          "xref": "paper",
          "y": 0.144,
          "yanchor": "bottom",
          "yref": "paper"
         },
         {
          "font": {
           "size": 15
          },
          "showarrow": false,
          "text": "Accuracy equality ratio    (TP + TN)/(TP + FP + TN + FN)",
          "x": 0.05,
          "xanchor": "left",
          "xref": "paper",
          "y": 0.358,
          "yanchor": "bottom",
          "yref": "paper"
         },
         {
          "font": {
           "size": 15
          },
          "showarrow": false,
          "text": "Predictive equality ratio   FP/(FP + TN)",
          "x": 0.05,
          "xanchor": "left",
          "xref": "paper",
          "y": 0.572,
          "yanchor": "bottom",
          "yref": "paper"
         },
         {
          "font": {
           "size": 15
          },
          "showarrow": false,
          "text": "Predictive parity ratio     TP/(TP + FP)",
          "x": 0.05,
          "xanchor": "left",
          "xref": "paper",
          "y": 0.7859999999999999,
          "yanchor": "bottom",
          "yref": "paper"
         },
         {
          "font": {
           "size": 15
          },
          "showarrow": false,
          "text": "Equal opportunity ratio     TP/(TP + FN)",
          "x": 0.05,
          "xanchor": "left",
          "xref": "paper",
          "y": 1,
          "yanchor": "bottom",
          "yref": "paper"
         }
        ],
        "barmode": "group",
        "font": {
         "color": "#371ea3"
        },
        "legend": {
         "title": {
          "text": "label"
         },
         "tracegroupgap": 0
        },
        "margin": {
         "b": 71,
         "r": 30,
         "t": 78
        },
        "shapes": [
         {
          "fillcolor": "#f05a71",
          "layer": "below",
          "line": {
           "width": 0
          },
          "opacity": 0.1,
          "type": "rect",
          "x0": 0.25,
          "x1": 0.9,
          "xref": "x",
          "y0": 0,
          "y1": 1,
          "yref": "y"
         },
         {
          "fillcolor": "#f05a71",
          "layer": "below",
          "line": {
           "width": 0
          },
          "opacity": 0.1,
          "type": "rect",
          "x0": -0.32372372372372377,
          "x1": -0.19999999999999996,
          "xref": "x",
          "y0": 0,
          "y1": 1,
          "yref": "y"
         },
         {
          "fillcolor": "#c7f5bf",
          "layer": "below",
          "line": {
           "width": 0
          },
          "opacity": 0.1,
          "type": "rect",
          "x0": -0.19999999999999996,
          "x1": 0.25,
          "xref": "x",
          "y0": 0,
          "y1": 1,
          "yref": "y"
         },
         {
          "line": {
           "color": "#371ea3",
           "width": 1.5
          },
          "type": "line",
          "x0": 0,
          "x1": 0,
          "xref": "x",
          "y0": 0,
          "y1": 1,
          "yref": "y"
         },
         {
          "fillcolor": "#f05a71",
          "layer": "below",
          "line": {
           "width": 0
          },
          "opacity": 0.1,
          "type": "rect",
          "x0": 0.25,
          "x1": 0.9,
          "xref": "x",
          "y0": 0,
          "y1": 1,
          "yref": "y2"
         },
         {
          "fillcolor": "#f05a71",
          "layer": "below",
          "line": {
           "width": 0
          },
          "opacity": 0.1,
          "type": "rect",
          "x0": -0.32372372372372377,
          "x1": -0.19999999999999996,
          "xref": "x",
          "y0": 0,
          "y1": 1,
          "yref": "y2"
         },
         {
          "fillcolor": "#c7f5bf",
          "layer": "below",
          "line": {
           "width": 0
          },
          "opacity": 0.1,
          "type": "rect",
          "x0": -0.19999999999999996,
          "x1": 0.25,
          "xref": "x",
          "y0": 0,
          "y1": 1,
          "yref": "y2"
         },
         {
          "line": {
           "color": "#371ea3",
           "width": 1.5
          },
          "type": "line",
          "x0": 0,
          "x1": 0,
          "xref": "x",
          "y0": 0,
          "y1": 1,
          "yref": "y2"
         },
         {
          "fillcolor": "#f05a71",
          "layer": "below",
          "line": {
           "width": 0
          },
          "opacity": 0.1,
          "type": "rect",
          "x0": 0.25,
          "x1": 0.9,
          "xref": "x",
          "y0": 0,
          "y1": 1,
          "yref": "y3"
         },
         {
          "fillcolor": "#f05a71",
          "layer": "below",
          "line": {
           "width": 0
          },
          "opacity": 0.1,
          "type": "rect",
          "x0": -0.32372372372372377,
          "x1": -0.19999999999999996,
          "xref": "x",
          "y0": 0,
          "y1": 1,
          "yref": "y3"
         },
         {
          "fillcolor": "#c7f5bf",
          "layer": "below",
          "line": {
           "width": 0
          },
          "opacity": 0.1,
          "type": "rect",
          "x0": -0.19999999999999996,
          "x1": 0.25,
          "xref": "x",
          "y0": 0,
          "y1": 1,
          "yref": "y3"
         },
         {
          "line": {
           "color": "#371ea3",
           "width": 1.5
          },
          "type": "line",
          "x0": 0,
          "x1": 0,
          "xref": "x",
          "y0": 0,
          "y1": 1,
          "yref": "y3"
         },
         {
          "fillcolor": "#f05a71",
          "layer": "below",
          "line": {
           "width": 0
          },
          "opacity": 0.1,
          "type": "rect",
          "x0": 0.25,
          "x1": 0.9,
          "xref": "x",
          "y0": 0,
          "y1": 1,
          "yref": "y4"
         },
         {
          "fillcolor": "#f05a71",
          "layer": "below",
          "line": {
           "width": 0
          },
          "opacity": 0.1,
          "type": "rect",
          "x0": -0.32372372372372377,
          "x1": -0.19999999999999996,
          "xref": "x",
          "y0": 0,
          "y1": 1,
          "yref": "y4"
         },
         {
          "fillcolor": "#c7f5bf",
          "layer": "below",
          "line": {
           "width": 0
          },
          "opacity": 0.1,
          "type": "rect",
          "x0": -0.19999999999999996,
          "x1": 0.25,
          "xref": "x",
          "y0": 0,
          "y1": 1,
          "yref": "y4"
         },
         {
          "line": {
           "color": "#371ea3",
           "width": 1.5
          },
          "type": "line",
          "x0": 0,
          "x1": 0,
          "xref": "x",
          "y0": 0,
          "y1": 1,
          "yref": "y4"
         },
         {
          "fillcolor": "#f05a71",
          "layer": "below",
          "line": {
           "width": 0
          },
          "opacity": 0.1,
          "type": "rect",
          "x0": 0.25,
          "x1": 0.9,
          "xref": "x",
          "y0": 0,
          "y1": 1,
          "yref": "y5"
         },
         {
          "fillcolor": "#f05a71",
          "layer": "below",
          "line": {
           "width": 0
          },
          "opacity": 0.1,
          "type": "rect",
          "x0": -0.32372372372372377,
          "x1": -0.19999999999999996,
          "xref": "x",
          "y0": 0,
          "y1": 1,
          "yref": "y5"
         },
         {
          "fillcolor": "#c7f5bf",
          "layer": "below",
          "line": {
           "width": 0
          },
          "opacity": 0.1,
          "type": "rect",
          "x0": -0.19999999999999996,
          "x1": 0.25,
          "xref": "x",
          "y0": 0,
          "y1": 1,
          "yref": "y5"
         },
         {
          "line": {
           "color": "#371ea3",
           "width": 1.5
          },
          "type": "line",
          "x0": 0,
          "x1": 0,
          "xref": "x",
          "y0": 0,
          "y1": 1,
          "yref": "y5"
         }
        ],
        "template": {
         "data": {
          "bar": [
           {
            "error_x": {
             "color": "#2a3f5f"
            },
            "error_y": {
             "color": "#2a3f5f"
            },
            "marker": {
             "line": {
              "color": "white",
              "width": 0.5
             },
             "pattern": {
              "fillmode": "overlay",
              "size": 10,
              "solidity": 0.2
             }
            },
            "type": "bar"
           }
          ],
          "barpolar": [
           {
            "marker": {
             "line": {
              "color": "white",
              "width": 0.5
             },
             "pattern": {
              "fillmode": "overlay",
              "size": 10,
              "solidity": 0.2
             }
            },
            "type": "barpolar"
           }
          ],
          "carpet": [
           {
            "aaxis": {
             "endlinecolor": "#2a3f5f",
             "gridcolor": "#C8D4E3",
             "linecolor": "#C8D4E3",
             "minorgridcolor": "#C8D4E3",
             "startlinecolor": "#2a3f5f"
            },
            "baxis": {
             "endlinecolor": "#2a3f5f",
             "gridcolor": "#C8D4E3",
             "linecolor": "#C8D4E3",
             "minorgridcolor": "#C8D4E3",
             "startlinecolor": "#2a3f5f"
            },
            "type": "carpet"
           }
          ],
          "choropleth": [
           {
            "colorbar": {
             "outlinewidth": 0,
             "ticks": ""
            },
            "type": "choropleth"
           }
          ],
          "contour": [
           {
            "colorbar": {
             "outlinewidth": 0,
             "ticks": ""
            },
            "colorscale": [
             [
              0,
              "#0d0887"
             ],
             [
              0.1111111111111111,
              "#46039f"
             ],
             [
              0.2222222222222222,
              "#7201a8"
             ],
             [
              0.3333333333333333,
              "#9c179e"
             ],
             [
              0.4444444444444444,
              "#bd3786"
             ],
             [
              0.5555555555555556,
              "#d8576b"
             ],
             [
              0.6666666666666666,
              "#ed7953"
             ],
             [
              0.7777777777777778,
              "#fb9f3a"
             ],
             [
              0.8888888888888888,
              "#fdca26"
             ],
             [
              1,
              "#f0f921"
             ]
            ],
            "type": "contour"
           }
          ],
          "contourcarpet": [
           {
            "colorbar": {
             "outlinewidth": 0,
             "ticks": ""
            },
            "type": "contourcarpet"
           }
          ],
          "heatmap": [
           {
            "colorbar": {
             "outlinewidth": 0,
             "ticks": ""
            },
            "colorscale": [
             [
              0,
              "#0d0887"
             ],
             [
              0.1111111111111111,
              "#46039f"
             ],
             [
              0.2222222222222222,
              "#7201a8"
             ],
             [
              0.3333333333333333,
              "#9c179e"
             ],
             [
              0.4444444444444444,
              "#bd3786"
             ],
             [
              0.5555555555555556,
              "#d8576b"
             ],
             [
              0.6666666666666666,
              "#ed7953"
             ],
             [
              0.7777777777777778,
              "#fb9f3a"
             ],
             [
              0.8888888888888888,
              "#fdca26"
             ],
             [
              1,
              "#f0f921"
             ]
            ],
            "type": "heatmap"
           }
          ],
          "heatmapgl": [
           {
            "colorbar": {
             "outlinewidth": 0,
             "ticks": ""
            },
            "colorscale": [
             [
              0,
              "#0d0887"
             ],
             [
              0.1111111111111111,
              "#46039f"
             ],
             [
              0.2222222222222222,
              "#7201a8"
             ],
             [
              0.3333333333333333,
              "#9c179e"
             ],
             [
              0.4444444444444444,
              "#bd3786"
             ],
             [
              0.5555555555555556,
              "#d8576b"
             ],
             [
              0.6666666666666666,
              "#ed7953"
             ],
             [
              0.7777777777777778,
              "#fb9f3a"
             ],
             [
              0.8888888888888888,
              "#fdca26"
             ],
             [
              1,
              "#f0f921"
             ]
            ],
            "type": "heatmapgl"
           }
          ],
          "histogram": [
           {
            "marker": {
             "pattern": {
              "fillmode": "overlay",
              "size": 10,
              "solidity": 0.2
             }
            },
            "type": "histogram"
           }
          ],
          "histogram2d": [
           {
            "colorbar": {
             "outlinewidth": 0,
             "ticks": ""
            },
            "colorscale": [
             [
              0,
              "#0d0887"
             ],
             [
              0.1111111111111111,
              "#46039f"
             ],
             [
              0.2222222222222222,
              "#7201a8"
             ],
             [
              0.3333333333333333,
              "#9c179e"
             ],
             [
              0.4444444444444444,
              "#bd3786"
             ],
             [
              0.5555555555555556,
              "#d8576b"
             ],
             [
              0.6666666666666666,
              "#ed7953"
             ],
             [
              0.7777777777777778,
              "#fb9f3a"
             ],
             [
              0.8888888888888888,
              "#fdca26"
             ],
             [
              1,
              "#f0f921"
             ]
            ],
            "type": "histogram2d"
           }
          ],
          "histogram2dcontour": [
           {
            "colorbar": {
             "outlinewidth": 0,
             "ticks": ""
            },
            "colorscale": [
             [
              0,
              "#0d0887"
             ],
             [
              0.1111111111111111,
              "#46039f"
             ],
             [
              0.2222222222222222,
              "#7201a8"
             ],
             [
              0.3333333333333333,
              "#9c179e"
             ],
             [
              0.4444444444444444,
              "#bd3786"
             ],
             [
              0.5555555555555556,
              "#d8576b"
             ],
             [
              0.6666666666666666,
              "#ed7953"
             ],
             [
              0.7777777777777778,
              "#fb9f3a"
             ],
             [
              0.8888888888888888,
              "#fdca26"
             ],
             [
              1,
              "#f0f921"
             ]
            ],
            "type": "histogram2dcontour"
           }
          ],
          "mesh3d": [
           {
            "colorbar": {
             "outlinewidth": 0,
             "ticks": ""
            },
            "type": "mesh3d"
           }
          ],
          "parcoords": [
           {
            "line": {
             "colorbar": {
              "outlinewidth": 0,
              "ticks": ""
             }
            },
            "type": "parcoords"
           }
          ],
          "pie": [
           {
            "automargin": true,
            "type": "pie"
           }
          ],
          "scatter": [
           {
            "fillpattern": {
             "fillmode": "overlay",
             "size": 10,
             "solidity": 0.2
            },
            "type": "scatter"
           }
          ],
          "scatter3d": [
           {
            "line": {
             "colorbar": {
              "outlinewidth": 0,
              "ticks": ""
             }
            },
            "marker": {
             "colorbar": {
              "outlinewidth": 0,
              "ticks": ""
             }
            },
            "type": "scatter3d"
           }
          ],
          "scattercarpet": [
           {
            "marker": {
             "colorbar": {
              "outlinewidth": 0,
              "ticks": ""
             }
            },
            "type": "scattercarpet"
           }
          ],
          "scattergeo": [
           {
            "marker": {
             "colorbar": {
              "outlinewidth": 0,
              "ticks": ""
             }
            },
            "type": "scattergeo"
           }
          ],
          "scattergl": [
           {
            "marker": {
             "colorbar": {
              "outlinewidth": 0,
              "ticks": ""
             }
            },
            "type": "scattergl"
           }
          ],
          "scattermapbox": [
           {
            "marker": {
             "colorbar": {
              "outlinewidth": 0,
              "ticks": ""
             }
            },
            "type": "scattermapbox"
           }
          ],
          "scatterpolar": [
           {
            "marker": {
             "colorbar": {
              "outlinewidth": 0,
              "ticks": ""
             }
            },
            "type": "scatterpolar"
           }
          ],
          "scatterpolargl": [
           {
            "marker": {
             "colorbar": {
              "outlinewidth": 0,
              "ticks": ""
             }
            },
            "type": "scatterpolargl"
           }
          ],
          "scatterternary": [
           {
            "marker": {
             "colorbar": {
              "outlinewidth": 0,
              "ticks": ""
             }
            },
            "type": "scatterternary"
           }
          ],
          "surface": [
           {
            "colorbar": {
             "outlinewidth": 0,
             "ticks": ""
            },
            "colorscale": [
             [
              0,
              "#0d0887"
             ],
             [
              0.1111111111111111,
              "#46039f"
             ],
             [
              0.2222222222222222,
              "#7201a8"
             ],
             [
              0.3333333333333333,
              "#9c179e"
             ],
             [
              0.4444444444444444,
              "#bd3786"
             ],
             [
              0.5555555555555556,
              "#d8576b"
             ],
             [
              0.6666666666666666,
              "#ed7953"
             ],
             [
              0.7777777777777778,
              "#fb9f3a"
             ],
             [
              0.8888888888888888,
              "#fdca26"
             ],
             [
              1,
              "#f0f921"
             ]
            ],
            "type": "surface"
           }
          ],
          "table": [
           {
            "cells": {
             "fill": {
              "color": "#EBF0F8"
             },
             "line": {
              "color": "white"
             }
            },
            "header": {
             "fill": {
              "color": "#C8D4E3"
             },
             "line": {
              "color": "white"
             }
            },
            "type": "table"
           }
          ]
         },
         "layout": {
          "annotationdefaults": {
           "arrowcolor": "#2a3f5f",
           "arrowhead": 0,
           "arrowwidth": 1
          },
          "autotypenumbers": "strict",
          "coloraxis": {
           "colorbar": {
            "outlinewidth": 0,
            "ticks": ""
           }
          },
          "colorscale": {
           "diverging": [
            [
             0,
             "#8e0152"
            ],
            [
             0.1,
             "#c51b7d"
            ],
            [
             0.2,
             "#de77ae"
            ],
            [
             0.3,
             "#f1b6da"
            ],
            [
             0.4,
             "#fde0ef"
            ],
            [
             0.5,
             "#f7f7f7"
            ],
            [
             0.6,
             "#e6f5d0"
            ],
            [
             0.7,
             "#b8e186"
            ],
            [
             0.8,
             "#7fbc41"
            ],
            [
             0.9,
             "#4d9221"
            ],
            [
             1,
             "#276419"
            ]
           ],
           "sequential": [
            [
             0,
             "#0d0887"
            ],
            [
             0.1111111111111111,
             "#46039f"
            ],
            [
             0.2222222222222222,
             "#7201a8"
            ],
            [
             0.3333333333333333,
             "#9c179e"
            ],
            [
             0.4444444444444444,
             "#bd3786"
            ],
            [
             0.5555555555555556,
             "#d8576b"
            ],
            [
             0.6666666666666666,
             "#ed7953"
            ],
            [
             0.7777777777777778,
             "#fb9f3a"
            ],
            [
             0.8888888888888888,
             "#fdca26"
            ],
            [
             1,
             "#f0f921"
            ]
           ],
           "sequentialminus": [
            [
             0,
             "#0d0887"
            ],
            [
             0.1111111111111111,
             "#46039f"
            ],
            [
             0.2222222222222222,
             "#7201a8"
            ],
            [
             0.3333333333333333,
             "#9c179e"
            ],
            [
             0.4444444444444444,
             "#bd3786"
            ],
            [
             0.5555555555555556,
             "#d8576b"
            ],
            [
             0.6666666666666666,
             "#ed7953"
            ],
            [
             0.7777777777777778,
             "#fb9f3a"
            ],
            [
             0.8888888888888888,
             "#fdca26"
            ],
            [
             1,
             "#f0f921"
            ]
           ]
          },
          "colorway": [
           "#636efa",
           "#EF553B",
           "#00cc96",
           "#ab63fa",
           "#FFA15A",
           "#19d3f3",
           "#FF6692",
           "#B6E880",
           "#FF97FF",
           "#FECB52"
          ],
          "font": {
           "color": "#2a3f5f"
          },
          "geo": {
           "bgcolor": "white",
           "lakecolor": "white",
           "landcolor": "white",
           "showlakes": true,
           "showland": true,
           "subunitcolor": "#C8D4E3"
          },
          "hoverlabel": {
           "align": "left"
          },
          "hovermode": "closest",
          "mapbox": {
           "style": "light"
          },
          "paper_bgcolor": "white",
          "plot_bgcolor": "white",
          "polar": {
           "angularaxis": {
            "gridcolor": "#EBF0F8",
            "linecolor": "#EBF0F8",
            "ticks": ""
           },
           "bgcolor": "white",
           "radialaxis": {
            "gridcolor": "#EBF0F8",
            "linecolor": "#EBF0F8",
            "ticks": ""
           }
          },
          "scene": {
           "xaxis": {
            "backgroundcolor": "white",
            "gridcolor": "#DFE8F3",
            "gridwidth": 2,
            "linecolor": "#EBF0F8",
            "showbackground": true,
            "ticks": "",
            "zerolinecolor": "#EBF0F8"
           },
           "yaxis": {
            "backgroundcolor": "white",
            "gridcolor": "#DFE8F3",
            "gridwidth": 2,
            "linecolor": "#EBF0F8",
            "showbackground": true,
            "ticks": "",
            "zerolinecolor": "#EBF0F8"
           },
           "zaxis": {
            "backgroundcolor": "white",
            "gridcolor": "#DFE8F3",
            "gridwidth": 2,
            "linecolor": "#EBF0F8",
            "showbackground": true,
            "ticks": "",
            "zerolinecolor": "#EBF0F8"
           }
          },
          "shapedefaults": {
           "line": {
            "color": "#2a3f5f"
           }
          },
          "ternary": {
           "aaxis": {
            "gridcolor": "#DFE8F3",
            "linecolor": "#A2B1C6",
            "ticks": ""
           },
           "baxis": {
            "gridcolor": "#DFE8F3",
            "linecolor": "#A2B1C6",
            "ticks": ""
           },
           "bgcolor": "white",
           "caxis": {
            "gridcolor": "#DFE8F3",
            "linecolor": "#A2B1C6",
            "ticks": ""
           }
          },
          "title": {
           "x": 0.05
          },
          "xaxis": {
           "automargin": true,
           "gridcolor": "#EBF0F8",
           "linecolor": "#EBF0F8",
           "ticks": "",
           "title": {
            "standoff": 15
           },
           "zerolinecolor": "#EBF0F8",
           "zerolinewidth": 2
          },
          "yaxis": {
           "automargin": true,
           "gridcolor": "#EBF0F8",
           "linecolor": "#EBF0F8",
           "ticks": "",
           "title": {
            "standoff": 15
           },
           "zerolinecolor": "#EBF0F8",
           "zerolinewidth": 2
          }
         }
        },
        "title": {
         "font": {
          "size": 25
         },
         "text": "Fairness Check",
         "x": 0.5,
         "y": 0.99
        },
        "xaxis": {
         "anchor": "y",
         "domain": [
          0,
          1
         ],
         "range": [
          -0.32372372372372377,
          0.9
         ],
         "ticktext": [
          0.6,
          0.8,
          1,
          1.2,
          1.4,
          1.6,
          1.8,
          1
         ],
         "tickvals": [
          -0.4,
          -0.19999999999999996,
          0,
          0.19999999999999996,
          0.3999999999999999,
          0.6000000000000001,
          0.8,
          0
         ],
         "title": {
          "text": "score"
         }
        },
        "xaxis2": {
         "anchor": "y2",
         "domain": [
          0,
          1
         ],
         "matches": "x",
         "range": [
          -0.32372372372372377,
          0.9
         ],
         "showticklabels": false,
         "ticktext": [
          0.6,
          0.8,
          1,
          1.2,
          1.4,
          1.6,
          1.8,
          1
         ],
         "tickvals": [
          -0.4,
          -0.19999999999999996,
          0,
          0.19999999999999996,
          0.3999999999999999,
          0.6000000000000001,
          0.8,
          0
         ]
        },
        "xaxis3": {
         "anchor": "y3",
         "domain": [
          0,
          1
         ],
         "matches": "x",
         "range": [
          -0.32372372372372377,
          0.9
         ],
         "showticklabels": false,
         "ticktext": [
          0.6,
          0.8,
          1,
          1.2,
          1.4,
          1.6,
          1.8,
          1
         ],
         "tickvals": [
          -0.4,
          -0.19999999999999996,
          0,
          0.19999999999999996,
          0.3999999999999999,
          0.6000000000000001,
          0.8,
          0
         ]
        },
        "xaxis4": {
         "anchor": "y4",
         "domain": [
          0,
          1
         ],
         "matches": "x",
         "range": [
          -0.32372372372372377,
          0.9
         ],
         "showticklabels": false,
         "ticktext": [
          0.6,
          0.8,
          1,
          1.2,
          1.4,
          1.6,
          1.8,
          1
         ],
         "tickvals": [
          -0.4,
          -0.19999999999999996,
          0,
          0.19999999999999996,
          0.3999999999999999,
          0.6000000000000001,
          0.8,
          0
         ]
        },
        "xaxis5": {
         "anchor": "y5",
         "domain": [
          0,
          1
         ],
         "matches": "x",
         "range": [
          -0.32372372372372377,
          0.9
         ],
         "showticklabels": false,
         "ticktext": [
          0.6,
          0.8,
          1,
          1.2,
          1.4,
          1.6,
          1.8,
          1
         ],
         "tickvals": [
          -0.4,
          -0.19999999999999996,
          0,
          0.19999999999999996,
          0.3999999999999999,
          0.6000000000000001,
          0.8,
          0
         ]
        },
        "yaxis": {
         "anchor": "x",
         "domain": [
          0,
          0.144
         ],
         "range": [
          0,
          1
         ],
         "showgrid": false,
         "ticktext": [
          "young"
         ],
         "tickvals": [
          0.5
         ],
         "title": {
          "text": ""
         },
         "zeroline": false
        },
        "yaxis2": {
         "anchor": "x2",
         "domain": [
          0.214,
          0.358
         ],
         "matches": "y",
         "range": [
          0,
          1
         ],
         "showgrid": false,
         "ticktext": [
          "young"
         ],
         "tickvals": [
          0.5
         ],
         "title": {
          "text": ""
         },
         "zeroline": false
        },
        "yaxis3": {
         "anchor": "x3",
         "domain": [
          0.428,
          0.572
         ],
         "matches": "y",
         "range": [
          0,
          1
         ],
         "showgrid": false,
         "ticktext": [
          "young"
         ],
         "tickvals": [
          0.5
         ],
         "title": {
          "text": "subgroup"
         },
         "zeroline": false
        },
        "yaxis4": {
         "anchor": "x4",
         "domain": [
          0.6419999999999999,
          0.7859999999999999
         ],
         "matches": "y",
         "range": [
          0,
          1
         ],
         "showgrid": false,
         "ticktext": [
          "young"
         ],
         "tickvals": [
          0.5
         ],
         "title": {
          "text": ""
         },
         "zeroline": false
        },
        "yaxis5": {
         "anchor": "x5",
         "domain": [
          0.856,
          1
         ],
         "matches": "y",
         "range": [
          0,
          1
         ],
         "showgrid": false,
         "ticktext": [
          "young"
         ],
         "tickvals": [
          0.5
         ],
         "title": {
          "text": ""
         },
         "zeroline": false
        }
       }
      }
     },
     "metadata": {},
     "output_type": "display_data"
    }
   ],
   "source": [
    "exp3 = dx.Explainer(clf_u, X_test, y_test, verbose = False)\n",
    "exp4 = dx.Explainer(clf_p, X_test, y_test, verbose = False)\n",
    "\n",
    "mf_u = exp3.model_fairness(protected=protected, privileged=privileged, label=\"uniform\")\n",
    "mf_p = exp4.model_fairness(protected=protected, privileged=privileged, label=\"preferential\")\n",
    "\n",
    "mf_u.plot([mf_p])"
   ]
  },
  {
   "cell_type": "code",
   "execution_count": 564,
   "metadata": {},
   "outputs": [
    {
     "name": "stdout",
     "output_type": "stream",
     "text": [
      "Bias detected in 4 metrics: TPR, ACC, PPV, FPR\n",
      "\n",
      "Conclusion: your model is not fair because 2 or more criteria exceeded acceptable limits set by epsilon.\n",
      "\n",
      "Ratios of metrics, based on 'old'. Parameter 'epsilon' was set to 0.8 and therefore metrics should be within (0.8, 1.25)\n",
      "            TPR       ACC    PPV       FPR       STP\n",
      "young  1.829333  1.389414  1.272  0.705706  1.144476\n",
      "Bias detected in 4 metrics: TPR, ACC, PPV, FPR\n",
      "\n",
      "Conclusion: your model is not fair because 2 or more criteria exceeded acceptable limits set by epsilon.\n",
      "\n",
      "Ratios of metrics, based on 'old'. Parameter 'epsilon' was set to 0.8 and therefore metrics should be within (0.8, 1.25)\n",
      "            TPR       ACC    PPV       FPR       STP\n",
      "young  1.829333  1.389414  1.272  0.705706  1.144476\n"
     ]
    }
   ],
   "source": [
    "mf_u.fairness_check()\n",
    "mf_p.fairness_check()"
   ]
  }
 ],
 "metadata": {
  "kernelspec": {
   "display_name": "Python 3",
   "language": "python",
   "name": "python3"
  },
  "language_info": {
   "codemirror_mode": {
    "name": "ipython",
    "version": 3
   },
   "file_extension": ".py",
   "mimetype": "text/x-python",
   "name": "python",
   "nbconvert_exporter": "python",
   "pygments_lexer": "ipython3",
   "version": "3.10.6"
  },
  "orig_nbformat": 4
 },
 "nbformat": 4,
 "nbformat_minor": 2
}
